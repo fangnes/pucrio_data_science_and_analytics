{
  "nbformat": 4,
  "nbformat_minor": 0,
  "metadata": {
    "colab": {
      "provenance": [],
      "authorship_tag": "ABX9TyMCMTBo8lj5K/Gjn15l3EQc",
      "include_colab_link": true
    },
    "kernelspec": {
      "name": "python3",
      "display_name": "Python 3"
    },
    "language_info": {
      "name": "python"
    }
  },
  "cells": [
    {
      "cell_type": "markdown",
      "metadata": {
        "id": "view-in-github",
        "colab_type": "text"
      },
      "source": [
        "<a href=\"https://colab.research.google.com/github/fangnes/pucrio_data_science_and_analytics/blob/main/MVP%20-%20Machine%20Learning%20%26%20Analytics.ipynb\" target=\"_parent\"><img src=\"https://colab.research.google.com/assets/colab-badge.svg\" alt=\"Open In Colab\"/></a>"
      ]
    },
    {
      "cell_type": "markdown",
      "source": [
        "Notebook teste para integração com github"
      ],
      "metadata": {
        "id": "UXau38OTI13e"
      }
    },
    {
      "cell_type": "markdown",
      "source": [
        "Testando commit"
      ],
      "metadata": {
        "id": "AkXXgRdKh5Ld"
      }
    }
  ]
}