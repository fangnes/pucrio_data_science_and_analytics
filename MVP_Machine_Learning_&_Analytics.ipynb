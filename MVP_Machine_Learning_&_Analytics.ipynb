{
  "cells": [
    {
      "cell_type": "markdown",
      "metadata": {
        "id": "view-in-github",
        "colab_type": "text"
      },
      "source": [
        "<a href=\"https://colab.research.google.com/github/fangnes/pucrio_data_science_and_analytics/blob/main/MVP_Machine_Learning_%26_Analytics.ipynb\" target=\"_parent\"><img src=\"https://colab.research.google.com/assets/colab-badge.svg\" alt=\"Open In Colab\"/></a>"
      ]
    },
    {
      "cell_type": "markdown",
      "metadata": {
        "id": "YOxT7gHqGLu7"
      },
      "source": [
        "<h1 style=\"text-align:center\">Pontifícia Universidade Católica do Rio de Janeiro</h1>\n",
        "\n"
      ]
    },
    {
      "cell_type": "markdown",
      "metadata": {
        "id": "uHQfTijBGDU6"
      },
      "source": [
        "<h1 style=\"text-align:center\">Machine Learning & Analytics MPV</h1>"
      ]
    },
    {
      "cell_type": "markdown",
      "metadata": {
        "id": "Rn2gT7x4GD_P"
      },
      "source": [
        "Professors:\n",
        "*   Tatiana Escovedo\n",
        "*   Hugo Villamizar\n",
        "*   Augusto Baffa\n",
        "*   Luiz Schirmer\n",
        "*   Patrick Happ"
      ]
    },
    {
      "cell_type": "markdown",
      "metadata": {
        "id": "WpBEWbdGGGqd"
      },
      "source": [
        "Author: Felipe da Silva Angnes"
      ]
    },
    {
      "cell_type": "markdown",
      "metadata": {
        "id": "qVxT2ZcgEN9W"
      },
      "source": [
        "# 1. Introduction"
      ]
    },
    {
      "cell_type": "markdown",
      "metadata": {
        "id": "E8t4gLLhGlHZ"
      },
      "source": [
        "The present document aims to describe the process executed during the minimum viable product (MVP) development as the final work for the Machine Learning & Analytics discipline, which is the first module of my Data Science and Analytics specialization at Pontifícia Universidade Católica do Rio de Janeiro (PUC-RJ)."
      ]
    },
    {
      "cell_type": "markdown",
      "metadata": {
        "id": "F6EeNqhMJ4z_"
      },
      "source": [
        "This work presents the development of a machine learning model for a classification problem and is structured as follows: in section 2 we present the problem definition, dataset structure and assumptions; in section 3 we prepare this notebook and the dataset for model development; section 4 comprises the modeling and training process; and in section 5 we present the results analysis and the model selected to solve the problem."
      ]
    },
    {
      "cell_type": "markdown",
      "metadata": {
        "id": "jrV_eJPANarV"
      },
      "source": [
        "# 2. Problem Definition"
      ]
    },
    {
      "cell_type": "markdown",
      "metadata": {
        "id": "V_DxbngjNd2_"
      },
      "source": [
        "The dataset selected for this work is available in the University of California, Irvine (UC Irvine) Machine Learning Repository through this [link](https://archive.ics.uci.edu/dataset/45/heart+disease). The dataset is licensed under a [Creative Commons Attribution 4.0 Internacional](https://creativecommons.org/licenses/by/4.0/legalcode) (CC BY 4.0) license and it was created by Andras Janosi, William Steinbrunn, Matthias Pfisterer and Robert Detrano."
      ]
    },
    {
      "cell_type": "markdown",
      "metadata": {
        "id": "R39rv3LJVp3c"
      },
      "source": [
        "The dataset contains several informations regarding the health of patients who have heart disease or are likely to have it. The goal of this dataset is to determine if the patient have a heart disease or not. Therefore, we are working on a classification problem. Originally, the dataset is made of 76 attributes, but the creators states in the dataset information that all published experiments refer to using a subset of 14 of them, including the target. So when we load the dataset it already comes with just the 14 referred attributes. Also, the target value is an integer valued from 0 (no presence) to 4, where values 1, 2, 3 and 4 indicates presence of heart disease, but the dataset's authors states that experiments with this dataset are mainly focused on simply attempting to distinguish presence from absence."
      ]
    },
    {
      "cell_type": "markdown",
      "metadata": {
        "id": "5oVs0GwbZSHK"
      },
      "source": [
        "The structure of the dataset is, as stated before, 14 columns and 303 instances. The table below presents the 14 attributes and its description:\n",
        "\n",
        "##Table 1: dataset structure <a id=\"table-1\"></a>\n",
        "|Attribute|Role   |Type       |Units|Missing Values|Description                                        |Values|\n",
        "|---------|-------|-----------|-----|--------------|---------------------------------------------------|------|\n",
        "|age      |Feature|Integer    |years|no            |Patient's age                                      ||\n",
        "|sex      |Feature|Categorical|     |no            |Patient's sex                                      |0 = female <br> 1 = male|\n",
        "|cp       |Feature|Categorical|     |no            |Chest pain type                                        |1 = typical angina <br> 2 = atypical angina <br> 3 = non-anginal pain <br> 4 = asymptomatic|\n",
        "|trestbps |Feature|Integer    |mmHg |no            |Resting blood pressure on admission to the hospital||\n",
        "|chol     |Feature|Integer    |mg/dl|no            |Serum cholestoral                                  ||\n",
        "|fbs      |Feature|Categorical|     |no            |Fasting blood sugar > 120 mg/dl                    |0 = false <br> 1 = true|\n",
        "|restecg  |Feature|Categorical|     |no            |Resting electrocardiographic results               |0 = normal <br> 1 = having ST-T wave abnormality (T wave inversions and/or ST elevation or depression of > 0.05 mV) <br> 2 = showing probable or definite left ventricular hypertrophy by Estes' criteria|\n",
        "|thalach  |Feature|Integer    |     |no            |Maximum heart rate achieved                        ||\n",
        "|exang    |Feature|Categorical|     |no            |Exercise induced angina                            |0 = no <br> 1 = yes|\n",
        "|oldpeak  |Feature|Integer    |     |no            |ST depression induced by exercise relative to rest ||\n",
        "|slope    |Feature|Categorical|     |no            |The slope of the peak exercise ST segment          |1 = upsloping <br> 2 = flat <br> 3 = downsloping|\n",
        "|ca       |Feature|Integer    |     |yes           |Number of major vessels colored by flourosopy      |0 to 3|\n",
        "|thal     |Feature|Categorical|     |yes           |                                                   |3 = normal <br> 6 = fixed defect <br> 7 = reversable defect|\n",
        "|num      |Target |Integer    |     |no            |Diagnosis of heart disease                         |0 = don't have heart disease <br> 1 = have heart disease|\n"
      ]
    },
    {
      "cell_type": "markdown",
      "metadata": {
        "id": "-U5sBlWG-j0D"
      },
      "source": [
        "The integer attributes are continuous measures from the patients, so its values varies according to each particular case."
      ]
    },
    {
      "cell_type": "markdown",
      "metadata": {
        "id": "d42JH2MUu327"
      },
      "source": [
        "#3. Dataset Preparation"
      ]
    },
    {
      "cell_type": "markdown",
      "metadata": {
        "id": "5gCYDdBHu7po"
      },
      "source": [
        "In this section we present the notebook setup and the dataset preparation."
      ]
    },
    {
      "cell_type": "markdown",
      "metadata": {
        "id": "6MVOpi6nPTlA"
      },
      "source": [
        "##3.1. Notebook Configuration"
      ]
    },
    {
      "cell_type": "markdown",
      "metadata": {
        "id": "e4zBLO2S9fK_"
      },
      "source": [
        "###3.1.1 Installing Packages"
      ]
    },
    {
      "cell_type": "markdown",
      "metadata": {
        "id": "4VyT-7rYBgUw"
      },
      "source": [
        "To install the packages needed for this work, we will use the Preferred Installer Program (aka PIP Installs Package), which is a command-line utility that installs, reinstalls or uninstalls PyPI (Python Package Index) packages through the command `pip`."
      ]
    },
    {
      "cell_type": "markdown",
      "metadata": {
        "id": "-OBozz6sAge7"
      },
      "source": [
        "We will use the `pandas` package to manipulate the dataset according to our needs, so here we ensure that it is available in this notebook."
      ]
    },
    {
      "cell_type": "code",
      "execution_count": 142,
      "metadata": {
        "colab": {
          "base_uri": "https://localhost:8080/"
        },
        "id": "RsPGInpPU4MH",
        "outputId": "c1ab2892-6179-4db0-be9f-f709df35e7db"
      },
      "outputs": [
        {
          "output_type": "stream",
          "name": "stdout",
          "text": [
            "Requirement already satisfied: pandas in /usr/local/lib/python3.10/dist-packages (2.0.3)\n",
            "Requirement already satisfied: python-dateutil>=2.8.2 in /usr/local/lib/python3.10/dist-packages (from pandas) (2.8.2)\n",
            "Requirement already satisfied: pytz>=2020.1 in /usr/local/lib/python3.10/dist-packages (from pandas) (2023.4)\n",
            "Requirement already satisfied: tzdata>=2022.1 in /usr/local/lib/python3.10/dist-packages (from pandas) (2024.1)\n",
            "Requirement already satisfied: numpy>=1.21.0 in /usr/local/lib/python3.10/dist-packages (from pandas) (1.25.2)\n",
            "Requirement already satisfied: six>=1.5 in /usr/local/lib/python3.10/dist-packages (from python-dateutil>=2.8.2->pandas) (1.16.0)\n"
          ]
        }
      ],
      "source": [
        "!pip install pandas"
      ]
    },
    {
      "cell_type": "markdown",
      "metadata": {
        "id": "a4NJZIlKAvcP"
      },
      "source": [
        "In order to load the dataset from the UC Irvine Machine Learning Repository, it is required to install the `ucimlrepo` package."
      ]
    },
    {
      "cell_type": "code",
      "execution_count": 143,
      "metadata": {
        "colab": {
          "base_uri": "https://localhost:8080/"
        },
        "id": "RoEJIpOURlfN",
        "outputId": "f4079fcf-6b90-478e-ef63-8496b9c033fc"
      },
      "outputs": [
        {
          "output_type": "stream",
          "name": "stdout",
          "text": [
            "Requirement already satisfied: ucimlrepo in /usr/local/lib/python3.10/dist-packages (0.0.6)\n",
            "\u001b[31mERROR: Operation cancelled by user\u001b[0m\u001b[31m\n",
            "\u001b[0m"
          ]
        }
      ],
      "source": [
        "!pip install ucimlrepo"
      ]
    },
    {
      "cell_type": "markdown",
      "metadata": {
        "id": "izHxdx6R9ixT"
      },
      "source": [
        "###3.1.2 Importing Packages and Libraries"
      ]
    },
    {
      "cell_type": "markdown",
      "metadata": {
        "id": "rQy3I9DmEyGA"
      },
      "source": [
        "Here we import all necessary libraries and packages. The corresponding utitlity for this work is in the comments at the same line."
      ]
    },
    {
      "cell_type": "code",
      "execution_count": 144,
      "metadata": {
        "id": "iR-r6E_4PX4a"
      },
      "outputs": [],
      "source": [
        "import datetime\n",
        "init_timestamp = datetime.datetime.now()\n",
        "\n",
        "# Utils packages\n",
        "import warnings                                         # To ignore warnings\n",
        "import pandas as pd                                     # To load and manipulate the dataset\n",
        "import numpy as np                                      # For numeric operations, arrays and matrix processing\n",
        "from ucimlrepo import fetch_ucirepo                     # To load the dataset from UCI Irvine\n",
        "\n",
        "# Plot\n",
        "import matplotlib.pyplot as plt                         # To plot results and analysis\n",
        "# import seaborn as sns                                 # TBD: to be deleted\n",
        "\n",
        "# Model selection\n",
        "from sklearn.model_selection import train_test_split    # To split the dataset into train and test subset\n",
        "from sklearn.model_selection import StratifiedKFold     # To perform the stratified holdout\n",
        "from sklearn.model_selection import cross_val_score     # To perform the cross validation\n",
        "from sklearn.model_selection import GridSearchCV        # To perform feature selection through exhaustive search\n",
        "\n",
        "# Pipelines\n",
        "from sklearn.pipeline import Pipeline                   # To build a composite estimator\n",
        "\n",
        "# Preprocessing\n",
        "from sklearn.preprocessing import StandardScaler        # For data standardization\n",
        "from sklearn.preprocessing import MinMaxScaler          # For data normalization\n",
        "\n",
        "# Models\n",
        "from sklearn.linear_model import LogisticRegression     # Logistic regression algorithm\n",
        "from sklearn.neighbors import KNeighborsClassifier      # KNN algorithm\n",
        "from sklearn.tree import DecisionTreeClassifier         # Decision tree algorithm\n",
        "from sklearn.naive_bayes import GaussianNB              # Naive Bayes algorithm\n",
        "from sklearn.svm import SVC                             # Support machine vectors algorithm\n",
        "\n",
        "# Ensambles\n",
        "## Bagging\n",
        "from sklearn.ensemble import BaggingClassifier          # Bagging classifier ensamble algorithm\n",
        "from sklearn.ensemble import RandomForestClassifier     # Random forest classifier ensamble algorithm\n",
        "from sklearn.ensemble import ExtraTreesClassifier       # Extra trees classifier ensamble algorithm\n",
        "\n",
        "## Voting\n",
        "from sklearn.ensemble import VotingClassifier           # Voting classifier ensamble algorithm\n",
        "\n",
        "## Boosting\n",
        "from sklearn.ensemble import AdaBoostClassifier         # Adaboost classifier ensamble algorithm\n",
        "from sklearn.ensemble import GradientBoostingClassifier # Gradient boost classifier ensable algorithm\n",
        "\n",
        "# Feature seletcion\n",
        "from sklearn.feature_selection import SelectKBest       # For univariate selection\n",
        "from sklearn.feature_selection import f_classif         # For univariate selection ANOVA test\n",
        "from sklearn.feature_selection import RFE               # For recursive feature elimination\n",
        "\n",
        "# Metrics\n",
        "from sklearn.metrics import recall_score                # To evaluate the models"
      ]
    },
    {
      "cell_type": "markdown",
      "metadata": {
        "id": "nAh9aZDvQT5G"
      },
      "source": [
        "###3.1.3 Global Variables"
      ]
    },
    {
      "cell_type": "markdown",
      "metadata": {
        "id": "pmbL9Ao9KqzC"
      },
      "source": [
        "Here we define values that will be used across the notebook into variables."
      ]
    },
    {
      "cell_type": "markdown",
      "metadata": {
        "id": "-_D01jIy3Wa7"
      },
      "source": [
        "As we are working on a heart disease problem, our goal is to minimize the false negatives results of our model. Therefore, the chosen evaluation metric for this work is the **recall**, which will help us to achieve this objective."
      ]
    },
    {
      "cell_type": "code",
      "execution_count": 145,
      "metadata": {
        "id": "NipqC7NAQWER"
      },
      "outputs": [],
      "source": [
        "seed = 21           # Random seed to ensure reproducibility\n",
        "scoring = 'recall'  # The chosen evaluation metric\n",
        "target_index = 13   # Target index in the dataframe\n",
        "num_features = 13   # Number of features in the dataset*\n",
        "num_trees = 100     # Number of trees to be set in ensambles\n",
        "test_size = 0.2     # We will leave 20% of the dataset for testing\n",
        "max_features = 8    # Number of features for trees algorithms when looking for the best split\n",
        "max_iter = 200      # Maximum number of itreations to be used in logistic regression classifier"
      ]
    },
    {
      "cell_type": "markdown",
      "metadata": {
        "id": "gGL4raLoNeKD"
      },
      "source": [
        "\\*Since we will, later in this notebook, extract a `numpy.ndarray` with all values of our dataframe, we need to access a slice of elements that corresponds to our features, and access the target value stand alone. The `numpy.ndarray` syntax for indexing and slicing is `array[start:stop:step]` where the `start` is the starting index (inclusive), the `stop` is the ending index (**exclusive**) and the `step` is the step or stride between elements. Therefore, in order to get the 13 features (index 0 to 12) we need to set our `stop` index to 13. But, if we access just one index, for example to access the target column, we can set the exact index that we need. This is why the variables `num_features` and `target_index` have the same value."
      ]
    },
    {
      "cell_type": "markdown",
      "metadata": {
        "id": "683tORJjTcNS"
      },
      "source": [
        "###3.1.4 Notebook Settings"
      ]
    },
    {
      "cell_type": "markdown",
      "metadata": {
        "id": "bceryQQlT6dM"
      },
      "source": [
        "Here we disable the warnings messages and set the `numpy` seed."
      ]
    },
    {
      "cell_type": "code",
      "execution_count": 146,
      "metadata": {
        "id": "mp86GtHfD5iU"
      },
      "outputs": [],
      "source": [
        "warnings.filterwarnings('ignore')"
      ]
    },
    {
      "cell_type": "code",
      "execution_count": 147,
      "metadata": {
        "id": "BCwlpjbeRfTq"
      },
      "outputs": [],
      "source": [
        "np.random.seed(seed)"
      ]
    },
    {
      "cell_type": "markdown",
      "metadata": {
        "id": "9kTM7hmXvHun"
      },
      "source": [
        "###3.1.5 Utils"
      ]
    },
    {
      "cell_type": "markdown",
      "metadata": {
        "id": "XuU9vtIcVYbl"
      },
      "source": [
        "In this section we define some functions to avoid code duplicity and improve readability."
      ]
    },
    {
      "cell_type": "markdown",
      "metadata": {
        "id": "qAmNuuVaXsJ9"
      },
      "source": [
        "####3.1.5.1 Plot Evaluation Metric Infos"
      ]
    },
    {
      "cell_type": "code",
      "execution_count": 148,
      "metadata": {
        "id": "0TxVfGWfvLKm"
      },
      "outputs": [],
      "source": [
        "def eval_metric_mean_std_plot(model_results, model_names):\n",
        "  \"\"\"\n",
        "  This function aims to help our analysis over the entire development.\n",
        "\n",
        "  It receives a list of float lists values which is the cross validation\n",
        "  models results, and a list of strings which is the models names. First of\n",
        "  all, the function will get the mean and standard deviation from the results,\n",
        "  then we will sort the results according to the mean in ascending order.\n",
        "  Then the function will plot the results.\n",
        "\n",
        "  The plot layout is defined as follows:\n",
        "  - The means is represented as a blue bar chart, it scale is in the left side\n",
        "    of the chart and ranges from 0 to 1 in a 0.1 step.\n",
        "  - The standard deviation is represented as a red line chart, it scale is in\n",
        "  the right side of the chart and ranges from 0 to 0.1 in a 0.01 step.\n",
        "\n",
        "  :param model_results: a list that contains the results of cross validation\n",
        "  results.\n",
        "  :type model_results: list\n",
        "\n",
        "  :param model_names: a list that contains the models name.\n",
        "  :type model_names: list\n",
        "\n",
        "  \"\"\"\n",
        "\n",
        "\n",
        "  # Get results means and standard deviation\n",
        "  means = [arr.mean() for arr in model_results]\n",
        "  std = [arr.std() for arr in model_results]\n",
        "\n",
        "  # Group models mean and standard deviation with names and sort by mean\n",
        "  models_info = list(zip(model_names, means, std))\n",
        "  models_info_sorted = sorted(models_info, key=lambda x: x[1])\n",
        "\n",
        "  # Get isolated lists for names, means and standard deviation\n",
        "  names_sorted = [t[0] for t in models_info_sorted]\n",
        "  means_sorted = [t[1] for t in models_info_sorted]\n",
        "  std_sorted = [t[2] for t in models_info_sorted]\n",
        "\n",
        "  # For verbose execution, uncomment the next 2 code lines below\n",
        "  for i in range(len(names_sorted)):\n",
        "    print(\"%s: %.3f (%.3f)\" % (names_sorted[i], means_sorted[i], std_sorted[i]))\n",
        "\n",
        "  # Configuring plot size\n",
        "  fig, ax1 = plt.subplots(figsize=(len(models_info)/1.5,6))\n",
        "\n",
        "  # Configuring bar chart\n",
        "  color = 'tab:blue'\n",
        "  ax1.set_xlabel('Models')\n",
        "  ax1.set_ylabel('Evaluation Metric Mean', color=color)\n",
        "  bars = ax1.bar(names_sorted, means_sorted, color=color, label='Mean')\n",
        "  ax1.tick_params(axis='y', labelcolor=color)\n",
        "  ax1.set_ylim(0,1)\n",
        "  ax1.set_yticks([i/10 for i in range(11)])\n",
        "  plt.xticks(rotation=90)\n",
        "\n",
        "  # Configuring line chart\n",
        "  ax2 = ax1.twinx()\n",
        "  color = 'tab:red'\n",
        "  ax2.set_ylabel('Standar Variation', color=color)\n",
        "  ax2.plot(std_sorted, marker='o', linestyle='-', color=color, label='Std var')\n",
        "  ax2.tick_params(axis='y', labelcolor=color)\n",
        "  ax2.set_ylim(0, 0.1)\n",
        "  ax2.set_yticks([i/100 for i in range(21)])\n",
        "  fig.tight_layout()\n",
        "\n",
        "  # Legend and grid configuration\n",
        "  plt.gca().set_axisbelow(True)\n",
        "  ax1.grid(True, which='both', linestyle='--', linewidth=0.5, zorder=0)\n",
        "  ax1.legend(loc='upper left')\n",
        "  ax2.legend(loc='upper right')\n",
        "\n",
        "  plt.show()"
      ]
    },
    {
      "cell_type": "markdown",
      "metadata": {
        "id": "mBb15xrcg55C"
      },
      "source": [
        "####3.1.5.2 Cross Validation Score Execution"
      ]
    },
    {
      "cell_type": "code",
      "execution_count": 149,
      "metadata": {
        "id": "9Kub17sLxsl7"
      },
      "outputs": [],
      "source": [
        "def cross_val_score_execution(models, X_train, y_train, kfold, scoring):\n",
        "  \"\"\"\n",
        "  This function execute the cross validation process.\n",
        "\n",
        "  It will execute the cross validation process for each algorithm received\n",
        "  and return its results\n",
        "\n",
        "  :param models: the model's names and alrogithms\n",
        "  :type models: list of tuples with model names (string) and model algorithm objetc\n",
        "\n",
        "  :param X_train: subset for training\n",
        "  :type X_train: numpy.ndarray\n",
        "\n",
        "  :param y_train: training data rotules\n",
        "  :type y_train: numpy.ndarray\n",
        "\n",
        "  :param kfold: handler to execute the holdout process\n",
        "  :type kfold: StratifiedKFold object\n",
        "\n",
        "  :param scoring: the chosen evaluation metric\n",
        "  :type scoring: string\n",
        "\n",
        "  :return names: the names of the models\n",
        "  :rtype names: list of strings\n",
        "\n",
        "  :return results: the names of the models\n",
        "  :rtype results: list of strings\n",
        "\n",
        "  \"\"\"\n",
        "\n",
        "  # Lists that will be returned\n",
        "  results = []\n",
        "  names = []\n",
        "\n",
        "  # Iterates over the list of tuples to execute the cross validation\n",
        "  for name, model in models:\n",
        "    cv_results = cross_val_score(model, X_train, y_train, cv=kfold, scoring=scoring)\n",
        "    results.append(cv_results)\n",
        "    names.append(name)\n",
        "\n",
        "  return names, results"
      ]
    },
    {
      "cell_type": "markdown",
      "metadata": {
        "id": "rn-ulUNzp_AB"
      },
      "source": [
        "####3.1.5.2 Cross Validation Score Execution with Selected Features"
      ]
    },
    {
      "cell_type": "code",
      "execution_count": 150,
      "metadata": {
        "id": "mZiWCLFRqVVn"
      },
      "outputs": [],
      "source": [
        "def cross_validation_with_selected_features(models, df, y, features_selected, num_folds, scoring):\n",
        "  \"\"\"\n",
        "  This function execute the cross validation process just with the selected attributes.\n",
        "\n",
        "  It will extract a subset of our training dataset with just the desired attributes,\n",
        "  which is the result of the feature selection process. This function considers\n",
        "  the best 4, 7 and 10 best features from the list of features received.\n",
        "\n",
        "  :param models: the model's names and alrogithms\n",
        "  :type models: list of tuples with model names (string) and model algorithm objetc\n",
        "\n",
        "  :param df: training dataset to extract the subset\n",
        "  :type df: pandas.dataframe\n",
        "\n",
        "  :param y: training data rotules\n",
        "  :type y: numpy.ndarray\n",
        "\n",
        "  :param features_selected: list which contains the features names to be considered\n",
        "  during the cross validation process\n",
        "  :type features_selected: list of strings\n",
        "\n",
        "  :param scoring: the chosen evaluation metric\n",
        "  :type scoring: string\n",
        "\n",
        "  :return names: the models names\n",
        "  :rtype names: list of strings\n",
        "\n",
        "  :return results: the models results\n",
        "  :rtype results: list of strings\n",
        "\n",
        "  \"\"\"\n",
        "\n",
        "  X_4_train  = df[features_selected[:3]].values\n",
        "  X_7_train  = df[features_selected[:6]].values\n",
        "  X_10_train = df[features_selected[:9]].values\n",
        "\n",
        "  names_4, results_4   = cross_val_score_execution(models, X_4_train,  y, num_folds, scoring)\n",
        "  names_7, results_7   = cross_val_score_execution(models, X_7_train,  y, num_folds, scoring)\n",
        "  names_10, results_10 = cross_val_score_execution(models, X_10_train, y, num_folds, scoring)\n",
        "\n",
        "  return names_4, results_4, names_7, results_7, names_10, results_10"
      ]
    },
    {
      "cell_type": "markdown",
      "metadata": {
        "id": "T5uz8bIRh92s"
      },
      "source": [
        "####3.1.5.3 Get Features Names Sorted from Feature Importances"
      ]
    },
    {
      "cell_type": "code",
      "execution_count": 151,
      "metadata": {
        "id": "4AdLulQohQtj"
      },
      "outputs": [],
      "source": [
        "def get_features_name_sorted_from_feature_importances(df, model):\n",
        "  \"\"\"\n",
        "  This function returns the features names got from features importances\n",
        "  sorted by its importance.\n",
        "\n",
        "  It creates a dictionary with the features names and its corresponding\n",
        "  importance score. Then the disctionary is sorted by importance score in\n",
        "  descending order and returns the features names sorted in this whay.\n",
        "\n",
        "  :param df: training dataset to extract the columns names\n",
        "  :type df: pandas.dataframe\n",
        "\n",
        "  :param model: the model to get the feature importances\n",
        "  :type model: classifier object\n",
        "\n",
        "  :return names_sorted: the features names\n",
        "  :rtype names_sorted: list of strings\n",
        "  \"\"\"\n",
        "\n",
        "  names_features = list(zip(df.columns[:13], model.feature_importances_))\n",
        "  names_features_sorted = sorted(names_features, key=lambda x: x[1], reverse=True)\n",
        "\n",
        "  names_sorted = [x[0] for x in names_features_sorted]\n",
        "\n",
        "  return names_sorted"
      ]
    },
    {
      "cell_type": "markdown",
      "metadata": {
        "id": "fqrWiT_89VCb"
      },
      "source": [
        "##3.2 Dataset Load"
      ]
    },
    {
      "cell_type": "markdown",
      "metadata": {
        "id": "jlCE4mPHBupR"
      },
      "source": [
        "In this section we load the dataset and get its features and target values as dataframes. Also, we perform a visual analysis of the datafrases."
      ]
    },
    {
      "cell_type": "code",
      "execution_count": 152,
      "metadata": {
        "id": "Bm9zTXuSPm0h"
      },
      "outputs": [],
      "source": [
        "# Loading dataset\n",
        "heart_disease = fetch_ucirepo(name='Heart Disease')"
      ]
    },
    {
      "cell_type": "code",
      "execution_count": 153,
      "metadata": {
        "id": "SGa52vKiQOJY"
      },
      "outputs": [],
      "source": [
        "# Getting dataset features and target dataframes\n",
        "X = heart_disease.data.features\n",
        "y = heart_disease.data.targets"
      ]
    },
    {
      "cell_type": "code",
      "execution_count": 154,
      "metadata": {
        "colab": {
          "base_uri": "https://localhost:8080/",
          "height": 424
        },
        "id": "_nn3jk6xhQyL",
        "outputId": "d4572014-188a-4506-91f5-6bb78b867073"
      },
      "outputs": [
        {
          "output_type": "execute_result",
          "data": {
            "text/plain": [
              "     age  sex  cp  trestbps  chol  fbs  restecg  thalach  exang  oldpeak  \\\n",
              "0     63    1   1       145   233    1        2      150      0      2.3   \n",
              "1     67    1   4       160   286    0        2      108      1      1.5   \n",
              "2     67    1   4       120   229    0        2      129      1      2.6   \n",
              "3     37    1   3       130   250    0        0      187      0      3.5   \n",
              "4     41    0   2       130   204    0        2      172      0      1.4   \n",
              "..   ...  ...  ..       ...   ...  ...      ...      ...    ...      ...   \n",
              "298   45    1   1       110   264    0        0      132      0      1.2   \n",
              "299   68    1   4       144   193    1        0      141      0      3.4   \n",
              "300   57    1   4       130   131    0        0      115      1      1.2   \n",
              "301   57    0   2       130   236    0        2      174      0      0.0   \n",
              "302   38    1   3       138   175    0        0      173      0      0.0   \n",
              "\n",
              "     slope   ca  thal  \n",
              "0        3  0.0   6.0  \n",
              "1        2  3.0   3.0  \n",
              "2        2  2.0   7.0  \n",
              "3        3  0.0   3.0  \n",
              "4        1  0.0   3.0  \n",
              "..     ...  ...   ...  \n",
              "298      2  0.0   7.0  \n",
              "299      2  2.0   7.0  \n",
              "300      2  1.0   7.0  \n",
              "301      2  1.0   3.0  \n",
              "302      1  NaN   3.0  \n",
              "\n",
              "[303 rows x 13 columns]"
            ],
            "text/html": [
              "\n",
              "  <div id=\"df-1a0f6685-00f5-44ef-ad2d-7781bd9df176\" class=\"colab-df-container\">\n",
              "    <div>\n",
              "<style scoped>\n",
              "    .dataframe tbody tr th:only-of-type {\n",
              "        vertical-align: middle;\n",
              "    }\n",
              "\n",
              "    .dataframe tbody tr th {\n",
              "        vertical-align: top;\n",
              "    }\n",
              "\n",
              "    .dataframe thead th {\n",
              "        text-align: right;\n",
              "    }\n",
              "</style>\n",
              "<table border=\"1\" class=\"dataframe\">\n",
              "  <thead>\n",
              "    <tr style=\"text-align: right;\">\n",
              "      <th></th>\n",
              "      <th>age</th>\n",
              "      <th>sex</th>\n",
              "      <th>cp</th>\n",
              "      <th>trestbps</th>\n",
              "      <th>chol</th>\n",
              "      <th>fbs</th>\n",
              "      <th>restecg</th>\n",
              "      <th>thalach</th>\n",
              "      <th>exang</th>\n",
              "      <th>oldpeak</th>\n",
              "      <th>slope</th>\n",
              "      <th>ca</th>\n",
              "      <th>thal</th>\n",
              "    </tr>\n",
              "  </thead>\n",
              "  <tbody>\n",
              "    <tr>\n",
              "      <th>0</th>\n",
              "      <td>63</td>\n",
              "      <td>1</td>\n",
              "      <td>1</td>\n",
              "      <td>145</td>\n",
              "      <td>233</td>\n",
              "      <td>1</td>\n",
              "      <td>2</td>\n",
              "      <td>150</td>\n",
              "      <td>0</td>\n",
              "      <td>2.3</td>\n",
              "      <td>3</td>\n",
              "      <td>0.0</td>\n",
              "      <td>6.0</td>\n",
              "    </tr>\n",
              "    <tr>\n",
              "      <th>1</th>\n",
              "      <td>67</td>\n",
              "      <td>1</td>\n",
              "      <td>4</td>\n",
              "      <td>160</td>\n",
              "      <td>286</td>\n",
              "      <td>0</td>\n",
              "      <td>2</td>\n",
              "      <td>108</td>\n",
              "      <td>1</td>\n",
              "      <td>1.5</td>\n",
              "      <td>2</td>\n",
              "      <td>3.0</td>\n",
              "      <td>3.0</td>\n",
              "    </tr>\n",
              "    <tr>\n",
              "      <th>2</th>\n",
              "      <td>67</td>\n",
              "      <td>1</td>\n",
              "      <td>4</td>\n",
              "      <td>120</td>\n",
              "      <td>229</td>\n",
              "      <td>0</td>\n",
              "      <td>2</td>\n",
              "      <td>129</td>\n",
              "      <td>1</td>\n",
              "      <td>2.6</td>\n",
              "      <td>2</td>\n",
              "      <td>2.0</td>\n",
              "      <td>7.0</td>\n",
              "    </tr>\n",
              "    <tr>\n",
              "      <th>3</th>\n",
              "      <td>37</td>\n",
              "      <td>1</td>\n",
              "      <td>3</td>\n",
              "      <td>130</td>\n",
              "      <td>250</td>\n",
              "      <td>0</td>\n",
              "      <td>0</td>\n",
              "      <td>187</td>\n",
              "      <td>0</td>\n",
              "      <td>3.5</td>\n",
              "      <td>3</td>\n",
              "      <td>0.0</td>\n",
              "      <td>3.0</td>\n",
              "    </tr>\n",
              "    <tr>\n",
              "      <th>4</th>\n",
              "      <td>41</td>\n",
              "      <td>0</td>\n",
              "      <td>2</td>\n",
              "      <td>130</td>\n",
              "      <td>204</td>\n",
              "      <td>0</td>\n",
              "      <td>2</td>\n",
              "      <td>172</td>\n",
              "      <td>0</td>\n",
              "      <td>1.4</td>\n",
              "      <td>1</td>\n",
              "      <td>0.0</td>\n",
              "      <td>3.0</td>\n",
              "    </tr>\n",
              "    <tr>\n",
              "      <th>...</th>\n",
              "      <td>...</td>\n",
              "      <td>...</td>\n",
              "      <td>...</td>\n",
              "      <td>...</td>\n",
              "      <td>...</td>\n",
              "      <td>...</td>\n",
              "      <td>...</td>\n",
              "      <td>...</td>\n",
              "      <td>...</td>\n",
              "      <td>...</td>\n",
              "      <td>...</td>\n",
              "      <td>...</td>\n",
              "      <td>...</td>\n",
              "    </tr>\n",
              "    <tr>\n",
              "      <th>298</th>\n",
              "      <td>45</td>\n",
              "      <td>1</td>\n",
              "      <td>1</td>\n",
              "      <td>110</td>\n",
              "      <td>264</td>\n",
              "      <td>0</td>\n",
              "      <td>0</td>\n",
              "      <td>132</td>\n",
              "      <td>0</td>\n",
              "      <td>1.2</td>\n",
              "      <td>2</td>\n",
              "      <td>0.0</td>\n",
              "      <td>7.0</td>\n",
              "    </tr>\n",
              "    <tr>\n",
              "      <th>299</th>\n",
              "      <td>68</td>\n",
              "      <td>1</td>\n",
              "      <td>4</td>\n",
              "      <td>144</td>\n",
              "      <td>193</td>\n",
              "      <td>1</td>\n",
              "      <td>0</td>\n",
              "      <td>141</td>\n",
              "      <td>0</td>\n",
              "      <td>3.4</td>\n",
              "      <td>2</td>\n",
              "      <td>2.0</td>\n",
              "      <td>7.0</td>\n",
              "    </tr>\n",
              "    <tr>\n",
              "      <th>300</th>\n",
              "      <td>57</td>\n",
              "      <td>1</td>\n",
              "      <td>4</td>\n",
              "      <td>130</td>\n",
              "      <td>131</td>\n",
              "      <td>0</td>\n",
              "      <td>0</td>\n",
              "      <td>115</td>\n",
              "      <td>1</td>\n",
              "      <td>1.2</td>\n",
              "      <td>2</td>\n",
              "      <td>1.0</td>\n",
              "      <td>7.0</td>\n",
              "    </tr>\n",
              "    <tr>\n",
              "      <th>301</th>\n",
              "      <td>57</td>\n",
              "      <td>0</td>\n",
              "      <td>2</td>\n",
              "      <td>130</td>\n",
              "      <td>236</td>\n",
              "      <td>0</td>\n",
              "      <td>2</td>\n",
              "      <td>174</td>\n",
              "      <td>0</td>\n",
              "      <td>0.0</td>\n",
              "      <td>2</td>\n",
              "      <td>1.0</td>\n",
              "      <td>3.0</td>\n",
              "    </tr>\n",
              "    <tr>\n",
              "      <th>302</th>\n",
              "      <td>38</td>\n",
              "      <td>1</td>\n",
              "      <td>3</td>\n",
              "      <td>138</td>\n",
              "      <td>175</td>\n",
              "      <td>0</td>\n",
              "      <td>0</td>\n",
              "      <td>173</td>\n",
              "      <td>0</td>\n",
              "      <td>0.0</td>\n",
              "      <td>1</td>\n",
              "      <td>NaN</td>\n",
              "      <td>3.0</td>\n",
              "    </tr>\n",
              "  </tbody>\n",
              "</table>\n",
              "<p>303 rows × 13 columns</p>\n",
              "</div>\n",
              "    <div class=\"colab-df-buttons\">\n",
              "\n",
              "  <div class=\"colab-df-container\">\n",
              "    <button class=\"colab-df-convert\" onclick=\"convertToInteractive('df-1a0f6685-00f5-44ef-ad2d-7781bd9df176')\"\n",
              "            title=\"Convert this dataframe to an interactive table.\"\n",
              "            style=\"display:none;\">\n",
              "\n",
              "  <svg xmlns=\"http://www.w3.org/2000/svg\" height=\"24px\" viewBox=\"0 -960 960 960\">\n",
              "    <path d=\"M120-120v-720h720v720H120Zm60-500h600v-160H180v160Zm220 220h160v-160H400v160Zm0 220h160v-160H400v160ZM180-400h160v-160H180v160Zm440 0h160v-160H620v160ZM180-180h160v-160H180v160Zm440 0h160v-160H620v160Z\"/>\n",
              "  </svg>\n",
              "    </button>\n",
              "\n",
              "  <style>\n",
              "    .colab-df-container {\n",
              "      display:flex;\n",
              "      gap: 12px;\n",
              "    }\n",
              "\n",
              "    .colab-df-convert {\n",
              "      background-color: #E8F0FE;\n",
              "      border: none;\n",
              "      border-radius: 50%;\n",
              "      cursor: pointer;\n",
              "      display: none;\n",
              "      fill: #1967D2;\n",
              "      height: 32px;\n",
              "      padding: 0 0 0 0;\n",
              "      width: 32px;\n",
              "    }\n",
              "\n",
              "    .colab-df-convert:hover {\n",
              "      background-color: #E2EBFA;\n",
              "      box-shadow: 0px 1px 2px rgba(60, 64, 67, 0.3), 0px 1px 3px 1px rgba(60, 64, 67, 0.15);\n",
              "      fill: #174EA6;\n",
              "    }\n",
              "\n",
              "    .colab-df-buttons div {\n",
              "      margin-bottom: 4px;\n",
              "    }\n",
              "\n",
              "    [theme=dark] .colab-df-convert {\n",
              "      background-color: #3B4455;\n",
              "      fill: #D2E3FC;\n",
              "    }\n",
              "\n",
              "    [theme=dark] .colab-df-convert:hover {\n",
              "      background-color: #434B5C;\n",
              "      box-shadow: 0px 1px 3px 1px rgba(0, 0, 0, 0.15);\n",
              "      filter: drop-shadow(0px 1px 2px rgba(0, 0, 0, 0.3));\n",
              "      fill: #FFFFFF;\n",
              "    }\n",
              "  </style>\n",
              "\n",
              "    <script>\n",
              "      const buttonEl =\n",
              "        document.querySelector('#df-1a0f6685-00f5-44ef-ad2d-7781bd9df176 button.colab-df-convert');\n",
              "      buttonEl.style.display =\n",
              "        google.colab.kernel.accessAllowed ? 'block' : 'none';\n",
              "\n",
              "      async function convertToInteractive(key) {\n",
              "        const element = document.querySelector('#df-1a0f6685-00f5-44ef-ad2d-7781bd9df176');\n",
              "        const dataTable =\n",
              "          await google.colab.kernel.invokeFunction('convertToInteractive',\n",
              "                                                    [key], {});\n",
              "        if (!dataTable) return;\n",
              "\n",
              "        const docLinkHtml = 'Like what you see? Visit the ' +\n",
              "          '<a target=\"_blank\" href=https://colab.research.google.com/notebooks/data_table.ipynb>data table notebook</a>'\n",
              "          + ' to learn more about interactive tables.';\n",
              "        element.innerHTML = '';\n",
              "        dataTable['output_type'] = 'display_data';\n",
              "        await google.colab.output.renderOutput(dataTable, element);\n",
              "        const docLink = document.createElement('div');\n",
              "        docLink.innerHTML = docLinkHtml;\n",
              "        element.appendChild(docLink);\n",
              "      }\n",
              "    </script>\n",
              "  </div>\n",
              "\n",
              "\n",
              "<div id=\"df-f279e340-d999-45bf-af35-2003b78ce4b8\">\n",
              "  <button class=\"colab-df-quickchart\" onclick=\"quickchart('df-f279e340-d999-45bf-af35-2003b78ce4b8')\"\n",
              "            title=\"Suggest charts\"\n",
              "            style=\"display:none;\">\n",
              "\n",
              "<svg xmlns=\"http://www.w3.org/2000/svg\" height=\"24px\"viewBox=\"0 0 24 24\"\n",
              "     width=\"24px\">\n",
              "    <g>\n",
              "        <path d=\"M19 3H5c-1.1 0-2 .9-2 2v14c0 1.1.9 2 2 2h14c1.1 0 2-.9 2-2V5c0-1.1-.9-2-2-2zM9 17H7v-7h2v7zm4 0h-2V7h2v10zm4 0h-2v-4h2v4z\"/>\n",
              "    </g>\n",
              "</svg>\n",
              "  </button>\n",
              "\n",
              "<style>\n",
              "  .colab-df-quickchart {\n",
              "      --bg-color: #E8F0FE;\n",
              "      --fill-color: #1967D2;\n",
              "      --hover-bg-color: #E2EBFA;\n",
              "      --hover-fill-color: #174EA6;\n",
              "      --disabled-fill-color: #AAA;\n",
              "      --disabled-bg-color: #DDD;\n",
              "  }\n",
              "\n",
              "  [theme=dark] .colab-df-quickchart {\n",
              "      --bg-color: #3B4455;\n",
              "      --fill-color: #D2E3FC;\n",
              "      --hover-bg-color: #434B5C;\n",
              "      --hover-fill-color: #FFFFFF;\n",
              "      --disabled-bg-color: #3B4455;\n",
              "      --disabled-fill-color: #666;\n",
              "  }\n",
              "\n",
              "  .colab-df-quickchart {\n",
              "    background-color: var(--bg-color);\n",
              "    border: none;\n",
              "    border-radius: 50%;\n",
              "    cursor: pointer;\n",
              "    display: none;\n",
              "    fill: var(--fill-color);\n",
              "    height: 32px;\n",
              "    padding: 0;\n",
              "    width: 32px;\n",
              "  }\n",
              "\n",
              "  .colab-df-quickchart:hover {\n",
              "    background-color: var(--hover-bg-color);\n",
              "    box-shadow: 0 1px 2px rgba(60, 64, 67, 0.3), 0 1px 3px 1px rgba(60, 64, 67, 0.15);\n",
              "    fill: var(--button-hover-fill-color);\n",
              "  }\n",
              "\n",
              "  .colab-df-quickchart-complete:disabled,\n",
              "  .colab-df-quickchart-complete:disabled:hover {\n",
              "    background-color: var(--disabled-bg-color);\n",
              "    fill: var(--disabled-fill-color);\n",
              "    box-shadow: none;\n",
              "  }\n",
              "\n",
              "  .colab-df-spinner {\n",
              "    border: 2px solid var(--fill-color);\n",
              "    border-color: transparent;\n",
              "    border-bottom-color: var(--fill-color);\n",
              "    animation:\n",
              "      spin 1s steps(1) infinite;\n",
              "  }\n",
              "\n",
              "  @keyframes spin {\n",
              "    0% {\n",
              "      border-color: transparent;\n",
              "      border-bottom-color: var(--fill-color);\n",
              "      border-left-color: var(--fill-color);\n",
              "    }\n",
              "    20% {\n",
              "      border-color: transparent;\n",
              "      border-left-color: var(--fill-color);\n",
              "      border-top-color: var(--fill-color);\n",
              "    }\n",
              "    30% {\n",
              "      border-color: transparent;\n",
              "      border-left-color: var(--fill-color);\n",
              "      border-top-color: var(--fill-color);\n",
              "      border-right-color: var(--fill-color);\n",
              "    }\n",
              "    40% {\n",
              "      border-color: transparent;\n",
              "      border-right-color: var(--fill-color);\n",
              "      border-top-color: var(--fill-color);\n",
              "    }\n",
              "    60% {\n",
              "      border-color: transparent;\n",
              "      border-right-color: var(--fill-color);\n",
              "    }\n",
              "    80% {\n",
              "      border-color: transparent;\n",
              "      border-right-color: var(--fill-color);\n",
              "      border-bottom-color: var(--fill-color);\n",
              "    }\n",
              "    90% {\n",
              "      border-color: transparent;\n",
              "      border-bottom-color: var(--fill-color);\n",
              "    }\n",
              "  }\n",
              "</style>\n",
              "\n",
              "  <script>\n",
              "    async function quickchart(key) {\n",
              "      const quickchartButtonEl =\n",
              "        document.querySelector('#' + key + ' button');\n",
              "      quickchartButtonEl.disabled = true;  // To prevent multiple clicks.\n",
              "      quickchartButtonEl.classList.add('colab-df-spinner');\n",
              "      try {\n",
              "        const charts = await google.colab.kernel.invokeFunction(\n",
              "            'suggestCharts', [key], {});\n",
              "      } catch (error) {\n",
              "        console.error('Error during call to suggestCharts:', error);\n",
              "      }\n",
              "      quickchartButtonEl.classList.remove('colab-df-spinner');\n",
              "      quickchartButtonEl.classList.add('colab-df-quickchart-complete');\n",
              "    }\n",
              "    (() => {\n",
              "      let quickchartButtonEl =\n",
              "        document.querySelector('#df-f279e340-d999-45bf-af35-2003b78ce4b8 button');\n",
              "      quickchartButtonEl.style.display =\n",
              "        google.colab.kernel.accessAllowed ? 'block' : 'none';\n",
              "    })();\n",
              "  </script>\n",
              "</div>\n",
              "\n",
              "  <div id=\"id_94e1ec28-98df-4e96-b310-2c51f1c97e08\">\n",
              "    <style>\n",
              "      .colab-df-generate {\n",
              "        background-color: #E8F0FE;\n",
              "        border: none;\n",
              "        border-radius: 50%;\n",
              "        cursor: pointer;\n",
              "        display: none;\n",
              "        fill: #1967D2;\n",
              "        height: 32px;\n",
              "        padding: 0 0 0 0;\n",
              "        width: 32px;\n",
              "      }\n",
              "\n",
              "      .colab-df-generate:hover {\n",
              "        background-color: #E2EBFA;\n",
              "        box-shadow: 0px 1px 2px rgba(60, 64, 67, 0.3), 0px 1px 3px 1px rgba(60, 64, 67, 0.15);\n",
              "        fill: #174EA6;\n",
              "      }\n",
              "\n",
              "      [theme=dark] .colab-df-generate {\n",
              "        background-color: #3B4455;\n",
              "        fill: #D2E3FC;\n",
              "      }\n",
              "\n",
              "      [theme=dark] .colab-df-generate:hover {\n",
              "        background-color: #434B5C;\n",
              "        box-shadow: 0px 1px 3px 1px rgba(0, 0, 0, 0.15);\n",
              "        filter: drop-shadow(0px 1px 2px rgba(0, 0, 0, 0.3));\n",
              "        fill: #FFFFFF;\n",
              "      }\n",
              "    </style>\n",
              "    <button class=\"colab-df-generate\" onclick=\"generateWithVariable('X')\"\n",
              "            title=\"Generate code using this dataframe.\"\n",
              "            style=\"display:none;\">\n",
              "\n",
              "  <svg xmlns=\"http://www.w3.org/2000/svg\" height=\"24px\"viewBox=\"0 0 24 24\"\n",
              "       width=\"24px\">\n",
              "    <path d=\"M7,19H8.4L18.45,9,17,7.55,7,17.6ZM5,21V16.75L18.45,3.32a2,2,0,0,1,2.83,0l1.4,1.43a1.91,1.91,0,0,1,.58,1.4,1.91,1.91,0,0,1-.58,1.4L9.25,21ZM18.45,9,17,7.55Zm-12,3A5.31,5.31,0,0,0,4.9,8.1,5.31,5.31,0,0,0,1,6.5,5.31,5.31,0,0,0,4.9,4.9,5.31,5.31,0,0,0,6.5,1,5.31,5.31,0,0,0,8.1,4.9,5.31,5.31,0,0,0,12,6.5,5.46,5.46,0,0,0,6.5,12Z\"/>\n",
              "  </svg>\n",
              "    </button>\n",
              "    <script>\n",
              "      (() => {\n",
              "      const buttonEl =\n",
              "        document.querySelector('#id_94e1ec28-98df-4e96-b310-2c51f1c97e08 button.colab-df-generate');\n",
              "      buttonEl.style.display =\n",
              "        google.colab.kernel.accessAllowed ? 'block' : 'none';\n",
              "\n",
              "      buttonEl.onclick = () => {\n",
              "        google.colab.notebook.generateWithVariable('X');\n",
              "      }\n",
              "      })();\n",
              "    </script>\n",
              "  </div>\n",
              "\n",
              "    </div>\n",
              "  </div>\n"
            ],
            "application/vnd.google.colaboratory.intrinsic+json": {
              "type": "dataframe",
              "variable_name": "X",
              "summary": "{\n  \"name\": \"X\",\n  \"rows\": 303,\n  \"fields\": [\n    {\n      \"column\": \"age\",\n      \"properties\": {\n        \"dtype\": \"number\",\n        \"std\": 9,\n        \"min\": 29,\n        \"max\": 77,\n        \"num_unique_values\": 41,\n        \"samples\": [\n          61,\n          64,\n          44\n        ],\n        \"semantic_type\": \"\",\n        \"description\": \"\"\n      }\n    },\n    {\n      \"column\": \"sex\",\n      \"properties\": {\n        \"dtype\": \"number\",\n        \"std\": 0,\n        \"min\": 0,\n        \"max\": 1,\n        \"num_unique_values\": 2,\n        \"samples\": [\n          0,\n          1\n        ],\n        \"semantic_type\": \"\",\n        \"description\": \"\"\n      }\n    },\n    {\n      \"column\": \"cp\",\n      \"properties\": {\n        \"dtype\": \"number\",\n        \"std\": 0,\n        \"min\": 1,\n        \"max\": 4,\n        \"num_unique_values\": 4,\n        \"samples\": [\n          4,\n          2\n        ],\n        \"semantic_type\": \"\",\n        \"description\": \"\"\n      }\n    },\n    {\n      \"column\": \"trestbps\",\n      \"properties\": {\n        \"dtype\": \"number\",\n        \"std\": 17,\n        \"min\": 94,\n        \"max\": 200,\n        \"num_unique_values\": 50,\n        \"samples\": [\n          124,\n          192\n        ],\n        \"semantic_type\": \"\",\n        \"description\": \"\"\n      }\n    },\n    {\n      \"column\": \"chol\",\n      \"properties\": {\n        \"dtype\": \"number\",\n        \"std\": 51,\n        \"min\": 126,\n        \"max\": 564,\n        \"num_unique_values\": 152,\n        \"samples\": [\n          321,\n          187\n        ],\n        \"semantic_type\": \"\",\n        \"description\": \"\"\n      }\n    },\n    {\n      \"column\": \"fbs\",\n      \"properties\": {\n        \"dtype\": \"number\",\n        \"std\": 0,\n        \"min\": 0,\n        \"max\": 1,\n        \"num_unique_values\": 2,\n        \"samples\": [\n          0,\n          1\n        ],\n        \"semantic_type\": \"\",\n        \"description\": \"\"\n      }\n    },\n    {\n      \"column\": \"restecg\",\n      \"properties\": {\n        \"dtype\": \"number\",\n        \"std\": 0,\n        \"min\": 0,\n        \"max\": 2,\n        \"num_unique_values\": 3,\n        \"samples\": [\n          2,\n          0\n        ],\n        \"semantic_type\": \"\",\n        \"description\": \"\"\n      }\n    },\n    {\n      \"column\": \"thalach\",\n      \"properties\": {\n        \"dtype\": \"number\",\n        \"std\": 22,\n        \"min\": 71,\n        \"max\": 202,\n        \"num_unique_values\": 91,\n        \"samples\": [\n          170,\n          114\n        ],\n        \"semantic_type\": \"\",\n        \"description\": \"\"\n      }\n    },\n    {\n      \"column\": \"exang\",\n      \"properties\": {\n        \"dtype\": \"number\",\n        \"std\": 0,\n        \"min\": 0,\n        \"max\": 1,\n        \"num_unique_values\": 2,\n        \"samples\": [\n          1,\n          0\n        ],\n        \"semantic_type\": \"\",\n        \"description\": \"\"\n      }\n    },\n    {\n      \"column\": \"oldpeak\",\n      \"properties\": {\n        \"dtype\": \"number\",\n        \"std\": 1.1610750220686348,\n        \"min\": 0.0,\n        \"max\": 6.2,\n        \"num_unique_values\": 40,\n        \"samples\": [\n          2.4,\n          0.2\n        ],\n        \"semantic_type\": \"\",\n        \"description\": \"\"\n      }\n    },\n    {\n      \"column\": \"slope\",\n      \"properties\": {\n        \"dtype\": \"number\",\n        \"std\": 0,\n        \"min\": 1,\n        \"max\": 3,\n        \"num_unique_values\": 3,\n        \"samples\": [\n          3,\n          2\n        ],\n        \"semantic_type\": \"\",\n        \"description\": \"\"\n      }\n    },\n    {\n      \"column\": \"ca\",\n      \"properties\": {\n        \"dtype\": \"number\",\n        \"std\": 0.9374383177242163,\n        \"min\": 0.0,\n        \"max\": 3.0,\n        \"num_unique_values\": 4,\n        \"samples\": [\n          3.0,\n          1.0\n        ],\n        \"semantic_type\": \"\",\n        \"description\": \"\"\n      }\n    },\n    {\n      \"column\": \"thal\",\n      \"properties\": {\n        \"dtype\": \"number\",\n        \"std\": 1.939705769378644,\n        \"min\": 3.0,\n        \"max\": 7.0,\n        \"num_unique_values\": 3,\n        \"samples\": [\n          6.0,\n          3.0\n        ],\n        \"semantic_type\": \"\",\n        \"description\": \"\"\n      }\n    }\n  ]\n}"
            }
          },
          "metadata": {},
          "execution_count": 154
        }
      ],
      "source": [
        "# Feature dataframe visual analysis\n",
        "X"
      ]
    },
    {
      "cell_type": "markdown",
      "metadata": {
        "id": "wGWP1uAw-dTT"
      },
      "source": [
        "From [Table 1](#table-1), it is known that we have at least two columns (`ca` and `thal`) with missing values. By taking a look into the feature dataframe, it was possible to note an example of a row with a NaN (Not a Number) value in the `ca` column. This could lead our model to raise some error or have some undesired behavior, so we must handle this issue later."
      ]
    },
    {
      "cell_type": "code",
      "execution_count": 155,
      "metadata": {
        "colab": {
          "base_uri": "https://localhost:8080/",
          "height": 424
        },
        "id": "SpBhNtZlhS8-",
        "outputId": "9129bf2e-1f40-4e50-e3e0-1d8db3fc8ef0"
      },
      "outputs": [
        {
          "output_type": "execute_result",
          "data": {
            "text/plain": [
              "     num\n",
              "0      0\n",
              "1      2\n",
              "2      1\n",
              "3      0\n",
              "4      0\n",
              "..   ...\n",
              "298    1\n",
              "299    2\n",
              "300    3\n",
              "301    1\n",
              "302    0\n",
              "\n",
              "[303 rows x 1 columns]"
            ],
            "text/html": [
              "\n",
              "  <div id=\"df-f9c51660-a254-4d82-9deb-3ab3977f580a\" class=\"colab-df-container\">\n",
              "    <div>\n",
              "<style scoped>\n",
              "    .dataframe tbody tr th:only-of-type {\n",
              "        vertical-align: middle;\n",
              "    }\n",
              "\n",
              "    .dataframe tbody tr th {\n",
              "        vertical-align: top;\n",
              "    }\n",
              "\n",
              "    .dataframe thead th {\n",
              "        text-align: right;\n",
              "    }\n",
              "</style>\n",
              "<table border=\"1\" class=\"dataframe\">\n",
              "  <thead>\n",
              "    <tr style=\"text-align: right;\">\n",
              "      <th></th>\n",
              "      <th>num</th>\n",
              "    </tr>\n",
              "  </thead>\n",
              "  <tbody>\n",
              "    <tr>\n",
              "      <th>0</th>\n",
              "      <td>0</td>\n",
              "    </tr>\n",
              "    <tr>\n",
              "      <th>1</th>\n",
              "      <td>2</td>\n",
              "    </tr>\n",
              "    <tr>\n",
              "      <th>2</th>\n",
              "      <td>1</td>\n",
              "    </tr>\n",
              "    <tr>\n",
              "      <th>3</th>\n",
              "      <td>0</td>\n",
              "    </tr>\n",
              "    <tr>\n",
              "      <th>4</th>\n",
              "      <td>0</td>\n",
              "    </tr>\n",
              "    <tr>\n",
              "      <th>...</th>\n",
              "      <td>...</td>\n",
              "    </tr>\n",
              "    <tr>\n",
              "      <th>298</th>\n",
              "      <td>1</td>\n",
              "    </tr>\n",
              "    <tr>\n",
              "      <th>299</th>\n",
              "      <td>2</td>\n",
              "    </tr>\n",
              "    <tr>\n",
              "      <th>300</th>\n",
              "      <td>3</td>\n",
              "    </tr>\n",
              "    <tr>\n",
              "      <th>301</th>\n",
              "      <td>1</td>\n",
              "    </tr>\n",
              "    <tr>\n",
              "      <th>302</th>\n",
              "      <td>0</td>\n",
              "    </tr>\n",
              "  </tbody>\n",
              "</table>\n",
              "<p>303 rows × 1 columns</p>\n",
              "</div>\n",
              "    <div class=\"colab-df-buttons\">\n",
              "\n",
              "  <div class=\"colab-df-container\">\n",
              "    <button class=\"colab-df-convert\" onclick=\"convertToInteractive('df-f9c51660-a254-4d82-9deb-3ab3977f580a')\"\n",
              "            title=\"Convert this dataframe to an interactive table.\"\n",
              "            style=\"display:none;\">\n",
              "\n",
              "  <svg xmlns=\"http://www.w3.org/2000/svg\" height=\"24px\" viewBox=\"0 -960 960 960\">\n",
              "    <path d=\"M120-120v-720h720v720H120Zm60-500h600v-160H180v160Zm220 220h160v-160H400v160Zm0 220h160v-160H400v160ZM180-400h160v-160H180v160Zm440 0h160v-160H620v160ZM180-180h160v-160H180v160Zm440 0h160v-160H620v160Z\"/>\n",
              "  </svg>\n",
              "    </button>\n",
              "\n",
              "  <style>\n",
              "    .colab-df-container {\n",
              "      display:flex;\n",
              "      gap: 12px;\n",
              "    }\n",
              "\n",
              "    .colab-df-convert {\n",
              "      background-color: #E8F0FE;\n",
              "      border: none;\n",
              "      border-radius: 50%;\n",
              "      cursor: pointer;\n",
              "      display: none;\n",
              "      fill: #1967D2;\n",
              "      height: 32px;\n",
              "      padding: 0 0 0 0;\n",
              "      width: 32px;\n",
              "    }\n",
              "\n",
              "    .colab-df-convert:hover {\n",
              "      background-color: #E2EBFA;\n",
              "      box-shadow: 0px 1px 2px rgba(60, 64, 67, 0.3), 0px 1px 3px 1px rgba(60, 64, 67, 0.15);\n",
              "      fill: #174EA6;\n",
              "    }\n",
              "\n",
              "    .colab-df-buttons div {\n",
              "      margin-bottom: 4px;\n",
              "    }\n",
              "\n",
              "    [theme=dark] .colab-df-convert {\n",
              "      background-color: #3B4455;\n",
              "      fill: #D2E3FC;\n",
              "    }\n",
              "\n",
              "    [theme=dark] .colab-df-convert:hover {\n",
              "      background-color: #434B5C;\n",
              "      box-shadow: 0px 1px 3px 1px rgba(0, 0, 0, 0.15);\n",
              "      filter: drop-shadow(0px 1px 2px rgba(0, 0, 0, 0.3));\n",
              "      fill: #FFFFFF;\n",
              "    }\n",
              "  </style>\n",
              "\n",
              "    <script>\n",
              "      const buttonEl =\n",
              "        document.querySelector('#df-f9c51660-a254-4d82-9deb-3ab3977f580a button.colab-df-convert');\n",
              "      buttonEl.style.display =\n",
              "        google.colab.kernel.accessAllowed ? 'block' : 'none';\n",
              "\n",
              "      async function convertToInteractive(key) {\n",
              "        const element = document.querySelector('#df-f9c51660-a254-4d82-9deb-3ab3977f580a');\n",
              "        const dataTable =\n",
              "          await google.colab.kernel.invokeFunction('convertToInteractive',\n",
              "                                                    [key], {});\n",
              "        if (!dataTable) return;\n",
              "\n",
              "        const docLinkHtml = 'Like what you see? Visit the ' +\n",
              "          '<a target=\"_blank\" href=https://colab.research.google.com/notebooks/data_table.ipynb>data table notebook</a>'\n",
              "          + ' to learn more about interactive tables.';\n",
              "        element.innerHTML = '';\n",
              "        dataTable['output_type'] = 'display_data';\n",
              "        await google.colab.output.renderOutput(dataTable, element);\n",
              "        const docLink = document.createElement('div');\n",
              "        docLink.innerHTML = docLinkHtml;\n",
              "        element.appendChild(docLink);\n",
              "      }\n",
              "    </script>\n",
              "  </div>\n",
              "\n",
              "\n",
              "<div id=\"df-e52daf8f-79c1-4a61-837c-e63cd7840d2d\">\n",
              "  <button class=\"colab-df-quickchart\" onclick=\"quickchart('df-e52daf8f-79c1-4a61-837c-e63cd7840d2d')\"\n",
              "            title=\"Suggest charts\"\n",
              "            style=\"display:none;\">\n",
              "\n",
              "<svg xmlns=\"http://www.w3.org/2000/svg\" height=\"24px\"viewBox=\"0 0 24 24\"\n",
              "     width=\"24px\">\n",
              "    <g>\n",
              "        <path d=\"M19 3H5c-1.1 0-2 .9-2 2v14c0 1.1.9 2 2 2h14c1.1 0 2-.9 2-2V5c0-1.1-.9-2-2-2zM9 17H7v-7h2v7zm4 0h-2V7h2v10zm4 0h-2v-4h2v4z\"/>\n",
              "    </g>\n",
              "</svg>\n",
              "  </button>\n",
              "\n",
              "<style>\n",
              "  .colab-df-quickchart {\n",
              "      --bg-color: #E8F0FE;\n",
              "      --fill-color: #1967D2;\n",
              "      --hover-bg-color: #E2EBFA;\n",
              "      --hover-fill-color: #174EA6;\n",
              "      --disabled-fill-color: #AAA;\n",
              "      --disabled-bg-color: #DDD;\n",
              "  }\n",
              "\n",
              "  [theme=dark] .colab-df-quickchart {\n",
              "      --bg-color: #3B4455;\n",
              "      --fill-color: #D2E3FC;\n",
              "      --hover-bg-color: #434B5C;\n",
              "      --hover-fill-color: #FFFFFF;\n",
              "      --disabled-bg-color: #3B4455;\n",
              "      --disabled-fill-color: #666;\n",
              "  }\n",
              "\n",
              "  .colab-df-quickchart {\n",
              "    background-color: var(--bg-color);\n",
              "    border: none;\n",
              "    border-radius: 50%;\n",
              "    cursor: pointer;\n",
              "    display: none;\n",
              "    fill: var(--fill-color);\n",
              "    height: 32px;\n",
              "    padding: 0;\n",
              "    width: 32px;\n",
              "  }\n",
              "\n",
              "  .colab-df-quickchart:hover {\n",
              "    background-color: var(--hover-bg-color);\n",
              "    box-shadow: 0 1px 2px rgba(60, 64, 67, 0.3), 0 1px 3px 1px rgba(60, 64, 67, 0.15);\n",
              "    fill: var(--button-hover-fill-color);\n",
              "  }\n",
              "\n",
              "  .colab-df-quickchart-complete:disabled,\n",
              "  .colab-df-quickchart-complete:disabled:hover {\n",
              "    background-color: var(--disabled-bg-color);\n",
              "    fill: var(--disabled-fill-color);\n",
              "    box-shadow: none;\n",
              "  }\n",
              "\n",
              "  .colab-df-spinner {\n",
              "    border: 2px solid var(--fill-color);\n",
              "    border-color: transparent;\n",
              "    border-bottom-color: var(--fill-color);\n",
              "    animation:\n",
              "      spin 1s steps(1) infinite;\n",
              "  }\n",
              "\n",
              "  @keyframes spin {\n",
              "    0% {\n",
              "      border-color: transparent;\n",
              "      border-bottom-color: var(--fill-color);\n",
              "      border-left-color: var(--fill-color);\n",
              "    }\n",
              "    20% {\n",
              "      border-color: transparent;\n",
              "      border-left-color: var(--fill-color);\n",
              "      border-top-color: var(--fill-color);\n",
              "    }\n",
              "    30% {\n",
              "      border-color: transparent;\n",
              "      border-left-color: var(--fill-color);\n",
              "      border-top-color: var(--fill-color);\n",
              "      border-right-color: var(--fill-color);\n",
              "    }\n",
              "    40% {\n",
              "      border-color: transparent;\n",
              "      border-right-color: var(--fill-color);\n",
              "      border-top-color: var(--fill-color);\n",
              "    }\n",
              "    60% {\n",
              "      border-color: transparent;\n",
              "      border-right-color: var(--fill-color);\n",
              "    }\n",
              "    80% {\n",
              "      border-color: transparent;\n",
              "      border-right-color: var(--fill-color);\n",
              "      border-bottom-color: var(--fill-color);\n",
              "    }\n",
              "    90% {\n",
              "      border-color: transparent;\n",
              "      border-bottom-color: var(--fill-color);\n",
              "    }\n",
              "  }\n",
              "</style>\n",
              "\n",
              "  <script>\n",
              "    async function quickchart(key) {\n",
              "      const quickchartButtonEl =\n",
              "        document.querySelector('#' + key + ' button');\n",
              "      quickchartButtonEl.disabled = true;  // To prevent multiple clicks.\n",
              "      quickchartButtonEl.classList.add('colab-df-spinner');\n",
              "      try {\n",
              "        const charts = await google.colab.kernel.invokeFunction(\n",
              "            'suggestCharts', [key], {});\n",
              "      } catch (error) {\n",
              "        console.error('Error during call to suggestCharts:', error);\n",
              "      }\n",
              "      quickchartButtonEl.classList.remove('colab-df-spinner');\n",
              "      quickchartButtonEl.classList.add('colab-df-quickchart-complete');\n",
              "    }\n",
              "    (() => {\n",
              "      let quickchartButtonEl =\n",
              "        document.querySelector('#df-e52daf8f-79c1-4a61-837c-e63cd7840d2d button');\n",
              "      quickchartButtonEl.style.display =\n",
              "        google.colab.kernel.accessAllowed ? 'block' : 'none';\n",
              "    })();\n",
              "  </script>\n",
              "</div>\n",
              "\n",
              "  <div id=\"id_13805b92-dc5a-4735-8abe-c4c0f54f0e25\">\n",
              "    <style>\n",
              "      .colab-df-generate {\n",
              "        background-color: #E8F0FE;\n",
              "        border: none;\n",
              "        border-radius: 50%;\n",
              "        cursor: pointer;\n",
              "        display: none;\n",
              "        fill: #1967D2;\n",
              "        height: 32px;\n",
              "        padding: 0 0 0 0;\n",
              "        width: 32px;\n",
              "      }\n",
              "\n",
              "      .colab-df-generate:hover {\n",
              "        background-color: #E2EBFA;\n",
              "        box-shadow: 0px 1px 2px rgba(60, 64, 67, 0.3), 0px 1px 3px 1px rgba(60, 64, 67, 0.15);\n",
              "        fill: #174EA6;\n",
              "      }\n",
              "\n",
              "      [theme=dark] .colab-df-generate {\n",
              "        background-color: #3B4455;\n",
              "        fill: #D2E3FC;\n",
              "      }\n",
              "\n",
              "      [theme=dark] .colab-df-generate:hover {\n",
              "        background-color: #434B5C;\n",
              "        box-shadow: 0px 1px 3px 1px rgba(0, 0, 0, 0.15);\n",
              "        filter: drop-shadow(0px 1px 2px rgba(0, 0, 0, 0.3));\n",
              "        fill: #FFFFFF;\n",
              "      }\n",
              "    </style>\n",
              "    <button class=\"colab-df-generate\" onclick=\"generateWithVariable('y')\"\n",
              "            title=\"Generate code using this dataframe.\"\n",
              "            style=\"display:none;\">\n",
              "\n",
              "  <svg xmlns=\"http://www.w3.org/2000/svg\" height=\"24px\"viewBox=\"0 0 24 24\"\n",
              "       width=\"24px\">\n",
              "    <path d=\"M7,19H8.4L18.45,9,17,7.55,7,17.6ZM5,21V16.75L18.45,3.32a2,2,0,0,1,2.83,0l1.4,1.43a1.91,1.91,0,0,1,.58,1.4,1.91,1.91,0,0,1-.58,1.4L9.25,21ZM18.45,9,17,7.55Zm-12,3A5.31,5.31,0,0,0,4.9,8.1,5.31,5.31,0,0,0,1,6.5,5.31,5.31,0,0,0,4.9,4.9,5.31,5.31,0,0,0,6.5,1,5.31,5.31,0,0,0,8.1,4.9,5.31,5.31,0,0,0,12,6.5,5.46,5.46,0,0,0,6.5,12Z\"/>\n",
              "  </svg>\n",
              "    </button>\n",
              "    <script>\n",
              "      (() => {\n",
              "      const buttonEl =\n",
              "        document.querySelector('#id_13805b92-dc5a-4735-8abe-c4c0f54f0e25 button.colab-df-generate');\n",
              "      buttonEl.style.display =\n",
              "        google.colab.kernel.accessAllowed ? 'block' : 'none';\n",
              "\n",
              "      buttonEl.onclick = () => {\n",
              "        google.colab.notebook.generateWithVariable('y');\n",
              "      }\n",
              "      })();\n",
              "    </script>\n",
              "  </div>\n",
              "\n",
              "    </div>\n",
              "  </div>\n"
            ],
            "application/vnd.google.colaboratory.intrinsic+json": {
              "type": "dataframe",
              "variable_name": "y",
              "summary": "{\n  \"name\": \"y\",\n  \"rows\": 303,\n  \"fields\": [\n    {\n      \"column\": \"num\",\n      \"properties\": {\n        \"dtype\": \"number\",\n        \"std\": 1,\n        \"min\": 0,\n        \"max\": 4,\n        \"num_unique_values\": 5,\n        \"samples\": [\n          2,\n          4,\n          1\n        ],\n        \"semantic_type\": \"\",\n        \"description\": \"\"\n      }\n    }\n  ]\n}"
            }
          },
          "metadata": {},
          "execution_count": 155
        }
      ],
      "source": [
        "# Target dataframe visual analysis\n",
        "y"
      ]
    },
    {
      "cell_type": "code",
      "execution_count": 156,
      "metadata": {
        "colab": {
          "base_uri": "https://localhost:8080/"
        },
        "id": "2KSWj_EztE_U",
        "outputId": "058dff5d-4808-44e9-e8d3-12093ab17a6f"
      },
      "outputs": [
        {
          "output_type": "execute_result",
          "data": {
            "text/plain": [
              "num\n",
              "0      164\n",
              "1       55\n",
              "2       36\n",
              "3       35\n",
              "4       13\n",
              "Name: count, dtype: int64"
            ]
          },
          "metadata": {},
          "execution_count": 156
        }
      ],
      "source": [
        "# Balance analysis\n",
        "y.value_counts()"
      ]
    },
    {
      "cell_type": "markdown",
      "metadata": {
        "id": "uJhLCTtHpwDl"
      },
      "source": [
        "As described by the dataset authors, the target value ranges from 0 to 4 but experiments using this dataset remains on identify the presence or absence of heart disease. Also, we noticed that our target classes is severely unbalanced, this issue will handle in the next section aswell."
      ]
    },
    {
      "cell_type": "markdown",
      "metadata": {
        "id": "Dp2jhtpq0_7Q"
      },
      "source": [
        "##3.3 Dataset Cleaning"
      ]
    },
    {
      "cell_type": "markdown",
      "metadata": {
        "id": "6L4A2Ehv-cTS"
      },
      "source": [
        "First, lets set all the target dataframe values different than 0 to 1."
      ]
    },
    {
      "cell_type": "code",
      "execution_count": 157,
      "metadata": {
        "colab": {
          "base_uri": "https://localhost:8080/",
          "height": 424
        },
        "id": "zCItc2lVcaP7",
        "outputId": "387a52ab-7761-41ca-bb3f-35513128b39f"
      },
      "outputs": [
        {
          "output_type": "execute_result",
          "data": {
            "text/plain": [
              "     num\n",
              "0      0\n",
              "1      1\n",
              "2      1\n",
              "3      0\n",
              "4      0\n",
              "..   ...\n",
              "298    1\n",
              "299    1\n",
              "300    1\n",
              "301    1\n",
              "302    0\n",
              "\n",
              "[303 rows x 1 columns]"
            ],
            "text/html": [
              "\n",
              "  <div id=\"df-f0bfaad4-3578-41fc-acba-fc7ca02de5d7\" class=\"colab-df-container\">\n",
              "    <div>\n",
              "<style scoped>\n",
              "    .dataframe tbody tr th:only-of-type {\n",
              "        vertical-align: middle;\n",
              "    }\n",
              "\n",
              "    .dataframe tbody tr th {\n",
              "        vertical-align: top;\n",
              "    }\n",
              "\n",
              "    .dataframe thead th {\n",
              "        text-align: right;\n",
              "    }\n",
              "</style>\n",
              "<table border=\"1\" class=\"dataframe\">\n",
              "  <thead>\n",
              "    <tr style=\"text-align: right;\">\n",
              "      <th></th>\n",
              "      <th>num</th>\n",
              "    </tr>\n",
              "  </thead>\n",
              "  <tbody>\n",
              "    <tr>\n",
              "      <th>0</th>\n",
              "      <td>0</td>\n",
              "    </tr>\n",
              "    <tr>\n",
              "      <th>1</th>\n",
              "      <td>1</td>\n",
              "    </tr>\n",
              "    <tr>\n",
              "      <th>2</th>\n",
              "      <td>1</td>\n",
              "    </tr>\n",
              "    <tr>\n",
              "      <th>3</th>\n",
              "      <td>0</td>\n",
              "    </tr>\n",
              "    <tr>\n",
              "      <th>4</th>\n",
              "      <td>0</td>\n",
              "    </tr>\n",
              "    <tr>\n",
              "      <th>...</th>\n",
              "      <td>...</td>\n",
              "    </tr>\n",
              "    <tr>\n",
              "      <th>298</th>\n",
              "      <td>1</td>\n",
              "    </tr>\n",
              "    <tr>\n",
              "      <th>299</th>\n",
              "      <td>1</td>\n",
              "    </tr>\n",
              "    <tr>\n",
              "      <th>300</th>\n",
              "      <td>1</td>\n",
              "    </tr>\n",
              "    <tr>\n",
              "      <th>301</th>\n",
              "      <td>1</td>\n",
              "    </tr>\n",
              "    <tr>\n",
              "      <th>302</th>\n",
              "      <td>0</td>\n",
              "    </tr>\n",
              "  </tbody>\n",
              "</table>\n",
              "<p>303 rows × 1 columns</p>\n",
              "</div>\n",
              "    <div class=\"colab-df-buttons\">\n",
              "\n",
              "  <div class=\"colab-df-container\">\n",
              "    <button class=\"colab-df-convert\" onclick=\"convertToInteractive('df-f0bfaad4-3578-41fc-acba-fc7ca02de5d7')\"\n",
              "            title=\"Convert this dataframe to an interactive table.\"\n",
              "            style=\"display:none;\">\n",
              "\n",
              "  <svg xmlns=\"http://www.w3.org/2000/svg\" height=\"24px\" viewBox=\"0 -960 960 960\">\n",
              "    <path d=\"M120-120v-720h720v720H120Zm60-500h600v-160H180v160Zm220 220h160v-160H400v160Zm0 220h160v-160H400v160ZM180-400h160v-160H180v160Zm440 0h160v-160H620v160ZM180-180h160v-160H180v160Zm440 0h160v-160H620v160Z\"/>\n",
              "  </svg>\n",
              "    </button>\n",
              "\n",
              "  <style>\n",
              "    .colab-df-container {\n",
              "      display:flex;\n",
              "      gap: 12px;\n",
              "    }\n",
              "\n",
              "    .colab-df-convert {\n",
              "      background-color: #E8F0FE;\n",
              "      border: none;\n",
              "      border-radius: 50%;\n",
              "      cursor: pointer;\n",
              "      display: none;\n",
              "      fill: #1967D2;\n",
              "      height: 32px;\n",
              "      padding: 0 0 0 0;\n",
              "      width: 32px;\n",
              "    }\n",
              "\n",
              "    .colab-df-convert:hover {\n",
              "      background-color: #E2EBFA;\n",
              "      box-shadow: 0px 1px 2px rgba(60, 64, 67, 0.3), 0px 1px 3px 1px rgba(60, 64, 67, 0.15);\n",
              "      fill: #174EA6;\n",
              "    }\n",
              "\n",
              "    .colab-df-buttons div {\n",
              "      margin-bottom: 4px;\n",
              "    }\n",
              "\n",
              "    [theme=dark] .colab-df-convert {\n",
              "      background-color: #3B4455;\n",
              "      fill: #D2E3FC;\n",
              "    }\n",
              "\n",
              "    [theme=dark] .colab-df-convert:hover {\n",
              "      background-color: #434B5C;\n",
              "      box-shadow: 0px 1px 3px 1px rgba(0, 0, 0, 0.15);\n",
              "      filter: drop-shadow(0px 1px 2px rgba(0, 0, 0, 0.3));\n",
              "      fill: #FFFFFF;\n",
              "    }\n",
              "  </style>\n",
              "\n",
              "    <script>\n",
              "      const buttonEl =\n",
              "        document.querySelector('#df-f0bfaad4-3578-41fc-acba-fc7ca02de5d7 button.colab-df-convert');\n",
              "      buttonEl.style.display =\n",
              "        google.colab.kernel.accessAllowed ? 'block' : 'none';\n",
              "\n",
              "      async function convertToInteractive(key) {\n",
              "        const element = document.querySelector('#df-f0bfaad4-3578-41fc-acba-fc7ca02de5d7');\n",
              "        const dataTable =\n",
              "          await google.colab.kernel.invokeFunction('convertToInteractive',\n",
              "                                                    [key], {});\n",
              "        if (!dataTable) return;\n",
              "\n",
              "        const docLinkHtml = 'Like what you see? Visit the ' +\n",
              "          '<a target=\"_blank\" href=https://colab.research.google.com/notebooks/data_table.ipynb>data table notebook</a>'\n",
              "          + ' to learn more about interactive tables.';\n",
              "        element.innerHTML = '';\n",
              "        dataTable['output_type'] = 'display_data';\n",
              "        await google.colab.output.renderOutput(dataTable, element);\n",
              "        const docLink = document.createElement('div');\n",
              "        docLink.innerHTML = docLinkHtml;\n",
              "        element.appendChild(docLink);\n",
              "      }\n",
              "    </script>\n",
              "  </div>\n",
              "\n",
              "\n",
              "<div id=\"df-e94e5e11-206a-4452-a445-2fe161840e7f\">\n",
              "  <button class=\"colab-df-quickchart\" onclick=\"quickchart('df-e94e5e11-206a-4452-a445-2fe161840e7f')\"\n",
              "            title=\"Suggest charts\"\n",
              "            style=\"display:none;\">\n",
              "\n",
              "<svg xmlns=\"http://www.w3.org/2000/svg\" height=\"24px\"viewBox=\"0 0 24 24\"\n",
              "     width=\"24px\">\n",
              "    <g>\n",
              "        <path d=\"M19 3H5c-1.1 0-2 .9-2 2v14c0 1.1.9 2 2 2h14c1.1 0 2-.9 2-2V5c0-1.1-.9-2-2-2zM9 17H7v-7h2v7zm4 0h-2V7h2v10zm4 0h-2v-4h2v4z\"/>\n",
              "    </g>\n",
              "</svg>\n",
              "  </button>\n",
              "\n",
              "<style>\n",
              "  .colab-df-quickchart {\n",
              "      --bg-color: #E8F0FE;\n",
              "      --fill-color: #1967D2;\n",
              "      --hover-bg-color: #E2EBFA;\n",
              "      --hover-fill-color: #174EA6;\n",
              "      --disabled-fill-color: #AAA;\n",
              "      --disabled-bg-color: #DDD;\n",
              "  }\n",
              "\n",
              "  [theme=dark] .colab-df-quickchart {\n",
              "      --bg-color: #3B4455;\n",
              "      --fill-color: #D2E3FC;\n",
              "      --hover-bg-color: #434B5C;\n",
              "      --hover-fill-color: #FFFFFF;\n",
              "      --disabled-bg-color: #3B4455;\n",
              "      --disabled-fill-color: #666;\n",
              "  }\n",
              "\n",
              "  .colab-df-quickchart {\n",
              "    background-color: var(--bg-color);\n",
              "    border: none;\n",
              "    border-radius: 50%;\n",
              "    cursor: pointer;\n",
              "    display: none;\n",
              "    fill: var(--fill-color);\n",
              "    height: 32px;\n",
              "    padding: 0;\n",
              "    width: 32px;\n",
              "  }\n",
              "\n",
              "  .colab-df-quickchart:hover {\n",
              "    background-color: var(--hover-bg-color);\n",
              "    box-shadow: 0 1px 2px rgba(60, 64, 67, 0.3), 0 1px 3px 1px rgba(60, 64, 67, 0.15);\n",
              "    fill: var(--button-hover-fill-color);\n",
              "  }\n",
              "\n",
              "  .colab-df-quickchart-complete:disabled,\n",
              "  .colab-df-quickchart-complete:disabled:hover {\n",
              "    background-color: var(--disabled-bg-color);\n",
              "    fill: var(--disabled-fill-color);\n",
              "    box-shadow: none;\n",
              "  }\n",
              "\n",
              "  .colab-df-spinner {\n",
              "    border: 2px solid var(--fill-color);\n",
              "    border-color: transparent;\n",
              "    border-bottom-color: var(--fill-color);\n",
              "    animation:\n",
              "      spin 1s steps(1) infinite;\n",
              "  }\n",
              "\n",
              "  @keyframes spin {\n",
              "    0% {\n",
              "      border-color: transparent;\n",
              "      border-bottom-color: var(--fill-color);\n",
              "      border-left-color: var(--fill-color);\n",
              "    }\n",
              "    20% {\n",
              "      border-color: transparent;\n",
              "      border-left-color: var(--fill-color);\n",
              "      border-top-color: var(--fill-color);\n",
              "    }\n",
              "    30% {\n",
              "      border-color: transparent;\n",
              "      border-left-color: var(--fill-color);\n",
              "      border-top-color: var(--fill-color);\n",
              "      border-right-color: var(--fill-color);\n",
              "    }\n",
              "    40% {\n",
              "      border-color: transparent;\n",
              "      border-right-color: var(--fill-color);\n",
              "      border-top-color: var(--fill-color);\n",
              "    }\n",
              "    60% {\n",
              "      border-color: transparent;\n",
              "      border-right-color: var(--fill-color);\n",
              "    }\n",
              "    80% {\n",
              "      border-color: transparent;\n",
              "      border-right-color: var(--fill-color);\n",
              "      border-bottom-color: var(--fill-color);\n",
              "    }\n",
              "    90% {\n",
              "      border-color: transparent;\n",
              "      border-bottom-color: var(--fill-color);\n",
              "    }\n",
              "  }\n",
              "</style>\n",
              "\n",
              "  <script>\n",
              "    async function quickchart(key) {\n",
              "      const quickchartButtonEl =\n",
              "        document.querySelector('#' + key + ' button');\n",
              "      quickchartButtonEl.disabled = true;  // To prevent multiple clicks.\n",
              "      quickchartButtonEl.classList.add('colab-df-spinner');\n",
              "      try {\n",
              "        const charts = await google.colab.kernel.invokeFunction(\n",
              "            'suggestCharts', [key], {});\n",
              "      } catch (error) {\n",
              "        console.error('Error during call to suggestCharts:', error);\n",
              "      }\n",
              "      quickchartButtonEl.classList.remove('colab-df-spinner');\n",
              "      quickchartButtonEl.classList.add('colab-df-quickchart-complete');\n",
              "    }\n",
              "    (() => {\n",
              "      let quickchartButtonEl =\n",
              "        document.querySelector('#df-e94e5e11-206a-4452-a445-2fe161840e7f button');\n",
              "      quickchartButtonEl.style.display =\n",
              "        google.colab.kernel.accessAllowed ? 'block' : 'none';\n",
              "    })();\n",
              "  </script>\n",
              "</div>\n",
              "\n",
              "  <div id=\"id_e84cc252-1cb8-41f3-9ce1-e10b37caed0b\">\n",
              "    <style>\n",
              "      .colab-df-generate {\n",
              "        background-color: #E8F0FE;\n",
              "        border: none;\n",
              "        border-radius: 50%;\n",
              "        cursor: pointer;\n",
              "        display: none;\n",
              "        fill: #1967D2;\n",
              "        height: 32px;\n",
              "        padding: 0 0 0 0;\n",
              "        width: 32px;\n",
              "      }\n",
              "\n",
              "      .colab-df-generate:hover {\n",
              "        background-color: #E2EBFA;\n",
              "        box-shadow: 0px 1px 2px rgba(60, 64, 67, 0.3), 0px 1px 3px 1px rgba(60, 64, 67, 0.15);\n",
              "        fill: #174EA6;\n",
              "      }\n",
              "\n",
              "      [theme=dark] .colab-df-generate {\n",
              "        background-color: #3B4455;\n",
              "        fill: #D2E3FC;\n",
              "      }\n",
              "\n",
              "      [theme=dark] .colab-df-generate:hover {\n",
              "        background-color: #434B5C;\n",
              "        box-shadow: 0px 1px 3px 1px rgba(0, 0, 0, 0.15);\n",
              "        filter: drop-shadow(0px 1px 2px rgba(0, 0, 0, 0.3));\n",
              "        fill: #FFFFFF;\n",
              "      }\n",
              "    </style>\n",
              "    <button class=\"colab-df-generate\" onclick=\"generateWithVariable('y')\"\n",
              "            title=\"Generate code using this dataframe.\"\n",
              "            style=\"display:none;\">\n",
              "\n",
              "  <svg xmlns=\"http://www.w3.org/2000/svg\" height=\"24px\"viewBox=\"0 0 24 24\"\n",
              "       width=\"24px\">\n",
              "    <path d=\"M7,19H8.4L18.45,9,17,7.55,7,17.6ZM5,21V16.75L18.45,3.32a2,2,0,0,1,2.83,0l1.4,1.43a1.91,1.91,0,0,1,.58,1.4,1.91,1.91,0,0,1-.58,1.4L9.25,21ZM18.45,9,17,7.55Zm-12,3A5.31,5.31,0,0,0,4.9,8.1,5.31,5.31,0,0,0,1,6.5,5.31,5.31,0,0,0,4.9,4.9,5.31,5.31,0,0,0,6.5,1,5.31,5.31,0,0,0,8.1,4.9,5.31,5.31,0,0,0,12,6.5,5.46,5.46,0,0,0,6.5,12Z\"/>\n",
              "  </svg>\n",
              "    </button>\n",
              "    <script>\n",
              "      (() => {\n",
              "      const buttonEl =\n",
              "        document.querySelector('#id_e84cc252-1cb8-41f3-9ce1-e10b37caed0b button.colab-df-generate');\n",
              "      buttonEl.style.display =\n",
              "        google.colab.kernel.accessAllowed ? 'block' : 'none';\n",
              "\n",
              "      buttonEl.onclick = () => {\n",
              "        google.colab.notebook.generateWithVariable('y');\n",
              "      }\n",
              "      })();\n",
              "    </script>\n",
              "  </div>\n",
              "\n",
              "    </div>\n",
              "  </div>\n"
            ],
            "application/vnd.google.colaboratory.intrinsic+json": {
              "type": "dataframe",
              "variable_name": "y",
              "summary": "{\n  \"name\": \"y\",\n  \"rows\": 303,\n  \"fields\": [\n    {\n      \"column\": \"num\",\n      \"properties\": {\n        \"dtype\": \"number\",\n        \"std\": 0,\n        \"min\": 0,\n        \"max\": 1,\n        \"num_unique_values\": 2,\n        \"samples\": [\n          1,\n          0\n        ],\n        \"semantic_type\": \"\",\n        \"description\": \"\"\n      }\n    }\n  ]\n}"
            }
          },
          "metadata": {},
          "execution_count": 157
        }
      ],
      "source": [
        "# All values bigger and 0 are set to 1\n",
        "y['num'] = y['num'].apply(lambda x: 1 if x > 0 else x)\n",
        "\n",
        "y"
      ]
    },
    {
      "cell_type": "code",
      "execution_count": 158,
      "metadata": {
        "colab": {
          "base_uri": "https://localhost:8080/"
        },
        "id": "noTmyinJ-xxo",
        "outputId": "94fbdd9b-0d1e-47f5-b2ce-32bec325eb2e"
      },
      "outputs": [
        {
          "output_type": "execute_result",
          "data": {
            "text/plain": [
              "num\n",
              "0      164\n",
              "1      139\n",
              "Name: count, dtype: int64"
            ]
          },
          "metadata": {},
          "execution_count": 158
        }
      ],
      "source": [
        "# Balance analysis\n",
        "y.value_counts()"
      ]
    },
    {
      "cell_type": "markdown",
      "metadata": {
        "id": "5x4k0G6X-8YW"
      },
      "source": [
        "Now we can observe that our dataset is slightly unbalanced in a 1:1.17 ratio."
      ]
    },
    {
      "cell_type": "markdown",
      "metadata": {
        "id": "Sd9BcXcIAP1s"
      },
      "source": [
        "Now we must handle the NaN values in our feature dataframe. We will use the count() function to identify which columns have NaN values:"
      ]
    },
    {
      "cell_type": "code",
      "execution_count": 159,
      "metadata": {
        "colab": {
          "base_uri": "https://localhost:8080/"
        },
        "id": "5tXxdwpcSnIp",
        "outputId": "3c786823-d240-4380-cf28-e5c8ce07d432"
      },
      "outputs": [
        {
          "output_type": "execute_result",
          "data": {
            "text/plain": [
              "age         303\n",
              "sex         303\n",
              "cp          303\n",
              "trestbps    303\n",
              "chol        303\n",
              "fbs         303\n",
              "restecg     303\n",
              "thalach     303\n",
              "exang       303\n",
              "oldpeak     303\n",
              "slope       303\n",
              "ca          299\n",
              "thal        301\n",
              "dtype: int64"
            ]
          },
          "metadata": {},
          "execution_count": 159
        }
      ],
      "source": [
        "X.count()"
      ]
    },
    {
      "cell_type": "markdown",
      "metadata": {
        "id": "Gbi3PGpnVdg3"
      },
      "source": [
        "By using the X.count() we can observe that two columns have some NaN values in the features dataframe (4 rows in `ca` column and 2 rows in `thal` column). As none of the columns has presented a expressive amount of NaN values, we will handle this issue through data removal, by removing the rows that caontains NaN values from the dataframe. However, if we drop the NaN rows directly from X dataframe, we would not be able to drop the related target class in the dataframe y, so, we will concatenate these dataframes and then drop the rows that contains NaN values."
      ]
    },
    {
      "cell_type": "code",
      "execution_count": 160,
      "metadata": {
        "colab": {
          "base_uri": "https://localhost:8080/",
          "height": 424
        },
        "id": "ZtQ4_hW1eFd8",
        "outputId": "c99eff20-2b3b-4412-ef2d-10d3c3fac6f7"
      },
      "outputs": [
        {
          "output_type": "execute_result",
          "data": {
            "text/plain": [
              "     age  sex  cp  trestbps  chol  fbs  restecg  thalach  exang  oldpeak  \\\n",
              "0     63    1   1       145   233    1        2      150      0      2.3   \n",
              "1     67    1   4       160   286    0        2      108      1      1.5   \n",
              "2     67    1   4       120   229    0        2      129      1      2.6   \n",
              "3     37    1   3       130   250    0        0      187      0      3.5   \n",
              "4     41    0   2       130   204    0        2      172      0      1.4   \n",
              "..   ...  ...  ..       ...   ...  ...      ...      ...    ...      ...   \n",
              "298   45    1   1       110   264    0        0      132      0      1.2   \n",
              "299   68    1   4       144   193    1        0      141      0      3.4   \n",
              "300   57    1   4       130   131    0        0      115      1      1.2   \n",
              "301   57    0   2       130   236    0        2      174      0      0.0   \n",
              "302   38    1   3       138   175    0        0      173      0      0.0   \n",
              "\n",
              "     slope   ca  thal  num  \n",
              "0        3  0.0   6.0    0  \n",
              "1        2  3.0   3.0    1  \n",
              "2        2  2.0   7.0    1  \n",
              "3        3  0.0   3.0    0  \n",
              "4        1  0.0   3.0    0  \n",
              "..     ...  ...   ...  ...  \n",
              "298      2  0.0   7.0    1  \n",
              "299      2  2.0   7.0    1  \n",
              "300      2  1.0   7.0    1  \n",
              "301      2  1.0   3.0    1  \n",
              "302      1  NaN   3.0    0  \n",
              "\n",
              "[303 rows x 14 columns]"
            ],
            "text/html": [
              "\n",
              "  <div id=\"df-40305278-1ed1-48a5-aed0-b0caeb7d97a3\" class=\"colab-df-container\">\n",
              "    <div>\n",
              "<style scoped>\n",
              "    .dataframe tbody tr th:only-of-type {\n",
              "        vertical-align: middle;\n",
              "    }\n",
              "\n",
              "    .dataframe tbody tr th {\n",
              "        vertical-align: top;\n",
              "    }\n",
              "\n",
              "    .dataframe thead th {\n",
              "        text-align: right;\n",
              "    }\n",
              "</style>\n",
              "<table border=\"1\" class=\"dataframe\">\n",
              "  <thead>\n",
              "    <tr style=\"text-align: right;\">\n",
              "      <th></th>\n",
              "      <th>age</th>\n",
              "      <th>sex</th>\n",
              "      <th>cp</th>\n",
              "      <th>trestbps</th>\n",
              "      <th>chol</th>\n",
              "      <th>fbs</th>\n",
              "      <th>restecg</th>\n",
              "      <th>thalach</th>\n",
              "      <th>exang</th>\n",
              "      <th>oldpeak</th>\n",
              "      <th>slope</th>\n",
              "      <th>ca</th>\n",
              "      <th>thal</th>\n",
              "      <th>num</th>\n",
              "    </tr>\n",
              "  </thead>\n",
              "  <tbody>\n",
              "    <tr>\n",
              "      <th>0</th>\n",
              "      <td>63</td>\n",
              "      <td>1</td>\n",
              "      <td>1</td>\n",
              "      <td>145</td>\n",
              "      <td>233</td>\n",
              "      <td>1</td>\n",
              "      <td>2</td>\n",
              "      <td>150</td>\n",
              "      <td>0</td>\n",
              "      <td>2.3</td>\n",
              "      <td>3</td>\n",
              "      <td>0.0</td>\n",
              "      <td>6.0</td>\n",
              "      <td>0</td>\n",
              "    </tr>\n",
              "    <tr>\n",
              "      <th>1</th>\n",
              "      <td>67</td>\n",
              "      <td>1</td>\n",
              "      <td>4</td>\n",
              "      <td>160</td>\n",
              "      <td>286</td>\n",
              "      <td>0</td>\n",
              "      <td>2</td>\n",
              "      <td>108</td>\n",
              "      <td>1</td>\n",
              "      <td>1.5</td>\n",
              "      <td>2</td>\n",
              "      <td>3.0</td>\n",
              "      <td>3.0</td>\n",
              "      <td>1</td>\n",
              "    </tr>\n",
              "    <tr>\n",
              "      <th>2</th>\n",
              "      <td>67</td>\n",
              "      <td>1</td>\n",
              "      <td>4</td>\n",
              "      <td>120</td>\n",
              "      <td>229</td>\n",
              "      <td>0</td>\n",
              "      <td>2</td>\n",
              "      <td>129</td>\n",
              "      <td>1</td>\n",
              "      <td>2.6</td>\n",
              "      <td>2</td>\n",
              "      <td>2.0</td>\n",
              "      <td>7.0</td>\n",
              "      <td>1</td>\n",
              "    </tr>\n",
              "    <tr>\n",
              "      <th>3</th>\n",
              "      <td>37</td>\n",
              "      <td>1</td>\n",
              "      <td>3</td>\n",
              "      <td>130</td>\n",
              "      <td>250</td>\n",
              "      <td>0</td>\n",
              "      <td>0</td>\n",
              "      <td>187</td>\n",
              "      <td>0</td>\n",
              "      <td>3.5</td>\n",
              "      <td>3</td>\n",
              "      <td>0.0</td>\n",
              "      <td>3.0</td>\n",
              "      <td>0</td>\n",
              "    </tr>\n",
              "    <tr>\n",
              "      <th>4</th>\n",
              "      <td>41</td>\n",
              "      <td>0</td>\n",
              "      <td>2</td>\n",
              "      <td>130</td>\n",
              "      <td>204</td>\n",
              "      <td>0</td>\n",
              "      <td>2</td>\n",
              "      <td>172</td>\n",
              "      <td>0</td>\n",
              "      <td>1.4</td>\n",
              "      <td>1</td>\n",
              "      <td>0.0</td>\n",
              "      <td>3.0</td>\n",
              "      <td>0</td>\n",
              "    </tr>\n",
              "    <tr>\n",
              "      <th>...</th>\n",
              "      <td>...</td>\n",
              "      <td>...</td>\n",
              "      <td>...</td>\n",
              "      <td>...</td>\n",
              "      <td>...</td>\n",
              "      <td>...</td>\n",
              "      <td>...</td>\n",
              "      <td>...</td>\n",
              "      <td>...</td>\n",
              "      <td>...</td>\n",
              "      <td>...</td>\n",
              "      <td>...</td>\n",
              "      <td>...</td>\n",
              "      <td>...</td>\n",
              "    </tr>\n",
              "    <tr>\n",
              "      <th>298</th>\n",
              "      <td>45</td>\n",
              "      <td>1</td>\n",
              "      <td>1</td>\n",
              "      <td>110</td>\n",
              "      <td>264</td>\n",
              "      <td>0</td>\n",
              "      <td>0</td>\n",
              "      <td>132</td>\n",
              "      <td>0</td>\n",
              "      <td>1.2</td>\n",
              "      <td>2</td>\n",
              "      <td>0.0</td>\n",
              "      <td>7.0</td>\n",
              "      <td>1</td>\n",
              "    </tr>\n",
              "    <tr>\n",
              "      <th>299</th>\n",
              "      <td>68</td>\n",
              "      <td>1</td>\n",
              "      <td>4</td>\n",
              "      <td>144</td>\n",
              "      <td>193</td>\n",
              "      <td>1</td>\n",
              "      <td>0</td>\n",
              "      <td>141</td>\n",
              "      <td>0</td>\n",
              "      <td>3.4</td>\n",
              "      <td>2</td>\n",
              "      <td>2.0</td>\n",
              "      <td>7.0</td>\n",
              "      <td>1</td>\n",
              "    </tr>\n",
              "    <tr>\n",
              "      <th>300</th>\n",
              "      <td>57</td>\n",
              "      <td>1</td>\n",
              "      <td>4</td>\n",
              "      <td>130</td>\n",
              "      <td>131</td>\n",
              "      <td>0</td>\n",
              "      <td>0</td>\n",
              "      <td>115</td>\n",
              "      <td>1</td>\n",
              "      <td>1.2</td>\n",
              "      <td>2</td>\n",
              "      <td>1.0</td>\n",
              "      <td>7.0</td>\n",
              "      <td>1</td>\n",
              "    </tr>\n",
              "    <tr>\n",
              "      <th>301</th>\n",
              "      <td>57</td>\n",
              "      <td>0</td>\n",
              "      <td>2</td>\n",
              "      <td>130</td>\n",
              "      <td>236</td>\n",
              "      <td>0</td>\n",
              "      <td>2</td>\n",
              "      <td>174</td>\n",
              "      <td>0</td>\n",
              "      <td>0.0</td>\n",
              "      <td>2</td>\n",
              "      <td>1.0</td>\n",
              "      <td>3.0</td>\n",
              "      <td>1</td>\n",
              "    </tr>\n",
              "    <tr>\n",
              "      <th>302</th>\n",
              "      <td>38</td>\n",
              "      <td>1</td>\n",
              "      <td>3</td>\n",
              "      <td>138</td>\n",
              "      <td>175</td>\n",
              "      <td>0</td>\n",
              "      <td>0</td>\n",
              "      <td>173</td>\n",
              "      <td>0</td>\n",
              "      <td>0.0</td>\n",
              "      <td>1</td>\n",
              "      <td>NaN</td>\n",
              "      <td>3.0</td>\n",
              "      <td>0</td>\n",
              "    </tr>\n",
              "  </tbody>\n",
              "</table>\n",
              "<p>303 rows × 14 columns</p>\n",
              "</div>\n",
              "    <div class=\"colab-df-buttons\">\n",
              "\n",
              "  <div class=\"colab-df-container\">\n",
              "    <button class=\"colab-df-convert\" onclick=\"convertToInteractive('df-40305278-1ed1-48a5-aed0-b0caeb7d97a3')\"\n",
              "            title=\"Convert this dataframe to an interactive table.\"\n",
              "            style=\"display:none;\">\n",
              "\n",
              "  <svg xmlns=\"http://www.w3.org/2000/svg\" height=\"24px\" viewBox=\"0 -960 960 960\">\n",
              "    <path d=\"M120-120v-720h720v720H120Zm60-500h600v-160H180v160Zm220 220h160v-160H400v160Zm0 220h160v-160H400v160ZM180-400h160v-160H180v160Zm440 0h160v-160H620v160ZM180-180h160v-160H180v160Zm440 0h160v-160H620v160Z\"/>\n",
              "  </svg>\n",
              "    </button>\n",
              "\n",
              "  <style>\n",
              "    .colab-df-container {\n",
              "      display:flex;\n",
              "      gap: 12px;\n",
              "    }\n",
              "\n",
              "    .colab-df-convert {\n",
              "      background-color: #E8F0FE;\n",
              "      border: none;\n",
              "      border-radius: 50%;\n",
              "      cursor: pointer;\n",
              "      display: none;\n",
              "      fill: #1967D2;\n",
              "      height: 32px;\n",
              "      padding: 0 0 0 0;\n",
              "      width: 32px;\n",
              "    }\n",
              "\n",
              "    .colab-df-convert:hover {\n",
              "      background-color: #E2EBFA;\n",
              "      box-shadow: 0px 1px 2px rgba(60, 64, 67, 0.3), 0px 1px 3px 1px rgba(60, 64, 67, 0.15);\n",
              "      fill: #174EA6;\n",
              "    }\n",
              "\n",
              "    .colab-df-buttons div {\n",
              "      margin-bottom: 4px;\n",
              "    }\n",
              "\n",
              "    [theme=dark] .colab-df-convert {\n",
              "      background-color: #3B4455;\n",
              "      fill: #D2E3FC;\n",
              "    }\n",
              "\n",
              "    [theme=dark] .colab-df-convert:hover {\n",
              "      background-color: #434B5C;\n",
              "      box-shadow: 0px 1px 3px 1px rgba(0, 0, 0, 0.15);\n",
              "      filter: drop-shadow(0px 1px 2px rgba(0, 0, 0, 0.3));\n",
              "      fill: #FFFFFF;\n",
              "    }\n",
              "  </style>\n",
              "\n",
              "    <script>\n",
              "      const buttonEl =\n",
              "        document.querySelector('#df-40305278-1ed1-48a5-aed0-b0caeb7d97a3 button.colab-df-convert');\n",
              "      buttonEl.style.display =\n",
              "        google.colab.kernel.accessAllowed ? 'block' : 'none';\n",
              "\n",
              "      async function convertToInteractive(key) {\n",
              "        const element = document.querySelector('#df-40305278-1ed1-48a5-aed0-b0caeb7d97a3');\n",
              "        const dataTable =\n",
              "          await google.colab.kernel.invokeFunction('convertToInteractive',\n",
              "                                                    [key], {});\n",
              "        if (!dataTable) return;\n",
              "\n",
              "        const docLinkHtml = 'Like what you see? Visit the ' +\n",
              "          '<a target=\"_blank\" href=https://colab.research.google.com/notebooks/data_table.ipynb>data table notebook</a>'\n",
              "          + ' to learn more about interactive tables.';\n",
              "        element.innerHTML = '';\n",
              "        dataTable['output_type'] = 'display_data';\n",
              "        await google.colab.output.renderOutput(dataTable, element);\n",
              "        const docLink = document.createElement('div');\n",
              "        docLink.innerHTML = docLinkHtml;\n",
              "        element.appendChild(docLink);\n",
              "      }\n",
              "    </script>\n",
              "  </div>\n",
              "\n",
              "\n",
              "<div id=\"df-cabd6969-7097-48eb-8a25-946e79247d59\">\n",
              "  <button class=\"colab-df-quickchart\" onclick=\"quickchart('df-cabd6969-7097-48eb-8a25-946e79247d59')\"\n",
              "            title=\"Suggest charts\"\n",
              "            style=\"display:none;\">\n",
              "\n",
              "<svg xmlns=\"http://www.w3.org/2000/svg\" height=\"24px\"viewBox=\"0 0 24 24\"\n",
              "     width=\"24px\">\n",
              "    <g>\n",
              "        <path d=\"M19 3H5c-1.1 0-2 .9-2 2v14c0 1.1.9 2 2 2h14c1.1 0 2-.9 2-2V5c0-1.1-.9-2-2-2zM9 17H7v-7h2v7zm4 0h-2V7h2v10zm4 0h-2v-4h2v4z\"/>\n",
              "    </g>\n",
              "</svg>\n",
              "  </button>\n",
              "\n",
              "<style>\n",
              "  .colab-df-quickchart {\n",
              "      --bg-color: #E8F0FE;\n",
              "      --fill-color: #1967D2;\n",
              "      --hover-bg-color: #E2EBFA;\n",
              "      --hover-fill-color: #174EA6;\n",
              "      --disabled-fill-color: #AAA;\n",
              "      --disabled-bg-color: #DDD;\n",
              "  }\n",
              "\n",
              "  [theme=dark] .colab-df-quickchart {\n",
              "      --bg-color: #3B4455;\n",
              "      --fill-color: #D2E3FC;\n",
              "      --hover-bg-color: #434B5C;\n",
              "      --hover-fill-color: #FFFFFF;\n",
              "      --disabled-bg-color: #3B4455;\n",
              "      --disabled-fill-color: #666;\n",
              "  }\n",
              "\n",
              "  .colab-df-quickchart {\n",
              "    background-color: var(--bg-color);\n",
              "    border: none;\n",
              "    border-radius: 50%;\n",
              "    cursor: pointer;\n",
              "    display: none;\n",
              "    fill: var(--fill-color);\n",
              "    height: 32px;\n",
              "    padding: 0;\n",
              "    width: 32px;\n",
              "  }\n",
              "\n",
              "  .colab-df-quickchart:hover {\n",
              "    background-color: var(--hover-bg-color);\n",
              "    box-shadow: 0 1px 2px rgba(60, 64, 67, 0.3), 0 1px 3px 1px rgba(60, 64, 67, 0.15);\n",
              "    fill: var(--button-hover-fill-color);\n",
              "  }\n",
              "\n",
              "  .colab-df-quickchart-complete:disabled,\n",
              "  .colab-df-quickchart-complete:disabled:hover {\n",
              "    background-color: var(--disabled-bg-color);\n",
              "    fill: var(--disabled-fill-color);\n",
              "    box-shadow: none;\n",
              "  }\n",
              "\n",
              "  .colab-df-spinner {\n",
              "    border: 2px solid var(--fill-color);\n",
              "    border-color: transparent;\n",
              "    border-bottom-color: var(--fill-color);\n",
              "    animation:\n",
              "      spin 1s steps(1) infinite;\n",
              "  }\n",
              "\n",
              "  @keyframes spin {\n",
              "    0% {\n",
              "      border-color: transparent;\n",
              "      border-bottom-color: var(--fill-color);\n",
              "      border-left-color: var(--fill-color);\n",
              "    }\n",
              "    20% {\n",
              "      border-color: transparent;\n",
              "      border-left-color: var(--fill-color);\n",
              "      border-top-color: var(--fill-color);\n",
              "    }\n",
              "    30% {\n",
              "      border-color: transparent;\n",
              "      border-left-color: var(--fill-color);\n",
              "      border-top-color: var(--fill-color);\n",
              "      border-right-color: var(--fill-color);\n",
              "    }\n",
              "    40% {\n",
              "      border-color: transparent;\n",
              "      border-right-color: var(--fill-color);\n",
              "      border-top-color: var(--fill-color);\n",
              "    }\n",
              "    60% {\n",
              "      border-color: transparent;\n",
              "      border-right-color: var(--fill-color);\n",
              "    }\n",
              "    80% {\n",
              "      border-color: transparent;\n",
              "      border-right-color: var(--fill-color);\n",
              "      border-bottom-color: var(--fill-color);\n",
              "    }\n",
              "    90% {\n",
              "      border-color: transparent;\n",
              "      border-bottom-color: var(--fill-color);\n",
              "    }\n",
              "  }\n",
              "</style>\n",
              "\n",
              "  <script>\n",
              "    async function quickchart(key) {\n",
              "      const quickchartButtonEl =\n",
              "        document.querySelector('#' + key + ' button');\n",
              "      quickchartButtonEl.disabled = true;  // To prevent multiple clicks.\n",
              "      quickchartButtonEl.classList.add('colab-df-spinner');\n",
              "      try {\n",
              "        const charts = await google.colab.kernel.invokeFunction(\n",
              "            'suggestCharts', [key], {});\n",
              "      } catch (error) {\n",
              "        console.error('Error during call to suggestCharts:', error);\n",
              "      }\n",
              "      quickchartButtonEl.classList.remove('colab-df-spinner');\n",
              "      quickchartButtonEl.classList.add('colab-df-quickchart-complete');\n",
              "    }\n",
              "    (() => {\n",
              "      let quickchartButtonEl =\n",
              "        document.querySelector('#df-cabd6969-7097-48eb-8a25-946e79247d59 button');\n",
              "      quickchartButtonEl.style.display =\n",
              "        google.colab.kernel.accessAllowed ? 'block' : 'none';\n",
              "    })();\n",
              "  </script>\n",
              "</div>\n",
              "\n",
              "  <div id=\"id_9c0e4ae7-8f42-4463-8f20-ae507e09ae14\">\n",
              "    <style>\n",
              "      .colab-df-generate {\n",
              "        background-color: #E8F0FE;\n",
              "        border: none;\n",
              "        border-radius: 50%;\n",
              "        cursor: pointer;\n",
              "        display: none;\n",
              "        fill: #1967D2;\n",
              "        height: 32px;\n",
              "        padding: 0 0 0 0;\n",
              "        width: 32px;\n",
              "      }\n",
              "\n",
              "      .colab-df-generate:hover {\n",
              "        background-color: #E2EBFA;\n",
              "        box-shadow: 0px 1px 2px rgba(60, 64, 67, 0.3), 0px 1px 3px 1px rgba(60, 64, 67, 0.15);\n",
              "        fill: #174EA6;\n",
              "      }\n",
              "\n",
              "      [theme=dark] .colab-df-generate {\n",
              "        background-color: #3B4455;\n",
              "        fill: #D2E3FC;\n",
              "      }\n",
              "\n",
              "      [theme=dark] .colab-df-generate:hover {\n",
              "        background-color: #434B5C;\n",
              "        box-shadow: 0px 1px 3px 1px rgba(0, 0, 0, 0.15);\n",
              "        filter: drop-shadow(0px 1px 2px rgba(0, 0, 0, 0.3));\n",
              "        fill: #FFFFFF;\n",
              "      }\n",
              "    </style>\n",
              "    <button class=\"colab-df-generate\" onclick=\"generateWithVariable('df_heart_disease')\"\n",
              "            title=\"Generate code using this dataframe.\"\n",
              "            style=\"display:none;\">\n",
              "\n",
              "  <svg xmlns=\"http://www.w3.org/2000/svg\" height=\"24px\"viewBox=\"0 0 24 24\"\n",
              "       width=\"24px\">\n",
              "    <path d=\"M7,19H8.4L18.45,9,17,7.55,7,17.6ZM5,21V16.75L18.45,3.32a2,2,0,0,1,2.83,0l1.4,1.43a1.91,1.91,0,0,1,.58,1.4,1.91,1.91,0,0,1-.58,1.4L9.25,21ZM18.45,9,17,7.55Zm-12,3A5.31,5.31,0,0,0,4.9,8.1,5.31,5.31,0,0,0,1,6.5,5.31,5.31,0,0,0,4.9,4.9,5.31,5.31,0,0,0,6.5,1,5.31,5.31,0,0,0,8.1,4.9,5.31,5.31,0,0,0,12,6.5,5.46,5.46,0,0,0,6.5,12Z\"/>\n",
              "  </svg>\n",
              "    </button>\n",
              "    <script>\n",
              "      (() => {\n",
              "      const buttonEl =\n",
              "        document.querySelector('#id_9c0e4ae7-8f42-4463-8f20-ae507e09ae14 button.colab-df-generate');\n",
              "      buttonEl.style.display =\n",
              "        google.colab.kernel.accessAllowed ? 'block' : 'none';\n",
              "\n",
              "      buttonEl.onclick = () => {\n",
              "        google.colab.notebook.generateWithVariable('df_heart_disease');\n",
              "      }\n",
              "      })();\n",
              "    </script>\n",
              "  </div>\n",
              "\n",
              "    </div>\n",
              "  </div>\n"
            ],
            "application/vnd.google.colaboratory.intrinsic+json": {
              "type": "dataframe",
              "variable_name": "df_heart_disease",
              "summary": "{\n  \"name\": \"df_heart_disease\",\n  \"rows\": 303,\n  \"fields\": [\n    {\n      \"column\": \"age\",\n      \"properties\": {\n        \"dtype\": \"number\",\n        \"std\": 9,\n        \"min\": 29,\n        \"max\": 77,\n        \"num_unique_values\": 41,\n        \"samples\": [\n          61,\n          64,\n          44\n        ],\n        \"semantic_type\": \"\",\n        \"description\": \"\"\n      }\n    },\n    {\n      \"column\": \"sex\",\n      \"properties\": {\n        \"dtype\": \"number\",\n        \"std\": 0,\n        \"min\": 0,\n        \"max\": 1,\n        \"num_unique_values\": 2,\n        \"samples\": [\n          0,\n          1\n        ],\n        \"semantic_type\": \"\",\n        \"description\": \"\"\n      }\n    },\n    {\n      \"column\": \"cp\",\n      \"properties\": {\n        \"dtype\": \"number\",\n        \"std\": 0,\n        \"min\": 1,\n        \"max\": 4,\n        \"num_unique_values\": 4,\n        \"samples\": [\n          4,\n          2\n        ],\n        \"semantic_type\": \"\",\n        \"description\": \"\"\n      }\n    },\n    {\n      \"column\": \"trestbps\",\n      \"properties\": {\n        \"dtype\": \"number\",\n        \"std\": 17,\n        \"min\": 94,\n        \"max\": 200,\n        \"num_unique_values\": 50,\n        \"samples\": [\n          124,\n          192\n        ],\n        \"semantic_type\": \"\",\n        \"description\": \"\"\n      }\n    },\n    {\n      \"column\": \"chol\",\n      \"properties\": {\n        \"dtype\": \"number\",\n        \"std\": 51,\n        \"min\": 126,\n        \"max\": 564,\n        \"num_unique_values\": 152,\n        \"samples\": [\n          321,\n          187\n        ],\n        \"semantic_type\": \"\",\n        \"description\": \"\"\n      }\n    },\n    {\n      \"column\": \"fbs\",\n      \"properties\": {\n        \"dtype\": \"number\",\n        \"std\": 0,\n        \"min\": 0,\n        \"max\": 1,\n        \"num_unique_values\": 2,\n        \"samples\": [\n          0,\n          1\n        ],\n        \"semantic_type\": \"\",\n        \"description\": \"\"\n      }\n    },\n    {\n      \"column\": \"restecg\",\n      \"properties\": {\n        \"dtype\": \"number\",\n        \"std\": 0,\n        \"min\": 0,\n        \"max\": 2,\n        \"num_unique_values\": 3,\n        \"samples\": [\n          2,\n          0\n        ],\n        \"semantic_type\": \"\",\n        \"description\": \"\"\n      }\n    },\n    {\n      \"column\": \"thalach\",\n      \"properties\": {\n        \"dtype\": \"number\",\n        \"std\": 22,\n        \"min\": 71,\n        \"max\": 202,\n        \"num_unique_values\": 91,\n        \"samples\": [\n          170,\n          114\n        ],\n        \"semantic_type\": \"\",\n        \"description\": \"\"\n      }\n    },\n    {\n      \"column\": \"exang\",\n      \"properties\": {\n        \"dtype\": \"number\",\n        \"std\": 0,\n        \"min\": 0,\n        \"max\": 1,\n        \"num_unique_values\": 2,\n        \"samples\": [\n          1,\n          0\n        ],\n        \"semantic_type\": \"\",\n        \"description\": \"\"\n      }\n    },\n    {\n      \"column\": \"oldpeak\",\n      \"properties\": {\n        \"dtype\": \"number\",\n        \"std\": 1.1610750220686348,\n        \"min\": 0.0,\n        \"max\": 6.2,\n        \"num_unique_values\": 40,\n        \"samples\": [\n          2.4,\n          0.2\n        ],\n        \"semantic_type\": \"\",\n        \"description\": \"\"\n      }\n    },\n    {\n      \"column\": \"slope\",\n      \"properties\": {\n        \"dtype\": \"number\",\n        \"std\": 0,\n        \"min\": 1,\n        \"max\": 3,\n        \"num_unique_values\": 3,\n        \"samples\": [\n          3,\n          2\n        ],\n        \"semantic_type\": \"\",\n        \"description\": \"\"\n      }\n    },\n    {\n      \"column\": \"ca\",\n      \"properties\": {\n        \"dtype\": \"number\",\n        \"std\": 0.9374383177242163,\n        \"min\": 0.0,\n        \"max\": 3.0,\n        \"num_unique_values\": 4,\n        \"samples\": [\n          3.0,\n          1.0\n        ],\n        \"semantic_type\": \"\",\n        \"description\": \"\"\n      }\n    },\n    {\n      \"column\": \"thal\",\n      \"properties\": {\n        \"dtype\": \"number\",\n        \"std\": 1.939705769378644,\n        \"min\": 3.0,\n        \"max\": 7.0,\n        \"num_unique_values\": 3,\n        \"samples\": [\n          6.0,\n          3.0\n        ],\n        \"semantic_type\": \"\",\n        \"description\": \"\"\n      }\n    },\n    {\n      \"column\": \"num\",\n      \"properties\": {\n        \"dtype\": \"number\",\n        \"std\": 0,\n        \"min\": 0,\n        \"max\": 1,\n        \"num_unique_values\": 2,\n        \"samples\": [\n          1,\n          0\n        ],\n        \"semantic_type\": \"\",\n        \"description\": \"\"\n      }\n    }\n  ]\n}"
            }
          },
          "metadata": {},
          "execution_count": 160
        }
      ],
      "source": [
        "# Concatenating feature and target datasets. \"axis=1\" means that we'll concatenate the columns.\n",
        "df_heart_disease = pd.concat([X,y], axis=1)\n",
        "\n",
        "# Checking the result\n",
        "df_heart_disease"
      ]
    },
    {
      "cell_type": "code",
      "execution_count": 161,
      "metadata": {
        "colab": {
          "base_uri": "https://localhost:8080/"
        },
        "id": "1-dRy9NPekDl",
        "outputId": "ac92ca2e-535a-4c06-c1e5-e16017aa9a07"
      },
      "outputs": [
        {
          "output_type": "execute_result",
          "data": {
            "text/plain": [
              "age         297\n",
              "sex         297\n",
              "cp          297\n",
              "trestbps    297\n",
              "chol        297\n",
              "fbs         297\n",
              "restecg     297\n",
              "thalach     297\n",
              "exang       297\n",
              "oldpeak     297\n",
              "slope       297\n",
              "ca          297\n",
              "thal        297\n",
              "num         297\n",
              "dtype: int64"
            ]
          },
          "metadata": {},
          "execution_count": 161
        }
      ],
      "source": [
        "# Dropping NaN rows\n",
        "df_heart_disease = df_heart_disease.dropna()\n",
        "\n",
        "# Checking the result\n",
        "df_heart_disease.count()"
      ]
    },
    {
      "cell_type": "markdown",
      "metadata": {
        "id": "MYHh_Tl-fb5S"
      },
      "source": [
        "Unfortunately, as we can see in the result above, the `ca` and `thal` rows with NaN didn't coincide, leaving us with the worst case scenario of 297 samples. Since we still have 98% of the original dataset, our model will not be penalyzed by this."
      ]
    },
    {
      "cell_type": "markdown",
      "metadata": {
        "id": "5HYgBcR7doEQ"
      },
      "source": [
        "##3.4 Holdout and Folds Configuration"
      ]
    },
    {
      "cell_type": "markdown",
      "metadata": {
        "id": "HvgwtyKhFd5z"
      },
      "source": [
        "In this section we will perform the holdout over our dataset and configure how the folds will be defined. But first of all we need to get our features values as a `numpy.ndarray` and our target values as a `numpy.ndarray` aswell."
      ]
    },
    {
      "cell_type": "code",
      "execution_count": 162,
      "metadata": {
        "colab": {
          "base_uri": "https://localhost:8080/"
        },
        "id": "1rz8YUJoCZT0",
        "outputId": "def6818c-961d-44e1-ebd3-f54525ba6d76"
      },
      "outputs": [
        {
          "output_type": "execute_result",
          "data": {
            "text/plain": [
              "array([[63.,  1.,  1., ...,  3.,  0.,  6.],\n",
              "       [67.,  1.,  4., ...,  2.,  3.,  3.],\n",
              "       [67.,  1.,  4., ...,  2.,  2.,  7.],\n",
              "       ...,\n",
              "       [68.,  1.,  4., ...,  2.,  2.,  7.],\n",
              "       [57.,  1.,  4., ...,  2.,  1.,  7.],\n",
              "       [57.,  0.,  2., ...,  2.,  1.,  3.]])"
            ]
          },
          "metadata": {},
          "execution_count": 162
        }
      ],
      "source": [
        "# Getting dataframe values as numpy.ndarray\n",
        "arr_heart_disease = df_heart_disease.values\n",
        "\n",
        "# Getting just the features values\n",
        "X = arr_heart_disease[:,0:num_features]\n",
        "\n",
        "X"
      ]
    },
    {
      "cell_type": "code",
      "execution_count": 163,
      "metadata": {
        "colab": {
          "base_uri": "https://localhost:8080/"
        },
        "id": "p32coIABhJDz",
        "outputId": "fbbf53ed-be94-4e54-bdc9-1e028c668d02"
      },
      "outputs": [
        {
          "output_type": "execute_result",
          "data": {
            "text/plain": [
              "array([0., 1., 1., 0., 0., 0., 1., 0., 1., 1., 0., 0., 1., 0., 0., 0., 1.,\n",
              "       0., 0., 0., 0., 0., 1., 1., 1., 0., 0., 0., 0., 1., 0., 1., 1., 0.,\n",
              "       0., 0., 1., 1., 1., 0., 1., 0., 0., 0., 1., 1., 0., 1., 0., 0., 0.,\n",
              "       0., 1., 0., 1., 1., 1., 1., 0., 0., 1., 0., 1., 0., 1., 1., 1., 0.,\n",
              "       1., 1., 0., 1., 1., 1., 1., 0., 1., 0., 0., 1., 0., 0., 0., 1., 0.,\n",
              "       0., 0., 0., 0., 0., 1., 0., 0., 0., 1., 1., 1., 0., 0., 0., 0., 0.,\n",
              "       0., 1., 0., 1., 1., 1., 1., 1., 1., 0., 1., 1., 0., 0., 0., 1., 1.,\n",
              "       1., 1., 0., 1., 1., 0., 1., 1., 0., 0., 0., 0., 0., 0., 0., 0., 1.,\n",
              "       1., 1., 0., 0., 1., 0., 1., 0., 1., 1., 0., 0., 0., 0., 0., 0., 1.,\n",
              "       1., 1., 1., 1., 1., 0., 0., 1., 0., 0., 0., 0., 0., 1., 0., 1., 0.,\n",
              "       1., 0., 1., 1., 0., 1., 0., 0., 1., 1., 0., 0., 1., 0., 0., 1., 1.,\n",
              "       1., 0., 1., 1., 0., 1., 0., 0., 0., 1., 0., 0., 0., 0., 0., 1., 1.,\n",
              "       1., 0., 1., 0., 1., 0., 1., 1., 0., 0., 0., 0., 0., 0., 0., 0., 1.,\n",
              "       1., 0., 0., 0., 1., 1., 0., 1., 1., 0., 0., 1., 1., 1., 0., 0., 0.,\n",
              "       0., 0., 1., 0., 1., 1., 1., 1., 0., 0., 1., 0., 0., 0., 0., 0., 0.,\n",
              "       0., 1., 0., 1., 0., 0., 1., 1., 1., 1., 0., 1., 0., 1., 0., 1., 0.,\n",
              "       0., 0., 1., 0., 1., 0., 1., 0., 1., 1., 1., 0., 0., 1., 0., 1., 1.,\n",
              "       1., 0., 1., 1., 1., 1., 1., 1.])"
            ]
          },
          "metadata": {},
          "execution_count": 163
        }
      ],
      "source": [
        "# Getting just the target values\n",
        "y = arr_heart_disease[:,target_index]\n",
        "\n",
        "y"
      ]
    },
    {
      "cell_type": "markdown",
      "metadata": {
        "id": "DOXlSeIxeCCW"
      },
      "source": [
        "After getting the values as arrays, we will split our dataset into train and test dataset. The approach to split the dataset is to train the models with 80% of the dataset and keep 20% for training. We will perform a stratify split of our dataset in order to keep the classes ratio, that we have in the original dataset, in the train and test datasets. To do so, we must set `suffle=True` to change the rows order and keep the class ratio, and `stratify=y` so the `train_test_split` function can apply the same reordering to the target subset and keep the original features labels. We are also setting the `random_state=seed` in order to ensure reproducibility."
      ]
    },
    {
      "cell_type": "code",
      "execution_count": 164,
      "metadata": {
        "colab": {
          "base_uri": "https://localhost:8080/"
        },
        "id": "gXS4GLGzZd0R",
        "outputId": "2f2d8bb4-b30a-4c74-8987-bdd666ce7cc6"
      },
      "outputs": [
        {
          "output_type": "execute_result",
          "data": {
            "text/plain": [
              "array([[54.,  1.,  2., ...,  1.,  0.,  7.],\n",
              "       [53.,  1.,  3., ...,  3.,  0.,  3.],\n",
              "       [39.,  1.,  4., ...,  2.,  0.,  7.],\n",
              "       ...,\n",
              "       [49.,  0.,  2., ...,  2.,  0.,  3.],\n",
              "       [58.,  0.,  4., ...,  2.,  0.,  3.],\n",
              "       [53.,  0.,  4., ...,  2.,  0.,  3.]])"
            ]
          },
          "metadata": {},
          "execution_count": 164
        }
      ],
      "source": [
        "# Splitting our dataset in train and test dataset\n",
        "X_train, X_test, y_train, y_test = train_test_split(X, y, test_size=test_size, shuffle=True, random_state=seed, stratify=y)\n",
        "X_train"
      ]
    },
    {
      "cell_type": "markdown",
      "metadata": {
        "id": "Gx3fKRrTPEbf"
      },
      "source": [
        "Now that we have our train and test subsets as arrays, we will create a dataframe from both features subset. It will be useful during the feature selection to access just the desired attributes."
      ]
    },
    {
      "cell_type": "code",
      "execution_count": 165,
      "metadata": {
        "colab": {
          "base_uri": "https://localhost:8080/",
          "height": 424
        },
        "id": "szh5yL6nwQ4E",
        "outputId": "f82dbd37-96e3-451a-bd0c-32c806d3dc80"
      },
      "outputs": [
        {
          "output_type": "execute_result",
          "data": {
            "text/plain": [
              "      age  sex   cp  trestbps   chol  fbs  restecg  thalach  exang  oldpeak  \\\n",
              "0    54.0  1.0  2.0     108.0  309.0  0.0      0.0    156.0    0.0      0.0   \n",
              "1    53.0  1.0  3.0     130.0  197.0  1.0      2.0    152.0    0.0      1.2   \n",
              "2    39.0  1.0  4.0     118.0  219.0  0.0      0.0    140.0    0.0      1.2   \n",
              "3    60.0  1.0  4.0     130.0  253.0  0.0      0.0    144.0    1.0      1.4   \n",
              "4    54.0  0.0  2.0     132.0  288.0  1.0      2.0    159.0    1.0      0.0   \n",
              "..    ...  ...  ...       ...    ...  ...      ...      ...    ...      ...   \n",
              "232  65.0  1.0  4.0     135.0  254.0  0.0      2.0    127.0    0.0      2.8   \n",
              "233  46.0  0.0  2.0     105.0  204.0  0.0      0.0    172.0    0.0      0.0   \n",
              "234  49.0  0.0  2.0     134.0  271.0  0.0      0.0    162.0    0.0      0.0   \n",
              "235  58.0  0.0  4.0     100.0  248.0  0.0      2.0    122.0    0.0      1.0   \n",
              "236  53.0  0.0  4.0     130.0  264.0  0.0      2.0    143.0    0.0      0.4   \n",
              "\n",
              "     slope   ca  thal  \n",
              "0      1.0  0.0   7.0  \n",
              "1      3.0  0.0   3.0  \n",
              "2      2.0  0.0   7.0  \n",
              "3      1.0  1.0   7.0  \n",
              "4      1.0  1.0   3.0  \n",
              "..     ...  ...   ...  \n",
              "232    2.0  1.0   7.0  \n",
              "233    1.0  0.0   3.0  \n",
              "234    2.0  0.0   3.0  \n",
              "235    2.0  0.0   3.0  \n",
              "236    2.0  0.0   3.0  \n",
              "\n",
              "[237 rows x 13 columns]"
            ],
            "text/html": [
              "\n",
              "  <div id=\"df-d8b8de92-824e-4d4e-833e-e45d7af5b227\" class=\"colab-df-container\">\n",
              "    <div>\n",
              "<style scoped>\n",
              "    .dataframe tbody tr th:only-of-type {\n",
              "        vertical-align: middle;\n",
              "    }\n",
              "\n",
              "    .dataframe tbody tr th {\n",
              "        vertical-align: top;\n",
              "    }\n",
              "\n",
              "    .dataframe thead th {\n",
              "        text-align: right;\n",
              "    }\n",
              "</style>\n",
              "<table border=\"1\" class=\"dataframe\">\n",
              "  <thead>\n",
              "    <tr style=\"text-align: right;\">\n",
              "      <th></th>\n",
              "      <th>age</th>\n",
              "      <th>sex</th>\n",
              "      <th>cp</th>\n",
              "      <th>trestbps</th>\n",
              "      <th>chol</th>\n",
              "      <th>fbs</th>\n",
              "      <th>restecg</th>\n",
              "      <th>thalach</th>\n",
              "      <th>exang</th>\n",
              "      <th>oldpeak</th>\n",
              "      <th>slope</th>\n",
              "      <th>ca</th>\n",
              "      <th>thal</th>\n",
              "    </tr>\n",
              "  </thead>\n",
              "  <tbody>\n",
              "    <tr>\n",
              "      <th>0</th>\n",
              "      <td>54.0</td>\n",
              "      <td>1.0</td>\n",
              "      <td>2.0</td>\n",
              "      <td>108.0</td>\n",
              "      <td>309.0</td>\n",
              "      <td>0.0</td>\n",
              "      <td>0.0</td>\n",
              "      <td>156.0</td>\n",
              "      <td>0.0</td>\n",
              "      <td>0.0</td>\n",
              "      <td>1.0</td>\n",
              "      <td>0.0</td>\n",
              "      <td>7.0</td>\n",
              "    </tr>\n",
              "    <tr>\n",
              "      <th>1</th>\n",
              "      <td>53.0</td>\n",
              "      <td>1.0</td>\n",
              "      <td>3.0</td>\n",
              "      <td>130.0</td>\n",
              "      <td>197.0</td>\n",
              "      <td>1.0</td>\n",
              "      <td>2.0</td>\n",
              "      <td>152.0</td>\n",
              "      <td>0.0</td>\n",
              "      <td>1.2</td>\n",
              "      <td>3.0</td>\n",
              "      <td>0.0</td>\n",
              "      <td>3.0</td>\n",
              "    </tr>\n",
              "    <tr>\n",
              "      <th>2</th>\n",
              "      <td>39.0</td>\n",
              "      <td>1.0</td>\n",
              "      <td>4.0</td>\n",
              "      <td>118.0</td>\n",
              "      <td>219.0</td>\n",
              "      <td>0.0</td>\n",
              "      <td>0.0</td>\n",
              "      <td>140.0</td>\n",
              "      <td>0.0</td>\n",
              "      <td>1.2</td>\n",
              "      <td>2.0</td>\n",
              "      <td>0.0</td>\n",
              "      <td>7.0</td>\n",
              "    </tr>\n",
              "    <tr>\n",
              "      <th>3</th>\n",
              "      <td>60.0</td>\n",
              "      <td>1.0</td>\n",
              "      <td>4.0</td>\n",
              "      <td>130.0</td>\n",
              "      <td>253.0</td>\n",
              "      <td>0.0</td>\n",
              "      <td>0.0</td>\n",
              "      <td>144.0</td>\n",
              "      <td>1.0</td>\n",
              "      <td>1.4</td>\n",
              "      <td>1.0</td>\n",
              "      <td>1.0</td>\n",
              "      <td>7.0</td>\n",
              "    </tr>\n",
              "    <tr>\n",
              "      <th>4</th>\n",
              "      <td>54.0</td>\n",
              "      <td>0.0</td>\n",
              "      <td>2.0</td>\n",
              "      <td>132.0</td>\n",
              "      <td>288.0</td>\n",
              "      <td>1.0</td>\n",
              "      <td>2.0</td>\n",
              "      <td>159.0</td>\n",
              "      <td>1.0</td>\n",
              "      <td>0.0</td>\n",
              "      <td>1.0</td>\n",
              "      <td>1.0</td>\n",
              "      <td>3.0</td>\n",
              "    </tr>\n",
              "    <tr>\n",
              "      <th>...</th>\n",
              "      <td>...</td>\n",
              "      <td>...</td>\n",
              "      <td>...</td>\n",
              "      <td>...</td>\n",
              "      <td>...</td>\n",
              "      <td>...</td>\n",
              "      <td>...</td>\n",
              "      <td>...</td>\n",
              "      <td>...</td>\n",
              "      <td>...</td>\n",
              "      <td>...</td>\n",
              "      <td>...</td>\n",
              "      <td>...</td>\n",
              "    </tr>\n",
              "    <tr>\n",
              "      <th>232</th>\n",
              "      <td>65.0</td>\n",
              "      <td>1.0</td>\n",
              "      <td>4.0</td>\n",
              "      <td>135.0</td>\n",
              "      <td>254.0</td>\n",
              "      <td>0.0</td>\n",
              "      <td>2.0</td>\n",
              "      <td>127.0</td>\n",
              "      <td>0.0</td>\n",
              "      <td>2.8</td>\n",
              "      <td>2.0</td>\n",
              "      <td>1.0</td>\n",
              "      <td>7.0</td>\n",
              "    </tr>\n",
              "    <tr>\n",
              "      <th>233</th>\n",
              "      <td>46.0</td>\n",
              "      <td>0.0</td>\n",
              "      <td>2.0</td>\n",
              "      <td>105.0</td>\n",
              "      <td>204.0</td>\n",
              "      <td>0.0</td>\n",
              "      <td>0.0</td>\n",
              "      <td>172.0</td>\n",
              "      <td>0.0</td>\n",
              "      <td>0.0</td>\n",
              "      <td>1.0</td>\n",
              "      <td>0.0</td>\n",
              "      <td>3.0</td>\n",
              "    </tr>\n",
              "    <tr>\n",
              "      <th>234</th>\n",
              "      <td>49.0</td>\n",
              "      <td>0.0</td>\n",
              "      <td>2.0</td>\n",
              "      <td>134.0</td>\n",
              "      <td>271.0</td>\n",
              "      <td>0.0</td>\n",
              "      <td>0.0</td>\n",
              "      <td>162.0</td>\n",
              "      <td>0.0</td>\n",
              "      <td>0.0</td>\n",
              "      <td>2.0</td>\n",
              "      <td>0.0</td>\n",
              "      <td>3.0</td>\n",
              "    </tr>\n",
              "    <tr>\n",
              "      <th>235</th>\n",
              "      <td>58.0</td>\n",
              "      <td>0.0</td>\n",
              "      <td>4.0</td>\n",
              "      <td>100.0</td>\n",
              "      <td>248.0</td>\n",
              "      <td>0.0</td>\n",
              "      <td>2.0</td>\n",
              "      <td>122.0</td>\n",
              "      <td>0.0</td>\n",
              "      <td>1.0</td>\n",
              "      <td>2.0</td>\n",
              "      <td>0.0</td>\n",
              "      <td>3.0</td>\n",
              "    </tr>\n",
              "    <tr>\n",
              "      <th>236</th>\n",
              "      <td>53.0</td>\n",
              "      <td>0.0</td>\n",
              "      <td>4.0</td>\n",
              "      <td>130.0</td>\n",
              "      <td>264.0</td>\n",
              "      <td>0.0</td>\n",
              "      <td>2.0</td>\n",
              "      <td>143.0</td>\n",
              "      <td>0.0</td>\n",
              "      <td>0.4</td>\n",
              "      <td>2.0</td>\n",
              "      <td>0.0</td>\n",
              "      <td>3.0</td>\n",
              "    </tr>\n",
              "  </tbody>\n",
              "</table>\n",
              "<p>237 rows × 13 columns</p>\n",
              "</div>\n",
              "    <div class=\"colab-df-buttons\">\n",
              "\n",
              "  <div class=\"colab-df-container\">\n",
              "    <button class=\"colab-df-convert\" onclick=\"convertToInteractive('df-d8b8de92-824e-4d4e-833e-e45d7af5b227')\"\n",
              "            title=\"Convert this dataframe to an interactive table.\"\n",
              "            style=\"display:none;\">\n",
              "\n",
              "  <svg xmlns=\"http://www.w3.org/2000/svg\" height=\"24px\" viewBox=\"0 -960 960 960\">\n",
              "    <path d=\"M120-120v-720h720v720H120Zm60-500h600v-160H180v160Zm220 220h160v-160H400v160Zm0 220h160v-160H400v160ZM180-400h160v-160H180v160Zm440 0h160v-160H620v160ZM180-180h160v-160H180v160Zm440 0h160v-160H620v160Z\"/>\n",
              "  </svg>\n",
              "    </button>\n",
              "\n",
              "  <style>\n",
              "    .colab-df-container {\n",
              "      display:flex;\n",
              "      gap: 12px;\n",
              "    }\n",
              "\n",
              "    .colab-df-convert {\n",
              "      background-color: #E8F0FE;\n",
              "      border: none;\n",
              "      border-radius: 50%;\n",
              "      cursor: pointer;\n",
              "      display: none;\n",
              "      fill: #1967D2;\n",
              "      height: 32px;\n",
              "      padding: 0 0 0 0;\n",
              "      width: 32px;\n",
              "    }\n",
              "\n",
              "    .colab-df-convert:hover {\n",
              "      background-color: #E2EBFA;\n",
              "      box-shadow: 0px 1px 2px rgba(60, 64, 67, 0.3), 0px 1px 3px 1px rgba(60, 64, 67, 0.15);\n",
              "      fill: #174EA6;\n",
              "    }\n",
              "\n",
              "    .colab-df-buttons div {\n",
              "      margin-bottom: 4px;\n",
              "    }\n",
              "\n",
              "    [theme=dark] .colab-df-convert {\n",
              "      background-color: #3B4455;\n",
              "      fill: #D2E3FC;\n",
              "    }\n",
              "\n",
              "    [theme=dark] .colab-df-convert:hover {\n",
              "      background-color: #434B5C;\n",
              "      box-shadow: 0px 1px 3px 1px rgba(0, 0, 0, 0.15);\n",
              "      filter: drop-shadow(0px 1px 2px rgba(0, 0, 0, 0.3));\n",
              "      fill: #FFFFFF;\n",
              "    }\n",
              "  </style>\n",
              "\n",
              "    <script>\n",
              "      const buttonEl =\n",
              "        document.querySelector('#df-d8b8de92-824e-4d4e-833e-e45d7af5b227 button.colab-df-convert');\n",
              "      buttonEl.style.display =\n",
              "        google.colab.kernel.accessAllowed ? 'block' : 'none';\n",
              "\n",
              "      async function convertToInteractive(key) {\n",
              "        const element = document.querySelector('#df-d8b8de92-824e-4d4e-833e-e45d7af5b227');\n",
              "        const dataTable =\n",
              "          await google.colab.kernel.invokeFunction('convertToInteractive',\n",
              "                                                    [key], {});\n",
              "        if (!dataTable) return;\n",
              "\n",
              "        const docLinkHtml = 'Like what you see? Visit the ' +\n",
              "          '<a target=\"_blank\" href=https://colab.research.google.com/notebooks/data_table.ipynb>data table notebook</a>'\n",
              "          + ' to learn more about interactive tables.';\n",
              "        element.innerHTML = '';\n",
              "        dataTable['output_type'] = 'display_data';\n",
              "        await google.colab.output.renderOutput(dataTable, element);\n",
              "        const docLink = document.createElement('div');\n",
              "        docLink.innerHTML = docLinkHtml;\n",
              "        element.appendChild(docLink);\n",
              "      }\n",
              "    </script>\n",
              "  </div>\n",
              "\n",
              "\n",
              "<div id=\"df-bb096ed4-aab7-4ca1-9d29-68bb8997740b\">\n",
              "  <button class=\"colab-df-quickchart\" onclick=\"quickchart('df-bb096ed4-aab7-4ca1-9d29-68bb8997740b')\"\n",
              "            title=\"Suggest charts\"\n",
              "            style=\"display:none;\">\n",
              "\n",
              "<svg xmlns=\"http://www.w3.org/2000/svg\" height=\"24px\"viewBox=\"0 0 24 24\"\n",
              "     width=\"24px\">\n",
              "    <g>\n",
              "        <path d=\"M19 3H5c-1.1 0-2 .9-2 2v14c0 1.1.9 2 2 2h14c1.1 0 2-.9 2-2V5c0-1.1-.9-2-2-2zM9 17H7v-7h2v7zm4 0h-2V7h2v10zm4 0h-2v-4h2v4z\"/>\n",
              "    </g>\n",
              "</svg>\n",
              "  </button>\n",
              "\n",
              "<style>\n",
              "  .colab-df-quickchart {\n",
              "      --bg-color: #E8F0FE;\n",
              "      --fill-color: #1967D2;\n",
              "      --hover-bg-color: #E2EBFA;\n",
              "      --hover-fill-color: #174EA6;\n",
              "      --disabled-fill-color: #AAA;\n",
              "      --disabled-bg-color: #DDD;\n",
              "  }\n",
              "\n",
              "  [theme=dark] .colab-df-quickchart {\n",
              "      --bg-color: #3B4455;\n",
              "      --fill-color: #D2E3FC;\n",
              "      --hover-bg-color: #434B5C;\n",
              "      --hover-fill-color: #FFFFFF;\n",
              "      --disabled-bg-color: #3B4455;\n",
              "      --disabled-fill-color: #666;\n",
              "  }\n",
              "\n",
              "  .colab-df-quickchart {\n",
              "    background-color: var(--bg-color);\n",
              "    border: none;\n",
              "    border-radius: 50%;\n",
              "    cursor: pointer;\n",
              "    display: none;\n",
              "    fill: var(--fill-color);\n",
              "    height: 32px;\n",
              "    padding: 0;\n",
              "    width: 32px;\n",
              "  }\n",
              "\n",
              "  .colab-df-quickchart:hover {\n",
              "    background-color: var(--hover-bg-color);\n",
              "    box-shadow: 0 1px 2px rgba(60, 64, 67, 0.3), 0 1px 3px 1px rgba(60, 64, 67, 0.15);\n",
              "    fill: var(--button-hover-fill-color);\n",
              "  }\n",
              "\n",
              "  .colab-df-quickchart-complete:disabled,\n",
              "  .colab-df-quickchart-complete:disabled:hover {\n",
              "    background-color: var(--disabled-bg-color);\n",
              "    fill: var(--disabled-fill-color);\n",
              "    box-shadow: none;\n",
              "  }\n",
              "\n",
              "  .colab-df-spinner {\n",
              "    border: 2px solid var(--fill-color);\n",
              "    border-color: transparent;\n",
              "    border-bottom-color: var(--fill-color);\n",
              "    animation:\n",
              "      spin 1s steps(1) infinite;\n",
              "  }\n",
              "\n",
              "  @keyframes spin {\n",
              "    0% {\n",
              "      border-color: transparent;\n",
              "      border-bottom-color: var(--fill-color);\n",
              "      border-left-color: var(--fill-color);\n",
              "    }\n",
              "    20% {\n",
              "      border-color: transparent;\n",
              "      border-left-color: var(--fill-color);\n",
              "      border-top-color: var(--fill-color);\n",
              "    }\n",
              "    30% {\n",
              "      border-color: transparent;\n",
              "      border-left-color: var(--fill-color);\n",
              "      border-top-color: var(--fill-color);\n",
              "      border-right-color: var(--fill-color);\n",
              "    }\n",
              "    40% {\n",
              "      border-color: transparent;\n",
              "      border-right-color: var(--fill-color);\n",
              "      border-top-color: var(--fill-color);\n",
              "    }\n",
              "    60% {\n",
              "      border-color: transparent;\n",
              "      border-right-color: var(--fill-color);\n",
              "    }\n",
              "    80% {\n",
              "      border-color: transparent;\n",
              "      border-right-color: var(--fill-color);\n",
              "      border-bottom-color: var(--fill-color);\n",
              "    }\n",
              "    90% {\n",
              "      border-color: transparent;\n",
              "      border-bottom-color: var(--fill-color);\n",
              "    }\n",
              "  }\n",
              "</style>\n",
              "\n",
              "  <script>\n",
              "    async function quickchart(key) {\n",
              "      const quickchartButtonEl =\n",
              "        document.querySelector('#' + key + ' button');\n",
              "      quickchartButtonEl.disabled = true;  // To prevent multiple clicks.\n",
              "      quickchartButtonEl.classList.add('colab-df-spinner');\n",
              "      try {\n",
              "        const charts = await google.colab.kernel.invokeFunction(\n",
              "            'suggestCharts', [key], {});\n",
              "      } catch (error) {\n",
              "        console.error('Error during call to suggestCharts:', error);\n",
              "      }\n",
              "      quickchartButtonEl.classList.remove('colab-df-spinner');\n",
              "      quickchartButtonEl.classList.add('colab-df-quickchart-complete');\n",
              "    }\n",
              "    (() => {\n",
              "      let quickchartButtonEl =\n",
              "        document.querySelector('#df-bb096ed4-aab7-4ca1-9d29-68bb8997740b button');\n",
              "      quickchartButtonEl.style.display =\n",
              "        google.colab.kernel.accessAllowed ? 'block' : 'none';\n",
              "    })();\n",
              "  </script>\n",
              "</div>\n",
              "\n",
              "  <div id=\"id_7f58a046-50b2-46b0-80c3-a679bc2a3768\">\n",
              "    <style>\n",
              "      .colab-df-generate {\n",
              "        background-color: #E8F0FE;\n",
              "        border: none;\n",
              "        border-radius: 50%;\n",
              "        cursor: pointer;\n",
              "        display: none;\n",
              "        fill: #1967D2;\n",
              "        height: 32px;\n",
              "        padding: 0 0 0 0;\n",
              "        width: 32px;\n",
              "      }\n",
              "\n",
              "      .colab-df-generate:hover {\n",
              "        background-color: #E2EBFA;\n",
              "        box-shadow: 0px 1px 2px rgba(60, 64, 67, 0.3), 0px 1px 3px 1px rgba(60, 64, 67, 0.15);\n",
              "        fill: #174EA6;\n",
              "      }\n",
              "\n",
              "      [theme=dark] .colab-df-generate {\n",
              "        background-color: #3B4455;\n",
              "        fill: #D2E3FC;\n",
              "      }\n",
              "\n",
              "      [theme=dark] .colab-df-generate:hover {\n",
              "        background-color: #434B5C;\n",
              "        box-shadow: 0px 1px 3px 1px rgba(0, 0, 0, 0.15);\n",
              "        filter: drop-shadow(0px 1px 2px rgba(0, 0, 0, 0.3));\n",
              "        fill: #FFFFFF;\n",
              "      }\n",
              "    </style>\n",
              "    <button class=\"colab-df-generate\" onclick=\"generateWithVariable('df_X_train')\"\n",
              "            title=\"Generate code using this dataframe.\"\n",
              "            style=\"display:none;\">\n",
              "\n",
              "  <svg xmlns=\"http://www.w3.org/2000/svg\" height=\"24px\"viewBox=\"0 0 24 24\"\n",
              "       width=\"24px\">\n",
              "    <path d=\"M7,19H8.4L18.45,9,17,7.55,7,17.6ZM5,21V16.75L18.45,3.32a2,2,0,0,1,2.83,0l1.4,1.43a1.91,1.91,0,0,1,.58,1.4,1.91,1.91,0,0,1-.58,1.4L9.25,21ZM18.45,9,17,7.55Zm-12,3A5.31,5.31,0,0,0,4.9,8.1,5.31,5.31,0,0,0,1,6.5,5.31,5.31,0,0,0,4.9,4.9,5.31,5.31,0,0,0,6.5,1,5.31,5.31,0,0,0,8.1,4.9,5.31,5.31,0,0,0,12,6.5,5.46,5.46,0,0,0,6.5,12Z\"/>\n",
              "  </svg>\n",
              "    </button>\n",
              "    <script>\n",
              "      (() => {\n",
              "      const buttonEl =\n",
              "        document.querySelector('#id_7f58a046-50b2-46b0-80c3-a679bc2a3768 button.colab-df-generate');\n",
              "      buttonEl.style.display =\n",
              "        google.colab.kernel.accessAllowed ? 'block' : 'none';\n",
              "\n",
              "      buttonEl.onclick = () => {\n",
              "        google.colab.notebook.generateWithVariable('df_X_train');\n",
              "      }\n",
              "      })();\n",
              "    </script>\n",
              "  </div>\n",
              "\n",
              "    </div>\n",
              "  </div>\n"
            ],
            "application/vnd.google.colaboratory.intrinsic+json": {
              "type": "dataframe",
              "variable_name": "df_X_train",
              "summary": "{\n  \"name\": \"df_X_train\",\n  \"rows\": 237,\n  \"fields\": [\n    {\n      \"column\": \"age\",\n      \"properties\": {\n        \"dtype\": \"number\",\n        \"std\": 9.232673418717756,\n        \"min\": 29.0,\n        \"max\": 77.0,\n        \"num_unique_values\": 41,\n        \"samples\": [\n          34.0,\n          62.0,\n          44.0\n        ],\n        \"semantic_type\": \"\",\n        \"description\": \"\"\n      }\n    },\n    {\n      \"column\": \"sex\",\n      \"properties\": {\n        \"dtype\": \"number\",\n        \"std\": 0.4677238971832433,\n        \"min\": 0.0,\n        \"max\": 1.0,\n        \"num_unique_values\": 2,\n        \"samples\": [\n          0.0,\n          1.0\n        ],\n        \"semantic_type\": \"\",\n        \"description\": \"\"\n      }\n    },\n    {\n      \"column\": \"cp\",\n      \"properties\": {\n        \"dtype\": \"number\",\n        \"std\": 0.9651363819247499,\n        \"min\": 1.0,\n        \"max\": 4.0,\n        \"num_unique_values\": 4,\n        \"samples\": [\n          3.0,\n          1.0\n        ],\n        \"semantic_type\": \"\",\n        \"description\": \"\"\n      }\n    },\n    {\n      \"column\": \"trestbps\",\n      \"properties\": {\n        \"dtype\": \"number\",\n        \"std\": 18.350693282051154,\n        \"min\": 94.0,\n        \"max\": 200.0,\n        \"num_unique_values\": 48,\n        \"samples\": [\n          136.0,\n          192.0\n        ],\n        \"semantic_type\": \"\",\n        \"description\": \"\"\n      }\n    },\n    {\n      \"column\": \"chol\",\n      \"properties\": {\n        \"dtype\": \"number\",\n        \"std\": 48.207229324705025,\n        \"min\": 131.0,\n        \"max\": 409.0,\n        \"num_unique_values\": 136,\n        \"samples\": [\n          233.0,\n          185.0\n        ],\n        \"semantic_type\": \"\",\n        \"description\": \"\"\n      }\n    },\n    {\n      \"column\": \"fbs\",\n      \"properties\": {\n        \"dtype\": \"number\",\n        \"std\": 0.36373549648983694,\n        \"min\": 0.0,\n        \"max\": 1.0,\n        \"num_unique_values\": 2,\n        \"samples\": [\n          1.0,\n          0.0\n        ],\n        \"semantic_type\": \"\",\n        \"description\": \"\"\n      }\n    },\n    {\n      \"column\": \"restecg\",\n      \"properties\": {\n        \"dtype\": \"number\",\n        \"std\": 0.9931827987845303,\n        \"min\": 0.0,\n        \"max\": 2.0,\n        \"num_unique_values\": 3,\n        \"samples\": [\n          0.0,\n          2.0\n        ],\n        \"semantic_type\": \"\",\n        \"description\": \"\"\n      }\n    },\n    {\n      \"column\": \"thalach\",\n      \"properties\": {\n        \"dtype\": \"number\",\n        \"std\": 22.552449852516744,\n        \"min\": 71.0,\n        \"max\": 202.0,\n        \"num_unique_values\": 85,\n        \"samples\": [\n          108.0,\n          156.0\n        ],\n        \"semantic_type\": \"\",\n        \"description\": \"\"\n      }\n    },\n    {\n      \"column\": \"exang\",\n      \"properties\": {\n        \"dtype\": \"number\",\n        \"std\": 0.46772389718324336,\n        \"min\": 0.0,\n        \"max\": 1.0,\n        \"num_unique_values\": 2,\n        \"samples\": [\n          1.0,\n          0.0\n        ],\n        \"semantic_type\": \"\",\n        \"description\": \"\"\n      }\n    },\n    {\n      \"column\": \"oldpeak\",\n      \"properties\": {\n        \"dtype\": \"number\",\n        \"std\": 1.1995897591925844,\n        \"min\": 0.0,\n        \"max\": 6.2,\n        \"num_unique_values\": 38,\n        \"samples\": [\n          3.5,\n          1.1\n        ],\n        \"semantic_type\": \"\",\n        \"description\": \"\"\n      }\n    },\n    {\n      \"column\": \"slope\",\n      \"properties\": {\n        \"dtype\": \"number\",\n        \"std\": 0.621982812378583,\n        \"min\": 1.0,\n        \"max\": 3.0,\n        \"num_unique_values\": 3,\n        \"samples\": [\n          1.0,\n          3.0\n        ],\n        \"semantic_type\": \"\",\n        \"description\": \"\"\n      }\n    },\n    {\n      \"column\": \"ca\",\n      \"properties\": {\n        \"dtype\": \"number\",\n        \"std\": 0.9164870478646542,\n        \"min\": 0.0,\n        \"max\": 3.0,\n        \"num_unique_values\": 4,\n        \"samples\": [\n          1.0,\n          3.0\n        ],\n        \"semantic_type\": \"\",\n        \"description\": \"\"\n      }\n    },\n    {\n      \"column\": \"thal\",\n      \"properties\": {\n        \"dtype\": \"number\",\n        \"std\": 1.9466531864547432,\n        \"min\": 3.0,\n        \"max\": 7.0,\n        \"num_unique_values\": 3,\n        \"samples\": [\n          7.0,\n          3.0\n        ],\n        \"semantic_type\": \"\",\n        \"description\": \"\"\n      }\n    }\n  ]\n}"
            }
          },
          "metadata": {},
          "execution_count": 165
        }
      ],
      "source": [
        "# Getting feature column names, -1 to exclude the last column\n",
        "# which is our target column\n",
        "columns_names = df_heart_disease.columns[:-1].tolist()\n",
        "\n",
        "# Creating dataframe from X_train data\n",
        "df_X_train = pd.DataFrame(X_train, columns=columns_names)\n",
        "df_X_train"
      ]
    },
    {
      "cell_type": "code",
      "execution_count": 166,
      "metadata": {
        "colab": {
          "base_uri": "https://localhost:8080/",
          "height": 1000
        },
        "id": "EtWMdjlI6LYc",
        "outputId": "122f5c74-2582-44b2-c2c7-3c1867d306be"
      },
      "outputs": [
        {
          "output_type": "execute_result",
          "data": {
            "text/plain": [
              "     age  sex   cp  trestbps   chol  fbs  restecg  thalach  exang  oldpeak  \\\n",
              "0   57.0  1.0  3.0     128.0  229.0  0.0      2.0    150.0    0.0      0.4   \n",
              "1   59.0  1.0  1.0     134.0  204.0  0.0      0.0    162.0    0.0      0.8   \n",
              "2   56.0  1.0  4.0     132.0  184.0  0.0      2.0    105.0    1.0      2.1   \n",
              "3   64.0  0.0  3.0     140.0  313.0  0.0      0.0    133.0    0.0      0.2   \n",
              "4   55.0  1.0  2.0     130.0  262.0  0.0      0.0    155.0    0.0      0.0   \n",
              "5   53.0  1.0  4.0     123.0  282.0  0.0      0.0     95.0    1.0      2.0   \n",
              "6   46.0  0.0  3.0     142.0  177.0  0.0      2.0    160.0    1.0      1.4   \n",
              "7   66.0  1.0  2.0     160.0  246.0  0.0      0.0    120.0    1.0      0.0   \n",
              "8   45.0  1.0  2.0     128.0  308.0  0.0      2.0    170.0    0.0      0.0   \n",
              "9   50.0  1.0  3.0     140.0  233.0  0.0      0.0    163.0    0.0      0.6   \n",
              "10  62.0  0.0  4.0     138.0  294.0  1.0      0.0    106.0    0.0      1.9   \n",
              "11  59.0  1.0  4.0     138.0  271.0  0.0      2.0    182.0    0.0      0.0   \n",
              "12  57.0  0.0  4.0     120.0  354.0  0.0      0.0    163.0    1.0      0.6   \n",
              "13  56.0  1.0  4.0     125.0  249.0  1.0      2.0    144.0    1.0      1.2   \n",
              "14  43.0  1.0  4.0     150.0  247.0  0.0      0.0    171.0    0.0      1.5   \n",
              "15  60.0  0.0  4.0     150.0  258.0  0.0      2.0    157.0    0.0      2.6   \n",
              "16  54.0  1.0  4.0     124.0  266.0  0.0      2.0    109.0    1.0      2.2   \n",
              "17  41.0  0.0  3.0     112.0  268.0  0.0      2.0    172.0    1.0      0.0   \n",
              "18  44.0  1.0  4.0     120.0  169.0  0.0      0.0    144.0    1.0      2.8   \n",
              "19  45.0  1.0  4.0     142.0  309.0  0.0      2.0    147.0    1.0      0.0   \n",
              "20  66.0  1.0  4.0     112.0  212.0  0.0      2.0    132.0    1.0      0.1   \n",
              "21  70.0  1.0  3.0     160.0  269.0  0.0      0.0    112.0    1.0      2.9   \n",
              "22  63.0  0.0  3.0     135.0  252.0  0.0      2.0    172.0    0.0      0.0   \n",
              "23  67.0  1.0  4.0     160.0  286.0  0.0      2.0    108.0    1.0      1.5   \n",
              "24  49.0  1.0  2.0     130.0  266.0  0.0      0.0    171.0    0.0      0.6   \n",
              "25  65.0  0.0  3.0     140.0  417.0  1.0      2.0    157.0    0.0      0.8   \n",
              "26  61.0  1.0  4.0     138.0  166.0  0.0      2.0    125.0    1.0      3.6   \n",
              "27  49.0  1.0  3.0     120.0  188.0  0.0      0.0    139.0    0.0      2.0   \n",
              "28  56.0  1.0  2.0     130.0  221.0  0.0      2.0    163.0    0.0      0.0   \n",
              "29  52.0  1.0  1.0     118.0  186.0  0.0      2.0    190.0    0.0      0.0   \n",
              "30  63.0  0.0  2.0     140.0  195.0  0.0      0.0    179.0    0.0      0.0   \n",
              "31  53.0  0.0  4.0     138.0  234.0  0.0      2.0    160.0    0.0      0.0   \n",
              "32  67.0  0.0  3.0     115.0  564.0  0.0      2.0    160.0    0.0      1.6   \n",
              "33  57.0  1.0  4.0     132.0  207.0  0.0      0.0    168.0    1.0      0.0   \n",
              "34  48.0  1.0  4.0     124.0  274.0  0.0      2.0    166.0    0.0      0.5   \n",
              "35  58.0  1.0  2.0     120.0  284.0  0.0      2.0    160.0    0.0      1.8   \n",
              "36  49.0  0.0  4.0     130.0  269.0  0.0      0.0    163.0    0.0      0.0   \n",
              "37  69.0  1.0  3.0     140.0  254.0  0.0      2.0    146.0    0.0      2.0   \n",
              "38  56.0  1.0  2.0     120.0  240.0  0.0      0.0    169.0    0.0      0.0   \n",
              "39  42.0  1.0  1.0     148.0  244.0  0.0      2.0    178.0    0.0      0.8   \n",
              "40  54.0  1.0  3.0     120.0  258.0  0.0      2.0    147.0    0.0      0.4   \n",
              "41  45.0  1.0  1.0     110.0  264.0  0.0      0.0    132.0    0.0      1.2   \n",
              "42  54.0  0.0  3.0     160.0  201.0  0.0      0.0    163.0    0.0      0.0   \n",
              "43  57.0  1.0  4.0     152.0  274.0  0.0      0.0     88.0    1.0      1.2   \n",
              "44  66.0  1.0  4.0     120.0  302.0  0.0      2.0    151.0    0.0      0.4   \n",
              "45  47.0  1.0  4.0     110.0  275.0  0.0      2.0    118.0    1.0      1.0   \n",
              "46  39.0  0.0  3.0      94.0  199.0  0.0      0.0    179.0    0.0      0.0   \n",
              "47  50.0  0.0  3.0     120.0  219.0  0.0      0.0    158.0    0.0      1.6   \n",
              "48  71.0  0.0  4.0     112.0  149.0  0.0      0.0    125.0    0.0      1.6   \n",
              "49  60.0  1.0  4.0     145.0  282.0  0.0      2.0    142.0    1.0      2.8   \n",
              "50  43.0  1.0  4.0     120.0  177.0  0.0      2.0    120.0    1.0      2.5   \n",
              "51  63.0  0.0  4.0     108.0  269.0  0.0      0.0    169.0    1.0      1.8   \n",
              "52  51.0  1.0  4.0     140.0  261.0  0.0      2.0    186.0    1.0      0.0   \n",
              "53  71.0  0.0  3.0     110.0  265.0  1.0      2.0    130.0    0.0      0.0   \n",
              "54  52.0  1.0  1.0     152.0  298.0  1.0      0.0    178.0    0.0      1.2   \n",
              "55  45.0  1.0  4.0     115.0  260.0  0.0      2.0    185.0    0.0      0.0   \n",
              "56  60.0  0.0  4.0     158.0  305.0  0.0      2.0    161.0    0.0      0.0   \n",
              "57  57.0  1.0  4.0     140.0  192.0  0.0      0.0    148.0    0.0      0.4   \n",
              "58  62.0  0.0  4.0     140.0  268.0  0.0      2.0    160.0    0.0      3.6   \n",
              "59  57.0  1.0  3.0     150.0  126.0  1.0      0.0    173.0    0.0      0.2   \n",
              "\n",
              "    slope   ca  thal  \n",
              "0     2.0  1.0   7.0  \n",
              "1     1.0  2.0   3.0  \n",
              "2     2.0  1.0   6.0  \n",
              "3     1.0  0.0   7.0  \n",
              "4     1.0  0.0   3.0  \n",
              "5     2.0  2.0   7.0  \n",
              "6     3.0  0.0   3.0  \n",
              "7     2.0  3.0   6.0  \n",
              "8     1.0  0.0   3.0  \n",
              "9     2.0  1.0   7.0  \n",
              "10    2.0  3.0   3.0  \n",
              "11    1.0  0.0   3.0  \n",
              "12    1.0  0.0   3.0  \n",
              "13    2.0  1.0   3.0  \n",
              "14    1.0  0.0   3.0  \n",
              "15    2.0  2.0   7.0  \n",
              "16    2.0  1.0   7.0  \n",
              "17    1.0  0.0   3.0  \n",
              "18    3.0  0.0   6.0  \n",
              "19    2.0  3.0   7.0  \n",
              "20    1.0  1.0   3.0  \n",
              "21    2.0  1.0   7.0  \n",
              "22    1.0  0.0   3.0  \n",
              "23    2.0  3.0   3.0  \n",
              "24    1.0  0.0   3.0  \n",
              "25    1.0  1.0   3.0  \n",
              "26    2.0  1.0   3.0  \n",
              "27    2.0  3.0   7.0  \n",
              "28    1.0  0.0   7.0  \n",
              "29    2.0  0.0   6.0  \n",
              "30    1.0  2.0   3.0  \n",
              "31    1.0  0.0   3.0  \n",
              "32    2.0  0.0   7.0  \n",
              "33    1.0  0.0   7.0  \n",
              "34    2.0  0.0   7.0  \n",
              "35    2.0  0.0   3.0  \n",
              "36    1.0  0.0   3.0  \n",
              "37    2.0  3.0   7.0  \n",
              "38    3.0  0.0   3.0  \n",
              "39    1.0  2.0   3.0  \n",
              "40    2.0  0.0   7.0  \n",
              "41    2.0  0.0   7.0  \n",
              "42    1.0  1.0   3.0  \n",
              "43    2.0  1.0   7.0  \n",
              "44    2.0  0.0   3.0  \n",
              "45    2.0  1.0   3.0  \n",
              "46    1.0  0.0   3.0  \n",
              "47    2.0  0.0   3.0  \n",
              "48    2.0  0.0   3.0  \n",
              "49    2.0  2.0   7.0  \n",
              "50    2.0  0.0   7.0  \n",
              "51    2.0  2.0   3.0  \n",
              "52    1.0  0.0   3.0  \n",
              "53    1.0  1.0   3.0  \n",
              "54    2.0  0.0   7.0  \n",
              "55    1.0  0.0   3.0  \n",
              "56    1.0  0.0   3.0  \n",
              "57    2.0  0.0   6.0  \n",
              "58    3.0  2.0   3.0  \n",
              "59    1.0  1.0   7.0  "
            ],
            "text/html": [
              "\n",
              "  <div id=\"df-083a524a-b80a-4985-b47d-12e003146774\" class=\"colab-df-container\">\n",
              "    <div>\n",
              "<style scoped>\n",
              "    .dataframe tbody tr th:only-of-type {\n",
              "        vertical-align: middle;\n",
              "    }\n",
              "\n",
              "    .dataframe tbody tr th {\n",
              "        vertical-align: top;\n",
              "    }\n",
              "\n",
              "    .dataframe thead th {\n",
              "        text-align: right;\n",
              "    }\n",
              "</style>\n",
              "<table border=\"1\" class=\"dataframe\">\n",
              "  <thead>\n",
              "    <tr style=\"text-align: right;\">\n",
              "      <th></th>\n",
              "      <th>age</th>\n",
              "      <th>sex</th>\n",
              "      <th>cp</th>\n",
              "      <th>trestbps</th>\n",
              "      <th>chol</th>\n",
              "      <th>fbs</th>\n",
              "      <th>restecg</th>\n",
              "      <th>thalach</th>\n",
              "      <th>exang</th>\n",
              "      <th>oldpeak</th>\n",
              "      <th>slope</th>\n",
              "      <th>ca</th>\n",
              "      <th>thal</th>\n",
              "    </tr>\n",
              "  </thead>\n",
              "  <tbody>\n",
              "    <tr>\n",
              "      <th>0</th>\n",
              "      <td>57.0</td>\n",
              "      <td>1.0</td>\n",
              "      <td>3.0</td>\n",
              "      <td>128.0</td>\n",
              "      <td>229.0</td>\n",
              "      <td>0.0</td>\n",
              "      <td>2.0</td>\n",
              "      <td>150.0</td>\n",
              "      <td>0.0</td>\n",
              "      <td>0.4</td>\n",
              "      <td>2.0</td>\n",
              "      <td>1.0</td>\n",
              "      <td>7.0</td>\n",
              "    </tr>\n",
              "    <tr>\n",
              "      <th>1</th>\n",
              "      <td>59.0</td>\n",
              "      <td>1.0</td>\n",
              "      <td>1.0</td>\n",
              "      <td>134.0</td>\n",
              "      <td>204.0</td>\n",
              "      <td>0.0</td>\n",
              "      <td>0.0</td>\n",
              "      <td>162.0</td>\n",
              "      <td>0.0</td>\n",
              "      <td>0.8</td>\n",
              "      <td>1.0</td>\n",
              "      <td>2.0</td>\n",
              "      <td>3.0</td>\n",
              "    </tr>\n",
              "    <tr>\n",
              "      <th>2</th>\n",
              "      <td>56.0</td>\n",
              "      <td>1.0</td>\n",
              "      <td>4.0</td>\n",
              "      <td>132.0</td>\n",
              "      <td>184.0</td>\n",
              "      <td>0.0</td>\n",
              "      <td>2.0</td>\n",
              "      <td>105.0</td>\n",
              "      <td>1.0</td>\n",
              "      <td>2.1</td>\n",
              "      <td>2.0</td>\n",
              "      <td>1.0</td>\n",
              "      <td>6.0</td>\n",
              "    </tr>\n",
              "    <tr>\n",
              "      <th>3</th>\n",
              "      <td>64.0</td>\n",
              "      <td>0.0</td>\n",
              "      <td>3.0</td>\n",
              "      <td>140.0</td>\n",
              "      <td>313.0</td>\n",
              "      <td>0.0</td>\n",
              "      <td>0.0</td>\n",
              "      <td>133.0</td>\n",
              "      <td>0.0</td>\n",
              "      <td>0.2</td>\n",
              "      <td>1.0</td>\n",
              "      <td>0.0</td>\n",
              "      <td>7.0</td>\n",
              "    </tr>\n",
              "    <tr>\n",
              "      <th>4</th>\n",
              "      <td>55.0</td>\n",
              "      <td>1.0</td>\n",
              "      <td>2.0</td>\n",
              "      <td>130.0</td>\n",
              "      <td>262.0</td>\n",
              "      <td>0.0</td>\n",
              "      <td>0.0</td>\n",
              "      <td>155.0</td>\n",
              "      <td>0.0</td>\n",
              "      <td>0.0</td>\n",
              "      <td>1.0</td>\n",
              "      <td>0.0</td>\n",
              "      <td>3.0</td>\n",
              "    </tr>\n",
              "    <tr>\n",
              "      <th>5</th>\n",
              "      <td>53.0</td>\n",
              "      <td>1.0</td>\n",
              "      <td>4.0</td>\n",
              "      <td>123.0</td>\n",
              "      <td>282.0</td>\n",
              "      <td>0.0</td>\n",
              "      <td>0.0</td>\n",
              "      <td>95.0</td>\n",
              "      <td>1.0</td>\n",
              "      <td>2.0</td>\n",
              "      <td>2.0</td>\n",
              "      <td>2.0</td>\n",
              "      <td>7.0</td>\n",
              "    </tr>\n",
              "    <tr>\n",
              "      <th>6</th>\n",
              "      <td>46.0</td>\n",
              "      <td>0.0</td>\n",
              "      <td>3.0</td>\n",
              "      <td>142.0</td>\n",
              "      <td>177.0</td>\n",
              "      <td>0.0</td>\n",
              "      <td>2.0</td>\n",
              "      <td>160.0</td>\n",
              "      <td>1.0</td>\n",
              "      <td>1.4</td>\n",
              "      <td>3.0</td>\n",
              "      <td>0.0</td>\n",
              "      <td>3.0</td>\n",
              "    </tr>\n",
              "    <tr>\n",
              "      <th>7</th>\n",
              "      <td>66.0</td>\n",
              "      <td>1.0</td>\n",
              "      <td>2.0</td>\n",
              "      <td>160.0</td>\n",
              "      <td>246.0</td>\n",
              "      <td>0.0</td>\n",
              "      <td>0.0</td>\n",
              "      <td>120.0</td>\n",
              "      <td>1.0</td>\n",
              "      <td>0.0</td>\n",
              "      <td>2.0</td>\n",
              "      <td>3.0</td>\n",
              "      <td>6.0</td>\n",
              "    </tr>\n",
              "    <tr>\n",
              "      <th>8</th>\n",
              "      <td>45.0</td>\n",
              "      <td>1.0</td>\n",
              "      <td>2.0</td>\n",
              "      <td>128.0</td>\n",
              "      <td>308.0</td>\n",
              "      <td>0.0</td>\n",
              "      <td>2.0</td>\n",
              "      <td>170.0</td>\n",
              "      <td>0.0</td>\n",
              "      <td>0.0</td>\n",
              "      <td>1.0</td>\n",
              "      <td>0.0</td>\n",
              "      <td>3.0</td>\n",
              "    </tr>\n",
              "    <tr>\n",
              "      <th>9</th>\n",
              "      <td>50.0</td>\n",
              "      <td>1.0</td>\n",
              "      <td>3.0</td>\n",
              "      <td>140.0</td>\n",
              "      <td>233.0</td>\n",
              "      <td>0.0</td>\n",
              "      <td>0.0</td>\n",
              "      <td>163.0</td>\n",
              "      <td>0.0</td>\n",
              "      <td>0.6</td>\n",
              "      <td>2.0</td>\n",
              "      <td>1.0</td>\n",
              "      <td>7.0</td>\n",
              "    </tr>\n",
              "    <tr>\n",
              "      <th>10</th>\n",
              "      <td>62.0</td>\n",
              "      <td>0.0</td>\n",
              "      <td>4.0</td>\n",
              "      <td>138.0</td>\n",
              "      <td>294.0</td>\n",
              "      <td>1.0</td>\n",
              "      <td>0.0</td>\n",
              "      <td>106.0</td>\n",
              "      <td>0.0</td>\n",
              "      <td>1.9</td>\n",
              "      <td>2.0</td>\n",
              "      <td>3.0</td>\n",
              "      <td>3.0</td>\n",
              "    </tr>\n",
              "    <tr>\n",
              "      <th>11</th>\n",
              "      <td>59.0</td>\n",
              "      <td>1.0</td>\n",
              "      <td>4.0</td>\n",
              "      <td>138.0</td>\n",
              "      <td>271.0</td>\n",
              "      <td>0.0</td>\n",
              "      <td>2.0</td>\n",
              "      <td>182.0</td>\n",
              "      <td>0.0</td>\n",
              "      <td>0.0</td>\n",
              "      <td>1.0</td>\n",
              "      <td>0.0</td>\n",
              "      <td>3.0</td>\n",
              "    </tr>\n",
              "    <tr>\n",
              "      <th>12</th>\n",
              "      <td>57.0</td>\n",
              "      <td>0.0</td>\n",
              "      <td>4.0</td>\n",
              "      <td>120.0</td>\n",
              "      <td>354.0</td>\n",
              "      <td>0.0</td>\n",
              "      <td>0.0</td>\n",
              "      <td>163.0</td>\n",
              "      <td>1.0</td>\n",
              "      <td>0.6</td>\n",
              "      <td>1.0</td>\n",
              "      <td>0.0</td>\n",
              "      <td>3.0</td>\n",
              "    </tr>\n",
              "    <tr>\n",
              "      <th>13</th>\n",
              "      <td>56.0</td>\n",
              "      <td>1.0</td>\n",
              "      <td>4.0</td>\n",
              "      <td>125.0</td>\n",
              "      <td>249.0</td>\n",
              "      <td>1.0</td>\n",
              "      <td>2.0</td>\n",
              "      <td>144.0</td>\n",
              "      <td>1.0</td>\n",
              "      <td>1.2</td>\n",
              "      <td>2.0</td>\n",
              "      <td>1.0</td>\n",
              "      <td>3.0</td>\n",
              "    </tr>\n",
              "    <tr>\n",
              "      <th>14</th>\n",
              "      <td>43.0</td>\n",
              "      <td>1.0</td>\n",
              "      <td>4.0</td>\n",
              "      <td>150.0</td>\n",
              "      <td>247.0</td>\n",
              "      <td>0.0</td>\n",
              "      <td>0.0</td>\n",
              "      <td>171.0</td>\n",
              "      <td>0.0</td>\n",
              "      <td>1.5</td>\n",
              "      <td>1.0</td>\n",
              "      <td>0.0</td>\n",
              "      <td>3.0</td>\n",
              "    </tr>\n",
              "    <tr>\n",
              "      <th>15</th>\n",
              "      <td>60.0</td>\n",
              "      <td>0.0</td>\n",
              "      <td>4.0</td>\n",
              "      <td>150.0</td>\n",
              "      <td>258.0</td>\n",
              "      <td>0.0</td>\n",
              "      <td>2.0</td>\n",
              "      <td>157.0</td>\n",
              "      <td>0.0</td>\n",
              "      <td>2.6</td>\n",
              "      <td>2.0</td>\n",
              "      <td>2.0</td>\n",
              "      <td>7.0</td>\n",
              "    </tr>\n",
              "    <tr>\n",
              "      <th>16</th>\n",
              "      <td>54.0</td>\n",
              "      <td>1.0</td>\n",
              "      <td>4.0</td>\n",
              "      <td>124.0</td>\n",
              "      <td>266.0</td>\n",
              "      <td>0.0</td>\n",
              "      <td>2.0</td>\n",
              "      <td>109.0</td>\n",
              "      <td>1.0</td>\n",
              "      <td>2.2</td>\n",
              "      <td>2.0</td>\n",
              "      <td>1.0</td>\n",
              "      <td>7.0</td>\n",
              "    </tr>\n",
              "    <tr>\n",
              "      <th>17</th>\n",
              "      <td>41.0</td>\n",
              "      <td>0.0</td>\n",
              "      <td>3.0</td>\n",
              "      <td>112.0</td>\n",
              "      <td>268.0</td>\n",
              "      <td>0.0</td>\n",
              "      <td>2.0</td>\n",
              "      <td>172.0</td>\n",
              "      <td>1.0</td>\n",
              "      <td>0.0</td>\n",
              "      <td>1.0</td>\n",
              "      <td>0.0</td>\n",
              "      <td>3.0</td>\n",
              "    </tr>\n",
              "    <tr>\n",
              "      <th>18</th>\n",
              "      <td>44.0</td>\n",
              "      <td>1.0</td>\n",
              "      <td>4.0</td>\n",
              "      <td>120.0</td>\n",
              "      <td>169.0</td>\n",
              "      <td>0.0</td>\n",
              "      <td>0.0</td>\n",
              "      <td>144.0</td>\n",
              "      <td>1.0</td>\n",
              "      <td>2.8</td>\n",
              "      <td>3.0</td>\n",
              "      <td>0.0</td>\n",
              "      <td>6.0</td>\n",
              "    </tr>\n",
              "    <tr>\n",
              "      <th>19</th>\n",
              "      <td>45.0</td>\n",
              "      <td>1.0</td>\n",
              "      <td>4.0</td>\n",
              "      <td>142.0</td>\n",
              "      <td>309.0</td>\n",
              "      <td>0.0</td>\n",
              "      <td>2.0</td>\n",
              "      <td>147.0</td>\n",
              "      <td>1.0</td>\n",
              "      <td>0.0</td>\n",
              "      <td>2.0</td>\n",
              "      <td>3.0</td>\n",
              "      <td>7.0</td>\n",
              "    </tr>\n",
              "    <tr>\n",
              "      <th>20</th>\n",
              "      <td>66.0</td>\n",
              "      <td>1.0</td>\n",
              "      <td>4.0</td>\n",
              "      <td>112.0</td>\n",
              "      <td>212.0</td>\n",
              "      <td>0.0</td>\n",
              "      <td>2.0</td>\n",
              "      <td>132.0</td>\n",
              "      <td>1.0</td>\n",
              "      <td>0.1</td>\n",
              "      <td>1.0</td>\n",
              "      <td>1.0</td>\n",
              "      <td>3.0</td>\n",
              "    </tr>\n",
              "    <tr>\n",
              "      <th>21</th>\n",
              "      <td>70.0</td>\n",
              "      <td>1.0</td>\n",
              "      <td>3.0</td>\n",
              "      <td>160.0</td>\n",
              "      <td>269.0</td>\n",
              "      <td>0.0</td>\n",
              "      <td>0.0</td>\n",
              "      <td>112.0</td>\n",
              "      <td>1.0</td>\n",
              "      <td>2.9</td>\n",
              "      <td>2.0</td>\n",
              "      <td>1.0</td>\n",
              "      <td>7.0</td>\n",
              "    </tr>\n",
              "    <tr>\n",
              "      <th>22</th>\n",
              "      <td>63.0</td>\n",
              "      <td>0.0</td>\n",
              "      <td>3.0</td>\n",
              "      <td>135.0</td>\n",
              "      <td>252.0</td>\n",
              "      <td>0.0</td>\n",
              "      <td>2.0</td>\n",
              "      <td>172.0</td>\n",
              "      <td>0.0</td>\n",
              "      <td>0.0</td>\n",
              "      <td>1.0</td>\n",
              "      <td>0.0</td>\n",
              "      <td>3.0</td>\n",
              "    </tr>\n",
              "    <tr>\n",
              "      <th>23</th>\n",
              "      <td>67.0</td>\n",
              "      <td>1.0</td>\n",
              "      <td>4.0</td>\n",
              "      <td>160.0</td>\n",
              "      <td>286.0</td>\n",
              "      <td>0.0</td>\n",
              "      <td>2.0</td>\n",
              "      <td>108.0</td>\n",
              "      <td>1.0</td>\n",
              "      <td>1.5</td>\n",
              "      <td>2.0</td>\n",
              "      <td>3.0</td>\n",
              "      <td>3.0</td>\n",
              "    </tr>\n",
              "    <tr>\n",
              "      <th>24</th>\n",
              "      <td>49.0</td>\n",
              "      <td>1.0</td>\n",
              "      <td>2.0</td>\n",
              "      <td>130.0</td>\n",
              "      <td>266.0</td>\n",
              "      <td>0.0</td>\n",
              "      <td>0.0</td>\n",
              "      <td>171.0</td>\n",
              "      <td>0.0</td>\n",
              "      <td>0.6</td>\n",
              "      <td>1.0</td>\n",
              "      <td>0.0</td>\n",
              "      <td>3.0</td>\n",
              "    </tr>\n",
              "    <tr>\n",
              "      <th>25</th>\n",
              "      <td>65.0</td>\n",
              "      <td>0.0</td>\n",
              "      <td>3.0</td>\n",
              "      <td>140.0</td>\n",
              "      <td>417.0</td>\n",
              "      <td>1.0</td>\n",
              "      <td>2.0</td>\n",
              "      <td>157.0</td>\n",
              "      <td>0.0</td>\n",
              "      <td>0.8</td>\n",
              "      <td>1.0</td>\n",
              "      <td>1.0</td>\n",
              "      <td>3.0</td>\n",
              "    </tr>\n",
              "    <tr>\n",
              "      <th>26</th>\n",
              "      <td>61.0</td>\n",
              "      <td>1.0</td>\n",
              "      <td>4.0</td>\n",
              "      <td>138.0</td>\n",
              "      <td>166.0</td>\n",
              "      <td>0.0</td>\n",
              "      <td>2.0</td>\n",
              "      <td>125.0</td>\n",
              "      <td>1.0</td>\n",
              "      <td>3.6</td>\n",
              "      <td>2.0</td>\n",
              "      <td>1.0</td>\n",
              "      <td>3.0</td>\n",
              "    </tr>\n",
              "    <tr>\n",
              "      <th>27</th>\n",
              "      <td>49.0</td>\n",
              "      <td>1.0</td>\n",
              "      <td>3.0</td>\n",
              "      <td>120.0</td>\n",
              "      <td>188.0</td>\n",
              "      <td>0.0</td>\n",
              "      <td>0.0</td>\n",
              "      <td>139.0</td>\n",
              "      <td>0.0</td>\n",
              "      <td>2.0</td>\n",
              "      <td>2.0</td>\n",
              "      <td>3.0</td>\n",
              "      <td>7.0</td>\n",
              "    </tr>\n",
              "    <tr>\n",
              "      <th>28</th>\n",
              "      <td>56.0</td>\n",
              "      <td>1.0</td>\n",
              "      <td>2.0</td>\n",
              "      <td>130.0</td>\n",
              "      <td>221.0</td>\n",
              "      <td>0.0</td>\n",
              "      <td>2.0</td>\n",
              "      <td>163.0</td>\n",
              "      <td>0.0</td>\n",
              "      <td>0.0</td>\n",
              "      <td>1.0</td>\n",
              "      <td>0.0</td>\n",
              "      <td>7.0</td>\n",
              "    </tr>\n",
              "    <tr>\n",
              "      <th>29</th>\n",
              "      <td>52.0</td>\n",
              "      <td>1.0</td>\n",
              "      <td>1.0</td>\n",
              "      <td>118.0</td>\n",
              "      <td>186.0</td>\n",
              "      <td>0.0</td>\n",
              "      <td>2.0</td>\n",
              "      <td>190.0</td>\n",
              "      <td>0.0</td>\n",
              "      <td>0.0</td>\n",
              "      <td>2.0</td>\n",
              "      <td>0.0</td>\n",
              "      <td>6.0</td>\n",
              "    </tr>\n",
              "    <tr>\n",
              "      <th>30</th>\n",
              "      <td>63.0</td>\n",
              "      <td>0.0</td>\n",
              "      <td>2.0</td>\n",
              "      <td>140.0</td>\n",
              "      <td>195.0</td>\n",
              "      <td>0.0</td>\n",
              "      <td>0.0</td>\n",
              "      <td>179.0</td>\n",
              "      <td>0.0</td>\n",
              "      <td>0.0</td>\n",
              "      <td>1.0</td>\n",
              "      <td>2.0</td>\n",
              "      <td>3.0</td>\n",
              "    </tr>\n",
              "    <tr>\n",
              "      <th>31</th>\n",
              "      <td>53.0</td>\n",
              "      <td>0.0</td>\n",
              "      <td>4.0</td>\n",
              "      <td>138.0</td>\n",
              "      <td>234.0</td>\n",
              "      <td>0.0</td>\n",
              "      <td>2.0</td>\n",
              "      <td>160.0</td>\n",
              "      <td>0.0</td>\n",
              "      <td>0.0</td>\n",
              "      <td>1.0</td>\n",
              "      <td>0.0</td>\n",
              "      <td>3.0</td>\n",
              "    </tr>\n",
              "    <tr>\n",
              "      <th>32</th>\n",
              "      <td>67.0</td>\n",
              "      <td>0.0</td>\n",
              "      <td>3.0</td>\n",
              "      <td>115.0</td>\n",
              "      <td>564.0</td>\n",
              "      <td>0.0</td>\n",
              "      <td>2.0</td>\n",
              "      <td>160.0</td>\n",
              "      <td>0.0</td>\n",
              "      <td>1.6</td>\n",
              "      <td>2.0</td>\n",
              "      <td>0.0</td>\n",
              "      <td>7.0</td>\n",
              "    </tr>\n",
              "    <tr>\n",
              "      <th>33</th>\n",
              "      <td>57.0</td>\n",
              "      <td>1.0</td>\n",
              "      <td>4.0</td>\n",
              "      <td>132.0</td>\n",
              "      <td>207.0</td>\n",
              "      <td>0.0</td>\n",
              "      <td>0.0</td>\n",
              "      <td>168.0</td>\n",
              "      <td>1.0</td>\n",
              "      <td>0.0</td>\n",
              "      <td>1.0</td>\n",
              "      <td>0.0</td>\n",
              "      <td>7.0</td>\n",
              "    </tr>\n",
              "    <tr>\n",
              "      <th>34</th>\n",
              "      <td>48.0</td>\n",
              "      <td>1.0</td>\n",
              "      <td>4.0</td>\n",
              "      <td>124.0</td>\n",
              "      <td>274.0</td>\n",
              "      <td>0.0</td>\n",
              "      <td>2.0</td>\n",
              "      <td>166.0</td>\n",
              "      <td>0.0</td>\n",
              "      <td>0.5</td>\n",
              "      <td>2.0</td>\n",
              "      <td>0.0</td>\n",
              "      <td>7.0</td>\n",
              "    </tr>\n",
              "    <tr>\n",
              "      <th>35</th>\n",
              "      <td>58.0</td>\n",
              "      <td>1.0</td>\n",
              "      <td>2.0</td>\n",
              "      <td>120.0</td>\n",
              "      <td>284.0</td>\n",
              "      <td>0.0</td>\n",
              "      <td>2.0</td>\n",
              "      <td>160.0</td>\n",
              "      <td>0.0</td>\n",
              "      <td>1.8</td>\n",
              "      <td>2.0</td>\n",
              "      <td>0.0</td>\n",
              "      <td>3.0</td>\n",
              "    </tr>\n",
              "    <tr>\n",
              "      <th>36</th>\n",
              "      <td>49.0</td>\n",
              "      <td>0.0</td>\n",
              "      <td>4.0</td>\n",
              "      <td>130.0</td>\n",
              "      <td>269.0</td>\n",
              "      <td>0.0</td>\n",
              "      <td>0.0</td>\n",
              "      <td>163.0</td>\n",
              "      <td>0.0</td>\n",
              "      <td>0.0</td>\n",
              "      <td>1.0</td>\n",
              "      <td>0.0</td>\n",
              "      <td>3.0</td>\n",
              "    </tr>\n",
              "    <tr>\n",
              "      <th>37</th>\n",
              "      <td>69.0</td>\n",
              "      <td>1.0</td>\n",
              "      <td>3.0</td>\n",
              "      <td>140.0</td>\n",
              "      <td>254.0</td>\n",
              "      <td>0.0</td>\n",
              "      <td>2.0</td>\n",
              "      <td>146.0</td>\n",
              "      <td>0.0</td>\n",
              "      <td>2.0</td>\n",
              "      <td>2.0</td>\n",
              "      <td>3.0</td>\n",
              "      <td>7.0</td>\n",
              "    </tr>\n",
              "    <tr>\n",
              "      <th>38</th>\n",
              "      <td>56.0</td>\n",
              "      <td>1.0</td>\n",
              "      <td>2.0</td>\n",
              "      <td>120.0</td>\n",
              "      <td>240.0</td>\n",
              "      <td>0.0</td>\n",
              "      <td>0.0</td>\n",
              "      <td>169.0</td>\n",
              "      <td>0.0</td>\n",
              "      <td>0.0</td>\n",
              "      <td>3.0</td>\n",
              "      <td>0.0</td>\n",
              "      <td>3.0</td>\n",
              "    </tr>\n",
              "    <tr>\n",
              "      <th>39</th>\n",
              "      <td>42.0</td>\n",
              "      <td>1.0</td>\n",
              "      <td>1.0</td>\n",
              "      <td>148.0</td>\n",
              "      <td>244.0</td>\n",
              "      <td>0.0</td>\n",
              "      <td>2.0</td>\n",
              "      <td>178.0</td>\n",
              "      <td>0.0</td>\n",
              "      <td>0.8</td>\n",
              "      <td>1.0</td>\n",
              "      <td>2.0</td>\n",
              "      <td>3.0</td>\n",
              "    </tr>\n",
              "    <tr>\n",
              "      <th>40</th>\n",
              "      <td>54.0</td>\n",
              "      <td>1.0</td>\n",
              "      <td>3.0</td>\n",
              "      <td>120.0</td>\n",
              "      <td>258.0</td>\n",
              "      <td>0.0</td>\n",
              "      <td>2.0</td>\n",
              "      <td>147.0</td>\n",
              "      <td>0.0</td>\n",
              "      <td>0.4</td>\n",
              "      <td>2.0</td>\n",
              "      <td>0.0</td>\n",
              "      <td>7.0</td>\n",
              "    </tr>\n",
              "    <tr>\n",
              "      <th>41</th>\n",
              "      <td>45.0</td>\n",
              "      <td>1.0</td>\n",
              "      <td>1.0</td>\n",
              "      <td>110.0</td>\n",
              "      <td>264.0</td>\n",
              "      <td>0.0</td>\n",
              "      <td>0.0</td>\n",
              "      <td>132.0</td>\n",
              "      <td>0.0</td>\n",
              "      <td>1.2</td>\n",
              "      <td>2.0</td>\n",
              "      <td>0.0</td>\n",
              "      <td>7.0</td>\n",
              "    </tr>\n",
              "    <tr>\n",
              "      <th>42</th>\n",
              "      <td>54.0</td>\n",
              "      <td>0.0</td>\n",
              "      <td>3.0</td>\n",
              "      <td>160.0</td>\n",
              "      <td>201.0</td>\n",
              "      <td>0.0</td>\n",
              "      <td>0.0</td>\n",
              "      <td>163.0</td>\n",
              "      <td>0.0</td>\n",
              "      <td>0.0</td>\n",
              "      <td>1.0</td>\n",
              "      <td>1.0</td>\n",
              "      <td>3.0</td>\n",
              "    </tr>\n",
              "    <tr>\n",
              "      <th>43</th>\n",
              "      <td>57.0</td>\n",
              "      <td>1.0</td>\n",
              "      <td>4.0</td>\n",
              "      <td>152.0</td>\n",
              "      <td>274.0</td>\n",
              "      <td>0.0</td>\n",
              "      <td>0.0</td>\n",
              "      <td>88.0</td>\n",
              "      <td>1.0</td>\n",
              "      <td>1.2</td>\n",
              "      <td>2.0</td>\n",
              "      <td>1.0</td>\n",
              "      <td>7.0</td>\n",
              "    </tr>\n",
              "    <tr>\n",
              "      <th>44</th>\n",
              "      <td>66.0</td>\n",
              "      <td>1.0</td>\n",
              "      <td>4.0</td>\n",
              "      <td>120.0</td>\n",
              "      <td>302.0</td>\n",
              "      <td>0.0</td>\n",
              "      <td>2.0</td>\n",
              "      <td>151.0</td>\n",
              "      <td>0.0</td>\n",
              "      <td>0.4</td>\n",
              "      <td>2.0</td>\n",
              "      <td>0.0</td>\n",
              "      <td>3.0</td>\n",
              "    </tr>\n",
              "    <tr>\n",
              "      <th>45</th>\n",
              "      <td>47.0</td>\n",
              "      <td>1.0</td>\n",
              "      <td>4.0</td>\n",
              "      <td>110.0</td>\n",
              "      <td>275.0</td>\n",
              "      <td>0.0</td>\n",
              "      <td>2.0</td>\n",
              "      <td>118.0</td>\n",
              "      <td>1.0</td>\n",
              "      <td>1.0</td>\n",
              "      <td>2.0</td>\n",
              "      <td>1.0</td>\n",
              "      <td>3.0</td>\n",
              "    </tr>\n",
              "    <tr>\n",
              "      <th>46</th>\n",
              "      <td>39.0</td>\n",
              "      <td>0.0</td>\n",
              "      <td>3.0</td>\n",
              "      <td>94.0</td>\n",
              "      <td>199.0</td>\n",
              "      <td>0.0</td>\n",
              "      <td>0.0</td>\n",
              "      <td>179.0</td>\n",
              "      <td>0.0</td>\n",
              "      <td>0.0</td>\n",
              "      <td>1.0</td>\n",
              "      <td>0.0</td>\n",
              "      <td>3.0</td>\n",
              "    </tr>\n",
              "    <tr>\n",
              "      <th>47</th>\n",
              "      <td>50.0</td>\n",
              "      <td>0.0</td>\n",
              "      <td>3.0</td>\n",
              "      <td>120.0</td>\n",
              "      <td>219.0</td>\n",
              "      <td>0.0</td>\n",
              "      <td>0.0</td>\n",
              "      <td>158.0</td>\n",
              "      <td>0.0</td>\n",
              "      <td>1.6</td>\n",
              "      <td>2.0</td>\n",
              "      <td>0.0</td>\n",
              "      <td>3.0</td>\n",
              "    </tr>\n",
              "    <tr>\n",
              "      <th>48</th>\n",
              "      <td>71.0</td>\n",
              "      <td>0.0</td>\n",
              "      <td>4.0</td>\n",
              "      <td>112.0</td>\n",
              "      <td>149.0</td>\n",
              "      <td>0.0</td>\n",
              "      <td>0.0</td>\n",
              "      <td>125.0</td>\n",
              "      <td>0.0</td>\n",
              "      <td>1.6</td>\n",
              "      <td>2.0</td>\n",
              "      <td>0.0</td>\n",
              "      <td>3.0</td>\n",
              "    </tr>\n",
              "    <tr>\n",
              "      <th>49</th>\n",
              "      <td>60.0</td>\n",
              "      <td>1.0</td>\n",
              "      <td>4.0</td>\n",
              "      <td>145.0</td>\n",
              "      <td>282.0</td>\n",
              "      <td>0.0</td>\n",
              "      <td>2.0</td>\n",
              "      <td>142.0</td>\n",
              "      <td>1.0</td>\n",
              "      <td>2.8</td>\n",
              "      <td>2.0</td>\n",
              "      <td>2.0</td>\n",
              "      <td>7.0</td>\n",
              "    </tr>\n",
              "    <tr>\n",
              "      <th>50</th>\n",
              "      <td>43.0</td>\n",
              "      <td>1.0</td>\n",
              "      <td>4.0</td>\n",
              "      <td>120.0</td>\n",
              "      <td>177.0</td>\n",
              "      <td>0.0</td>\n",
              "      <td>2.0</td>\n",
              "      <td>120.0</td>\n",
              "      <td>1.0</td>\n",
              "      <td>2.5</td>\n",
              "      <td>2.0</td>\n",
              "      <td>0.0</td>\n",
              "      <td>7.0</td>\n",
              "    </tr>\n",
              "    <tr>\n",
              "      <th>51</th>\n",
              "      <td>63.0</td>\n",
              "      <td>0.0</td>\n",
              "      <td>4.0</td>\n",
              "      <td>108.0</td>\n",
              "      <td>269.0</td>\n",
              "      <td>0.0</td>\n",
              "      <td>0.0</td>\n",
              "      <td>169.0</td>\n",
              "      <td>1.0</td>\n",
              "      <td>1.8</td>\n",
              "      <td>2.0</td>\n",
              "      <td>2.0</td>\n",
              "      <td>3.0</td>\n",
              "    </tr>\n",
              "    <tr>\n",
              "      <th>52</th>\n",
              "      <td>51.0</td>\n",
              "      <td>1.0</td>\n",
              "      <td>4.0</td>\n",
              "      <td>140.0</td>\n",
              "      <td>261.0</td>\n",
              "      <td>0.0</td>\n",
              "      <td>2.0</td>\n",
              "      <td>186.0</td>\n",
              "      <td>1.0</td>\n",
              "      <td>0.0</td>\n",
              "      <td>1.0</td>\n",
              "      <td>0.0</td>\n",
              "      <td>3.0</td>\n",
              "    </tr>\n",
              "    <tr>\n",
              "      <th>53</th>\n",
              "      <td>71.0</td>\n",
              "      <td>0.0</td>\n",
              "      <td>3.0</td>\n",
              "      <td>110.0</td>\n",
              "      <td>265.0</td>\n",
              "      <td>1.0</td>\n",
              "      <td>2.0</td>\n",
              "      <td>130.0</td>\n",
              "      <td>0.0</td>\n",
              "      <td>0.0</td>\n",
              "      <td>1.0</td>\n",
              "      <td>1.0</td>\n",
              "      <td>3.0</td>\n",
              "    </tr>\n",
              "    <tr>\n",
              "      <th>54</th>\n",
              "      <td>52.0</td>\n",
              "      <td>1.0</td>\n",
              "      <td>1.0</td>\n",
              "      <td>152.0</td>\n",
              "      <td>298.0</td>\n",
              "      <td>1.0</td>\n",
              "      <td>0.0</td>\n",
              "      <td>178.0</td>\n",
              "      <td>0.0</td>\n",
              "      <td>1.2</td>\n",
              "      <td>2.0</td>\n",
              "      <td>0.0</td>\n",
              "      <td>7.0</td>\n",
              "    </tr>\n",
              "    <tr>\n",
              "      <th>55</th>\n",
              "      <td>45.0</td>\n",
              "      <td>1.0</td>\n",
              "      <td>4.0</td>\n",
              "      <td>115.0</td>\n",
              "      <td>260.0</td>\n",
              "      <td>0.0</td>\n",
              "      <td>2.0</td>\n",
              "      <td>185.0</td>\n",
              "      <td>0.0</td>\n",
              "      <td>0.0</td>\n",
              "      <td>1.0</td>\n",
              "      <td>0.0</td>\n",
              "      <td>3.0</td>\n",
              "    </tr>\n",
              "    <tr>\n",
              "      <th>56</th>\n",
              "      <td>60.0</td>\n",
              "      <td>0.0</td>\n",
              "      <td>4.0</td>\n",
              "      <td>158.0</td>\n",
              "      <td>305.0</td>\n",
              "      <td>0.0</td>\n",
              "      <td>2.0</td>\n",
              "      <td>161.0</td>\n",
              "      <td>0.0</td>\n",
              "      <td>0.0</td>\n",
              "      <td>1.0</td>\n",
              "      <td>0.0</td>\n",
              "      <td>3.0</td>\n",
              "    </tr>\n",
              "    <tr>\n",
              "      <th>57</th>\n",
              "      <td>57.0</td>\n",
              "      <td>1.0</td>\n",
              "      <td>4.0</td>\n",
              "      <td>140.0</td>\n",
              "      <td>192.0</td>\n",
              "      <td>0.0</td>\n",
              "      <td>0.0</td>\n",
              "      <td>148.0</td>\n",
              "      <td>0.0</td>\n",
              "      <td>0.4</td>\n",
              "      <td>2.0</td>\n",
              "      <td>0.0</td>\n",
              "      <td>6.0</td>\n",
              "    </tr>\n",
              "    <tr>\n",
              "      <th>58</th>\n",
              "      <td>62.0</td>\n",
              "      <td>0.0</td>\n",
              "      <td>4.0</td>\n",
              "      <td>140.0</td>\n",
              "      <td>268.0</td>\n",
              "      <td>0.0</td>\n",
              "      <td>2.0</td>\n",
              "      <td>160.0</td>\n",
              "      <td>0.0</td>\n",
              "      <td>3.6</td>\n",
              "      <td>3.0</td>\n",
              "      <td>2.0</td>\n",
              "      <td>3.0</td>\n",
              "    </tr>\n",
              "    <tr>\n",
              "      <th>59</th>\n",
              "      <td>57.0</td>\n",
              "      <td>1.0</td>\n",
              "      <td>3.0</td>\n",
              "      <td>150.0</td>\n",
              "      <td>126.0</td>\n",
              "      <td>1.0</td>\n",
              "      <td>0.0</td>\n",
              "      <td>173.0</td>\n",
              "      <td>0.0</td>\n",
              "      <td>0.2</td>\n",
              "      <td>1.0</td>\n",
              "      <td>1.0</td>\n",
              "      <td>7.0</td>\n",
              "    </tr>\n",
              "  </tbody>\n",
              "</table>\n",
              "</div>\n",
              "    <div class=\"colab-df-buttons\">\n",
              "\n",
              "  <div class=\"colab-df-container\">\n",
              "    <button class=\"colab-df-convert\" onclick=\"convertToInteractive('df-083a524a-b80a-4985-b47d-12e003146774')\"\n",
              "            title=\"Convert this dataframe to an interactive table.\"\n",
              "            style=\"display:none;\">\n",
              "\n",
              "  <svg xmlns=\"http://www.w3.org/2000/svg\" height=\"24px\" viewBox=\"0 -960 960 960\">\n",
              "    <path d=\"M120-120v-720h720v720H120Zm60-500h600v-160H180v160Zm220 220h160v-160H400v160Zm0 220h160v-160H400v160ZM180-400h160v-160H180v160Zm440 0h160v-160H620v160ZM180-180h160v-160H180v160Zm440 0h160v-160H620v160Z\"/>\n",
              "  </svg>\n",
              "    </button>\n",
              "\n",
              "  <style>\n",
              "    .colab-df-container {\n",
              "      display:flex;\n",
              "      gap: 12px;\n",
              "    }\n",
              "\n",
              "    .colab-df-convert {\n",
              "      background-color: #E8F0FE;\n",
              "      border: none;\n",
              "      border-radius: 50%;\n",
              "      cursor: pointer;\n",
              "      display: none;\n",
              "      fill: #1967D2;\n",
              "      height: 32px;\n",
              "      padding: 0 0 0 0;\n",
              "      width: 32px;\n",
              "    }\n",
              "\n",
              "    .colab-df-convert:hover {\n",
              "      background-color: #E2EBFA;\n",
              "      box-shadow: 0px 1px 2px rgba(60, 64, 67, 0.3), 0px 1px 3px 1px rgba(60, 64, 67, 0.15);\n",
              "      fill: #174EA6;\n",
              "    }\n",
              "\n",
              "    .colab-df-buttons div {\n",
              "      margin-bottom: 4px;\n",
              "    }\n",
              "\n",
              "    [theme=dark] .colab-df-convert {\n",
              "      background-color: #3B4455;\n",
              "      fill: #D2E3FC;\n",
              "    }\n",
              "\n",
              "    [theme=dark] .colab-df-convert:hover {\n",
              "      background-color: #434B5C;\n",
              "      box-shadow: 0px 1px 3px 1px rgba(0, 0, 0, 0.15);\n",
              "      filter: drop-shadow(0px 1px 2px rgba(0, 0, 0, 0.3));\n",
              "      fill: #FFFFFF;\n",
              "    }\n",
              "  </style>\n",
              "\n",
              "    <script>\n",
              "      const buttonEl =\n",
              "        document.querySelector('#df-083a524a-b80a-4985-b47d-12e003146774 button.colab-df-convert');\n",
              "      buttonEl.style.display =\n",
              "        google.colab.kernel.accessAllowed ? 'block' : 'none';\n",
              "\n",
              "      async function convertToInteractive(key) {\n",
              "        const element = document.querySelector('#df-083a524a-b80a-4985-b47d-12e003146774');\n",
              "        const dataTable =\n",
              "          await google.colab.kernel.invokeFunction('convertToInteractive',\n",
              "                                                    [key], {});\n",
              "        if (!dataTable) return;\n",
              "\n",
              "        const docLinkHtml = 'Like what you see? Visit the ' +\n",
              "          '<a target=\"_blank\" href=https://colab.research.google.com/notebooks/data_table.ipynb>data table notebook</a>'\n",
              "          + ' to learn more about interactive tables.';\n",
              "        element.innerHTML = '';\n",
              "        dataTable['output_type'] = 'display_data';\n",
              "        await google.colab.output.renderOutput(dataTable, element);\n",
              "        const docLink = document.createElement('div');\n",
              "        docLink.innerHTML = docLinkHtml;\n",
              "        element.appendChild(docLink);\n",
              "      }\n",
              "    </script>\n",
              "  </div>\n",
              "\n",
              "\n",
              "<div id=\"df-1c29cc2e-ff99-4230-a9ad-62895a61811d\">\n",
              "  <button class=\"colab-df-quickchart\" onclick=\"quickchart('df-1c29cc2e-ff99-4230-a9ad-62895a61811d')\"\n",
              "            title=\"Suggest charts\"\n",
              "            style=\"display:none;\">\n",
              "\n",
              "<svg xmlns=\"http://www.w3.org/2000/svg\" height=\"24px\"viewBox=\"0 0 24 24\"\n",
              "     width=\"24px\">\n",
              "    <g>\n",
              "        <path d=\"M19 3H5c-1.1 0-2 .9-2 2v14c0 1.1.9 2 2 2h14c1.1 0 2-.9 2-2V5c0-1.1-.9-2-2-2zM9 17H7v-7h2v7zm4 0h-2V7h2v10zm4 0h-2v-4h2v4z\"/>\n",
              "    </g>\n",
              "</svg>\n",
              "  </button>\n",
              "\n",
              "<style>\n",
              "  .colab-df-quickchart {\n",
              "      --bg-color: #E8F0FE;\n",
              "      --fill-color: #1967D2;\n",
              "      --hover-bg-color: #E2EBFA;\n",
              "      --hover-fill-color: #174EA6;\n",
              "      --disabled-fill-color: #AAA;\n",
              "      --disabled-bg-color: #DDD;\n",
              "  }\n",
              "\n",
              "  [theme=dark] .colab-df-quickchart {\n",
              "      --bg-color: #3B4455;\n",
              "      --fill-color: #D2E3FC;\n",
              "      --hover-bg-color: #434B5C;\n",
              "      --hover-fill-color: #FFFFFF;\n",
              "      --disabled-bg-color: #3B4455;\n",
              "      --disabled-fill-color: #666;\n",
              "  }\n",
              "\n",
              "  .colab-df-quickchart {\n",
              "    background-color: var(--bg-color);\n",
              "    border: none;\n",
              "    border-radius: 50%;\n",
              "    cursor: pointer;\n",
              "    display: none;\n",
              "    fill: var(--fill-color);\n",
              "    height: 32px;\n",
              "    padding: 0;\n",
              "    width: 32px;\n",
              "  }\n",
              "\n",
              "  .colab-df-quickchart:hover {\n",
              "    background-color: var(--hover-bg-color);\n",
              "    box-shadow: 0 1px 2px rgba(60, 64, 67, 0.3), 0 1px 3px 1px rgba(60, 64, 67, 0.15);\n",
              "    fill: var(--button-hover-fill-color);\n",
              "  }\n",
              "\n",
              "  .colab-df-quickchart-complete:disabled,\n",
              "  .colab-df-quickchart-complete:disabled:hover {\n",
              "    background-color: var(--disabled-bg-color);\n",
              "    fill: var(--disabled-fill-color);\n",
              "    box-shadow: none;\n",
              "  }\n",
              "\n",
              "  .colab-df-spinner {\n",
              "    border: 2px solid var(--fill-color);\n",
              "    border-color: transparent;\n",
              "    border-bottom-color: var(--fill-color);\n",
              "    animation:\n",
              "      spin 1s steps(1) infinite;\n",
              "  }\n",
              "\n",
              "  @keyframes spin {\n",
              "    0% {\n",
              "      border-color: transparent;\n",
              "      border-bottom-color: var(--fill-color);\n",
              "      border-left-color: var(--fill-color);\n",
              "    }\n",
              "    20% {\n",
              "      border-color: transparent;\n",
              "      border-left-color: var(--fill-color);\n",
              "      border-top-color: var(--fill-color);\n",
              "    }\n",
              "    30% {\n",
              "      border-color: transparent;\n",
              "      border-left-color: var(--fill-color);\n",
              "      border-top-color: var(--fill-color);\n",
              "      border-right-color: var(--fill-color);\n",
              "    }\n",
              "    40% {\n",
              "      border-color: transparent;\n",
              "      border-right-color: var(--fill-color);\n",
              "      border-top-color: var(--fill-color);\n",
              "    }\n",
              "    60% {\n",
              "      border-color: transparent;\n",
              "      border-right-color: var(--fill-color);\n",
              "    }\n",
              "    80% {\n",
              "      border-color: transparent;\n",
              "      border-right-color: var(--fill-color);\n",
              "      border-bottom-color: var(--fill-color);\n",
              "    }\n",
              "    90% {\n",
              "      border-color: transparent;\n",
              "      border-bottom-color: var(--fill-color);\n",
              "    }\n",
              "  }\n",
              "</style>\n",
              "\n",
              "  <script>\n",
              "    async function quickchart(key) {\n",
              "      const quickchartButtonEl =\n",
              "        document.querySelector('#' + key + ' button');\n",
              "      quickchartButtonEl.disabled = true;  // To prevent multiple clicks.\n",
              "      quickchartButtonEl.classList.add('colab-df-spinner');\n",
              "      try {\n",
              "        const charts = await google.colab.kernel.invokeFunction(\n",
              "            'suggestCharts', [key], {});\n",
              "      } catch (error) {\n",
              "        console.error('Error during call to suggestCharts:', error);\n",
              "      }\n",
              "      quickchartButtonEl.classList.remove('colab-df-spinner');\n",
              "      quickchartButtonEl.classList.add('colab-df-quickchart-complete');\n",
              "    }\n",
              "    (() => {\n",
              "      let quickchartButtonEl =\n",
              "        document.querySelector('#df-1c29cc2e-ff99-4230-a9ad-62895a61811d button');\n",
              "      quickchartButtonEl.style.display =\n",
              "        google.colab.kernel.accessAllowed ? 'block' : 'none';\n",
              "    })();\n",
              "  </script>\n",
              "</div>\n",
              "\n",
              "  <div id=\"id_a1ca6e19-8d3a-487e-b01a-a20f09569616\">\n",
              "    <style>\n",
              "      .colab-df-generate {\n",
              "        background-color: #E8F0FE;\n",
              "        border: none;\n",
              "        border-radius: 50%;\n",
              "        cursor: pointer;\n",
              "        display: none;\n",
              "        fill: #1967D2;\n",
              "        height: 32px;\n",
              "        padding: 0 0 0 0;\n",
              "        width: 32px;\n",
              "      }\n",
              "\n",
              "      .colab-df-generate:hover {\n",
              "        background-color: #E2EBFA;\n",
              "        box-shadow: 0px 1px 2px rgba(60, 64, 67, 0.3), 0px 1px 3px 1px rgba(60, 64, 67, 0.15);\n",
              "        fill: #174EA6;\n",
              "      }\n",
              "\n",
              "      [theme=dark] .colab-df-generate {\n",
              "        background-color: #3B4455;\n",
              "        fill: #D2E3FC;\n",
              "      }\n",
              "\n",
              "      [theme=dark] .colab-df-generate:hover {\n",
              "        background-color: #434B5C;\n",
              "        box-shadow: 0px 1px 3px 1px rgba(0, 0, 0, 0.15);\n",
              "        filter: drop-shadow(0px 1px 2px rgba(0, 0, 0, 0.3));\n",
              "        fill: #FFFFFF;\n",
              "      }\n",
              "    </style>\n",
              "    <button class=\"colab-df-generate\" onclick=\"generateWithVariable('df_X_test')\"\n",
              "            title=\"Generate code using this dataframe.\"\n",
              "            style=\"display:none;\">\n",
              "\n",
              "  <svg xmlns=\"http://www.w3.org/2000/svg\" height=\"24px\"viewBox=\"0 0 24 24\"\n",
              "       width=\"24px\">\n",
              "    <path d=\"M7,19H8.4L18.45,9,17,7.55,7,17.6ZM5,21V16.75L18.45,3.32a2,2,0,0,1,2.83,0l1.4,1.43a1.91,1.91,0,0,1,.58,1.4,1.91,1.91,0,0,1-.58,1.4L9.25,21ZM18.45,9,17,7.55Zm-12,3A5.31,5.31,0,0,0,4.9,8.1,5.31,5.31,0,0,0,1,6.5,5.31,5.31,0,0,0,4.9,4.9,5.31,5.31,0,0,0,6.5,1,5.31,5.31,0,0,0,8.1,4.9,5.31,5.31,0,0,0,12,6.5,5.46,5.46,0,0,0,6.5,12Z\"/>\n",
              "  </svg>\n",
              "    </button>\n",
              "    <script>\n",
              "      (() => {\n",
              "      const buttonEl =\n",
              "        document.querySelector('#id_a1ca6e19-8d3a-487e-b01a-a20f09569616 button.colab-df-generate');\n",
              "      buttonEl.style.display =\n",
              "        google.colab.kernel.accessAllowed ? 'block' : 'none';\n",
              "\n",
              "      buttonEl.onclick = () => {\n",
              "        google.colab.notebook.generateWithVariable('df_X_test');\n",
              "      }\n",
              "      })();\n",
              "    </script>\n",
              "  </div>\n",
              "\n",
              "    </div>\n",
              "  </div>\n"
            ],
            "application/vnd.google.colaboratory.intrinsic+json": {
              "type": "dataframe",
              "variable_name": "df_X_test",
              "summary": "{\n  \"name\": \"df_X_test\",\n  \"rows\": 60,\n  \"fields\": [\n    {\n      \"column\": \"age\",\n      \"properties\": {\n        \"dtype\": \"number\",\n        \"std\": 8.275346272646443,\n        \"min\": 39.0,\n        \"max\": 71.0,\n        \"num_unique_values\": 31,\n        \"samples\": [\n          47.0,\n          44.0,\n          48.0\n        ],\n        \"semantic_type\": \"\",\n        \"description\": \"\"\n      }\n    },\n    {\n      \"column\": \"sex\",\n      \"properties\": {\n        \"dtype\": \"number\",\n        \"std\": 0.4753826885415284,\n        \"min\": 0.0,\n        \"max\": 1.0,\n        \"num_unique_values\": 2,\n        \"samples\": [\n          0.0,\n          1.0\n        ],\n        \"semantic_type\": \"\",\n        \"description\": \"\"\n      }\n    },\n    {\n      \"column\": \"cp\",\n      \"properties\": {\n        \"dtype\": \"number\",\n        \"std\": 0.9707589203071647,\n        \"min\": 1.0,\n        \"max\": 4.0,\n        \"num_unique_values\": 4,\n        \"samples\": [\n          1.0,\n          2.0\n        ],\n        \"semantic_type\": \"\",\n        \"description\": \"\"\n      }\n    },\n    {\n      \"column\": \"trestbps\",\n      \"properties\": {\n        \"dtype\": \"number\",\n        \"std\": 15.360415778270974,\n        \"min\": 94.0,\n        \"max\": 160.0,\n        \"num_unique_values\": 24,\n        \"samples\": [\n          138.0,\n          115.0\n        ],\n        \"semantic_type\": \"\",\n        \"description\": \"\"\n      }\n    },\n    {\n      \"column\": \"chol\",\n      \"properties\": {\n        \"dtype\": \"number\",\n        \"std\": 64.99586036361684,\n        \"min\": 126.0,\n        \"max\": 564.0,\n        \"num_unique_values\": 52,\n        \"samples\": [\n          309.0,\n          275.0\n        ],\n        \"semantic_type\": \"\",\n        \"description\": \"\"\n      }\n    },\n    {\n      \"column\": \"fbs\",\n      \"properties\": {\n        \"dtype\": \"number\",\n        \"std\": 0.30253169045376643,\n        \"min\": 0.0,\n        \"max\": 1.0,\n        \"num_unique_values\": 2,\n        \"samples\": [\n          1.0,\n          0.0\n        ],\n        \"semantic_type\": \"\",\n        \"description\": \"\"\n      }\n    },\n    {\n      \"column\": \"restecg\",\n      \"properties\": {\n        \"dtype\": \"number\",\n        \"std\": 1.0033841044270877,\n        \"min\": 0.0,\n        \"max\": 2.0,\n        \"num_unique_values\": 2,\n        \"samples\": [\n          0.0,\n          2.0\n        ],\n        \"semantic_type\": \"\",\n        \"description\": \"\"\n      }\n    },\n    {\n      \"column\": \"thalach\",\n      \"properties\": {\n        \"dtype\": \"number\",\n        \"std\": 24.589390712118515,\n        \"min\": 88.0,\n        \"max\": 190.0,\n        \"num_unique_values\": 41,\n        \"samples\": [\n          179.0,\n          171.0\n        ],\n        \"semantic_type\": \"\",\n        \"description\": \"\"\n      }\n    },\n    {\n      \"column\": \"exang\",\n      \"properties\": {\n        \"dtype\": \"number\",\n        \"std\": 0.48099473199130766,\n        \"min\": 0.0,\n        \"max\": 1.0,\n        \"num_unique_values\": 2,\n        \"samples\": [\n          1.0,\n          0.0\n        ],\n        \"semantic_type\": \"\",\n        \"description\": \"\"\n      }\n    },\n    {\n      \"column\": \"oldpeak\",\n      \"properties\": {\n        \"dtype\": \"number\",\n        \"std\": 1.0283880205953173,\n        \"min\": 0.0,\n        \"max\": 3.6,\n        \"num_unique_values\": 22,\n        \"samples\": [\n          0.4,\n          2.8\n        ],\n        \"semantic_type\": \"\",\n        \"description\": \"\"\n      }\n    },\n    {\n      \"column\": \"slope\",\n      \"properties\": {\n        \"dtype\": \"number\",\n        \"std\": 0.605763280945926,\n        \"min\": 1.0,\n        \"max\": 3.0,\n        \"num_unique_values\": 3,\n        \"samples\": [\n          2.0,\n          1.0\n        ],\n        \"semantic_type\": \"\",\n        \"description\": \"\"\n      }\n    },\n    {\n      \"column\": \"ca\",\n      \"properties\": {\n        \"dtype\": \"number\",\n        \"std\": 1.021796357700579,\n        \"min\": 0.0,\n        \"max\": 3.0,\n        \"num_unique_values\": 4,\n        \"samples\": [\n          2.0,\n          3.0\n        ],\n        \"semantic_type\": \"\",\n        \"description\": \"\"\n      }\n    },\n    {\n      \"column\": \"thal\",\n      \"properties\": {\n        \"dtype\": \"number\",\n        \"std\": 1.9206725516983516,\n        \"min\": 3.0,\n        \"max\": 7.0,\n        \"num_unique_values\": 3,\n        \"samples\": [\n          7.0,\n          3.0\n        ],\n        \"semantic_type\": \"\",\n        \"description\": \"\"\n      }\n    }\n  ]\n}"
            }
          },
          "metadata": {},
          "execution_count": 166
        }
      ],
      "source": [
        "# Creating dataframe from X_test data\n",
        "df_X_test = pd.DataFrame(X_test, columns=columns_names)\n",
        "df_X_test"
      ]
    },
    {
      "cell_type": "markdown",
      "metadata": {
        "id": "w4Li3B-1TUYY"
      },
      "source": [
        "Now we will configure the cross validation folds. We would like to test three different approaches for splitting our dataset during training, but we didn't have available time to do so. We will emphasize this desire in the Future Works section. That said, all cross validation will be performed considering 10 folds, which will result in each fold to having approximately 23 rows. We expect this to yield satisfactory results in our evaluation. Here we will also set `shuffle=True` in order to avoid bias and overfitting in our results due to data ordering."
      ]
    },
    {
      "cell_type": "code",
      "execution_count": 167,
      "metadata": {
        "id": "mAJjwcopmjKh"
      },
      "outputs": [],
      "source": [
        "three_folds = StratifiedKFold(n_splits=3,  shuffle=True, random_state=seed)\n",
        "five_folds  = StratifiedKFold(n_splits=5,  shuffle=True, random_state=seed)\n",
        "ten_folds   = StratifiedKFold(n_splits=10, shuffle=True, random_state=seed)"
      ]
    },
    {
      "cell_type": "code",
      "execution_count": 168,
      "metadata": {
        "id": "9evA87XtrNyU"
      },
      "outputs": [],
      "source": [
        "# TO BE DELETED\n",
        "# baggingEstimator = DecisionTreeClassifier()\n",
        "\n",
        "\n",
        "# bases = [\n",
        "#     ('Logistic', LogisticRegression(max_iter=max_iter)),\n",
        "#     ('CART', DecisionTreeClassifier()),\n",
        "#     ('SVM', SVC())\n",
        "# ]\n",
        "\n",
        "\n",
        "# models = [\n",
        "#     ('LR', LogisticRegression(max_iter=max_iter)),\n",
        "#     ('KNN', KNeighborsClassifier()),\n",
        "#     ('CART', DecisionTreeClassifier()),\n",
        "#     ('NB', GaussianNB()),\n",
        "#     ('SVM', SVC()),\n",
        "#     ('Bagging', BaggingClassifier(estimator=baggingEstimator, n_estimators=num_trees)),\n",
        "#     ('RF', RandomForestClassifier(n_estimators=num_trees, max_features=max_features)),\n",
        "#     ('ET', ExtraTreesClassifier(n_estimators=num_trees, max_features=max_features)),\n",
        "#     ('Ada', AdaBoostClassifier(n_estimators=num_trees)),\n",
        "#     ('GB', GradientBoostingClassifier(n_estimators=num_trees)),\n",
        "#     ('Voting', VotingClassifier(bases))\n",
        "# ]"
      ]
    },
    {
      "cell_type": "code",
      "execution_count": 169,
      "metadata": {
        "id": "mDf8FuKcGFuW"
      },
      "outputs": [],
      "source": [
        "# TO BE DELETED\n",
        "# scoring = 'recall'\n",
        "# names, results = cross_val_score_execution(models, X_train, y_train, ten_folds, scoring)"
      ]
    },
    {
      "cell_type": "code",
      "execution_count": 170,
      "metadata": {
        "id": "xH7Om7siwIh7"
      },
      "outputs": [],
      "source": [
        "# TO BE DELETED\n",
        "# eval_metric_mean_std_plot(results, names)"
      ]
    },
    {
      "cell_type": "markdown",
      "metadata": {
        "id": "tQOCeq3Xwwcy"
      },
      "source": [
        "#4. Modeling and Training"
      ]
    },
    {
      "cell_type": "markdown",
      "metadata": {
        "id": "P4vluObEjyqK"
      },
      "source": [
        "In this section we will train our models using several approaches, like training the models with the original, standardized and normalized dataset. We will also perform three diferent feature selection techniques: the univariation feature selection using ANOVA F-value test; recursive feature elimination using as estimators the logistic regression, support vector machine and random forest; feature importance using as estimator the extra trees classifier, random forest classifier, gradient boost classifier and decision tree classifier. All feature selection techniques will be performed for 4, 7 and 10 selected features. Finally, we will perform a hyper parameter optimization in the five best models of each previous approach."
      ]
    },
    {
      "cell_type": "markdown",
      "metadata": {
        "id": "uIIPK3-Eo7gV"
      },
      "source": [
        "First of all, in the cell below, we instantiate the algorithm estimators, ensambles, transformers that will be applied to dataset and the pipelines that we will be used to apply the dataset transformations. We will use pipelines to standardize and normalize the dataset in order to avoid data leackage, which could lead our models to have some bias and a possbile overfitting."
      ]
    },
    {
      "cell_type": "code",
      "execution_count": 171,
      "metadata": {
        "id": "jwQGeXHuTpHz"
      },
      "outputs": [],
      "source": [
        "# Defining random seed\n",
        "np.random.seed(seed)\n",
        "\n",
        "# Algorithms tuples\n",
        "svm         = ('SVM',  SVC())\n",
        "knn         = ('KNN',  KNeighborsClassifier())\n",
        "cart        = ('CART', DecisionTreeClassifier())\n",
        "reg_log     = ('LR',   LogisticRegression(max_iter=max_iter))\n",
        "naive_bayes = ('NB',   GaussianNB())\n",
        "\n",
        "# Ensambles classifiers\n",
        "baggingEstimator = DecisionTreeClassifier()\n",
        "bases = [\n",
        "    ('Logistic', LogisticRegression(max_iter=max_iter)),\n",
        "    ('CART',     DecisionTreeClassifier()),\n",
        "    ('SVM',      SVC())\n",
        "]\n",
        "\n",
        "# Ensambles tuples\n",
        "voting            = ('Voting', VotingClassifier(bases))\n",
        "adaboost          = ('Ada',    AdaBoostClassifier(n_estimators=num_trees))\n",
        "gradient_boosting = ('GB',     GradientBoostingClassifier(n_estimators=num_trees))\n",
        "bagging           = ('Bag',    BaggingClassifier(estimator=baggingEstimator, n_estimators=num_trees))\n",
        "extra_trees       = ('ET',     ExtraTreesClassifier(n_estimators=num_trees, max_features=max_features))\n",
        "random_forest     = ('RF',     RandomForestClassifier(n_estimators=num_trees, max_features=max_features))\n",
        "\n",
        "# Transformers tuples\n",
        "standard_scaler = ('StandardScaler', StandardScaler())\n",
        "min_max_scaler  = ('MinMaxScaler', MinMaxScaler())\n",
        "\n",
        "# Building pipelines\n",
        "pipelines = []\n",
        "# Original dataset\n",
        "pipelines.append(('LR-orig',   Pipeline([reg_log])))\n",
        "pipelines.append(('KNN-orig',  Pipeline([knn])))\n",
        "pipelines.append(('CART-orig', Pipeline([cart])))\n",
        "pipelines.append(('NB-orig',   Pipeline([naive_bayes])))\n",
        "pipelines.append(('SVM-orig',  Pipeline([svm])))\n",
        "pipelines.append(('Bag-orig',  Pipeline([bagging])))\n",
        "pipelines.append(('RF-orig',   Pipeline([random_forest])))\n",
        "pipelines.append(('ET-orig',   Pipeline([extra_trees])))\n",
        "pipelines.append(('Ada-orig',  Pipeline([adaboost])))\n",
        "pipelines.append(('GB-orig',   Pipeline([gradient_boosting])))\n",
        "pipelines.append(('Vot-orig',  Pipeline([voting])))\n",
        "\n",
        "# Standardized dataset\n",
        "pipelines.append(('LR-padr',   Pipeline([standard_scaler, reg_log])))\n",
        "pipelines.append(('KNN-padr',  Pipeline([standard_scaler, knn])))\n",
        "pipelines.append(('CART-padr', Pipeline([standard_scaler, cart])))\n",
        "pipelines.append(('NB-padr',   Pipeline([standard_scaler, naive_bayes])))\n",
        "pipelines.append(('SVM-padr',  Pipeline([standard_scaler, svm])))\n",
        "pipelines.append(('Bag-padr',  Pipeline([standard_scaler, bagging])))\n",
        "pipelines.append(('RF-padr',   Pipeline([standard_scaler, random_forest])))\n",
        "pipelines.append(('ET-padr',   Pipeline([standard_scaler, extra_trees])))\n",
        "pipelines.append(('Ada-padr',  Pipeline([standard_scaler, adaboost])))\n",
        "pipelines.append(('GB-padr',   Pipeline([standard_scaler, gradient_boosting])))\n",
        "pipelines.append(('Vot-padr',  Pipeline([standard_scaler, voting])))\n",
        "\n",
        "# Normalized dataset\n",
        "pipelines.append(('LR-norm',   Pipeline([min_max_scaler, reg_log])))\n",
        "pipelines.append(('KNN-norm',  Pipeline([min_max_scaler, knn])))\n",
        "pipelines.append(('CART-norm', Pipeline([min_max_scaler, cart])))\n",
        "pipelines.append(('NB-norm',   Pipeline([min_max_scaler, naive_bayes])))\n",
        "pipelines.append(('SVM-norm',  Pipeline([min_max_scaler, svm])))\n",
        "pipelines.append(('Bag-norm',  Pipeline([min_max_scaler, bagging])))\n",
        "pipelines.append(('RF-norm',   Pipeline([min_max_scaler, random_forest])))\n",
        "pipelines.append(('ET-norm',   Pipeline([min_max_scaler, extra_trees])))\n",
        "pipelines.append(('Ada-norm',  Pipeline([min_max_scaler, adaboost])))\n",
        "pipelines.append(('GB-norm',   Pipeline([min_max_scaler, gradient_boosting])))\n",
        "pipelines.append(('Vot-norm',  Pipeline([min_max_scaler, voting])))"
      ]
    },
    {
      "cell_type": "markdown",
      "metadata": {
        "id": "IwiBxAWK1Lmh"
      },
      "source": [
        "Now that we instantieated all the algorithms, transformers and created the pipelines that we need, we can proceed to the models trainings. We weill use our `cross_val_score_execution` function to execute the cross validation. The training results are stored in `pip_names` and `pip_results` variables for further analysis."
      ]
    },
    {
      "cell_type": "code",
      "execution_count": null,
      "metadata": {
        "id": "uVz3Cvnbke-d"
      },
      "outputs": [],
      "source": [
        "pip_names, pip_results = cross_val_score_execution(pipelines, X_train, y_train, ten_folds, scoring)"
      ]
    },
    {
      "cell_type": "code",
      "execution_count": null,
      "metadata": {
        "id": "87S_a8GewbOo"
      },
      "outputs": [],
      "source": [
        "# eval_metric_mean_std_plot(pip_results, pip_names)"
      ]
    },
    {
      "cell_type": "markdown",
      "metadata": {
        "id": "bU5l94L4oxL7"
      },
      "source": [
        "##4.1 Feature Selection"
      ]
    },
    {
      "cell_type": "markdown",
      "metadata": {
        "id": "tPfBZx_S599K"
      },
      "source": [
        "In this section we will perform the following feature selection processes, each one of them by selecting 4, 7 and 10 features:\n",
        "* Univariate feature selection using ANOVA F-value test\n",
        "* Recursive feature elimination with the following estimators\n",
        "  * Logistic regression\n",
        "  * Support machine vectors\n",
        "  * Random forest\n",
        "* Feature importances with the following estimators\n",
        "  * Extra trees\n",
        "  * Random forest\n",
        "  * Gradient boost\n",
        "  * Decision tree"
      ]
    },
    {
      "cell_type": "markdown",
      "metadata": {
        "id": "4mjxZhpj-dDV"
      },
      "source": [
        "In order to make the code more clean, we performed some tests in each feature selection approach, regarding to the selection of 4, 7 and 10 features, and we had confirmed that the first 4 selected features are present in the list of 7 selected features of the same feature selectin algorithm. Aswell as the first 7 features selected are present in the 10 feature selected of the same algorithm. That said, our solution for a cleaner code is to create a list of 10 selected features, where the first 4 selected features are the 4 features selected by the algorithm an so on."
      ]
    },
    {
      "cell_type": "markdown",
      "metadata": {
        "id": "o6wudB64TJ7R"
      },
      "source": [
        "###4.1.1 Univariate Feature Selection using ANOVA F-value Test"
      ]
    },
    {
      "cell_type": "code",
      "execution_count": null,
      "metadata": {
        "id": "m6mpWRmvi_Sq"
      },
      "outputs": [],
      "source": [
        "# Running score function\n",
        "best_var = SelectKBest()\n",
        "fit = best_var.fit(X_train ,y_train)\n",
        "\n",
        "# Reducing X to the selected features\n",
        "features = fit.transform(X_train)\n",
        "\n",
        "# Creating a list of tuples (feature_name, feature_score)\n",
        "feature_score_list = list(zip(df_heart_disease.columns.to_list(), fit.scores_))\n",
        "\n",
        "# Sorting the list of tuples by feature_score in descending order\n",
        "feature_score_sorted = sorted(feature_score_list, key=lambda x: x[1], reverse=True)\n",
        "\n",
        "# Getting a list with just the sorted features names\n",
        "kbst_feature_names_sorted = [t[0] for t in feature_score_sorted]\n",
        "\n",
        "print(kbst_feature_names_sorted)"
      ]
    },
    {
      "cell_type": "markdown",
      "metadata": {
        "id": "vceLTRz_aN0V"
      },
      "source": [
        "The cell's result above shows the fetures selected by univariate feature selection using ANOVA F-value test. In the cell below we train all the models considering the four best features, the seven best features and the ten best features."
      ]
    },
    {
      "cell_type": "code",
      "execution_count": null,
      "metadata": {
        "id": "qKO5KYcTjnLB"
      },
      "outputs": [],
      "source": [
        "# Defining random seed\n",
        "np.random.seed(seed)\n",
        "\n",
        "# Training the models with the 4, 7 and 10 selected features\n",
        "kbst_pip_names_4, kbst_pip_results_4, kbst_pip_names_7, kbst_pip_results_7, kbst_pip_names_10, kbst_pip_results_10 = cross_validation_with_selected_features(pipelines, df_X_train, y_train, kbst_feature_names_sorted, ten_folds, scoring)"
      ]
    },
    {
      "cell_type": "markdown",
      "metadata": {
        "id": "sv0ntgZyyNsi"
      },
      "source": [
        "####TO BE DELETED"
      ]
    },
    {
      "cell_type": "code",
      "execution_count": null,
      "metadata": {
        "id": "jZ3CQOrqRxk0"
      },
      "outputs": [],
      "source": [
        "# TO BE DELETED\n",
        "# print(kbst_feature_names_sorted[0:4])\n",
        "# eval_metric_mean_std_plot(kbst_pip_results_4,  kbst_pip_names_4)"
      ]
    },
    {
      "cell_type": "code",
      "execution_count": null,
      "metadata": {
        "id": "XQcjhQkgR5M2"
      },
      "outputs": [],
      "source": [
        "# TO BE DELETED\n",
        "# eval_metric_mean_std_plot(kbst_pip_results_7,  kbst_pip_names_7)"
      ]
    },
    {
      "cell_type": "code",
      "execution_count": null,
      "metadata": {
        "id": "aZVMGddzR6fj"
      },
      "outputs": [],
      "source": [
        "# TO BE DELETED\n",
        "# eval_metric_mean_std_plot(kbst_pip_results_10, kbst_pip_names_10)"
      ]
    },
    {
      "cell_type": "markdown",
      "metadata": {
        "id": "jPQQDz7gfunk"
      },
      "source": [
        "###4.1.2 Recursive Feature Elimination"
      ]
    },
    {
      "cell_type": "markdown",
      "metadata": {
        "id": "j-X2xy2xphZ3"
      },
      "source": [
        "The code comments in the logistic regression estimator cell are applicable for the support machine vectors cell and random forest cell. In order to achieve a cleaner code, we will keep the comments just in the logistic regression estimator, but keep in mind that the logic for other estimators is the same."
      ]
    },
    {
      "cell_type": "markdown",
      "metadata": {
        "id": "otxdxraMoNu2"
      },
      "source": [
        "####4.1.2.1 Logistic Regression Estimator"
      ]
    },
    {
      "cell_type": "code",
      "execution_count": null,
      "metadata": {
        "id": "gCQ5C4A7f0vU"
      },
      "outputs": [],
      "source": [
        "# Recursive feature elimination using logistic regression for 4 features\n",
        "rfe_4_lr = RFE(LogisticRegression(max_iter=max_iter), n_features_to_select=4)\n",
        "fit_4_lr = rfe_4_lr.fit(X_train,y_train)\n",
        "\n",
        "# Recursive feature elimination using logistic regression for 7 features\n",
        "rfe_7_lr = RFE(LogisticRegression(max_iter=max_iter), n_features_to_select=7)\n",
        "fit_7_lr = rfe_7_lr.fit(X_train,y_train)\n",
        "\n",
        "# Recursive feature elimination using logistic regression for 10 features\n",
        "rfe_10_lr = RFE(LogisticRegression(max_iter=max_iter), n_features_to_select=10)\n",
        "fit_10_lr = rfe_10_lr.fit(X_train,y_train)\n",
        "\n",
        "# Getting the 4 faetures selected as list\n",
        "rfe_features_names_lr = fit_4_lr.get_feature_names_out(input_features=df_heart_disease.columns[0:13])\n",
        "\n",
        "# Iterating over the 7 faetures selected and, if it isn't already in the features list, append it to the list\n",
        "for att in fit_7_lr.get_feature_names_out(input_features=df_heart_disease.columns[0:13]):\n",
        "  if att not in rfe_features_names_lr:\n",
        "    rfe_features_names_lr = np.append(rfe_features_names_lr, att)\n",
        "\n",
        "# Iterating over the 10 faetures selected and, if it isn't already in the features list, append it to the list\n",
        "for att in fit_10_lr.get_feature_names_out(input_features=df_heart_disease.columns[0:13]):\n",
        "  if att not in rfe_features_names_lr:\n",
        "    rfe_features_names_lr = np.append(rfe_features_names_lr, att)\n",
        "\n",
        "print(rfe_features_names_lr)"
      ]
    },
    {
      "cell_type": "markdown",
      "metadata": {
        "id": "L2LjV1U_nmUH"
      },
      "source": [
        "The cell's result above shows the fetures selected by recursive feature elimination using logistic regression as estimator. In the cell below we train all the models considering the four best features, the seven best features and the ten best features."
      ]
    },
    {
      "cell_type": "code",
      "execution_count": null,
      "metadata": {
        "id": "ZCTNPjTm8Ind"
      },
      "outputs": [],
      "source": [
        "# Defining random seed\n",
        "np.random.seed(seed)\n",
        "\n",
        "# Training the models with the 4, 7 and 10 selected features\n",
        "rfe_pip_names_4_lr, rfe_pip_results_4_lr, rfe_pip_names_7_lr, rfe_pip_results_7_lr, rfe_pip_names_10_lr, rfe_pip_results_10_lr = cross_validation_with_selected_features(pipelines, df_X_train, y_train, rfe_features_names_lr, ten_folds, scoring)"
      ]
    },
    {
      "cell_type": "markdown",
      "metadata": {
        "id": "_cqMqosuyesc"
      },
      "source": [
        "####TO BE DELETED"
      ]
    },
    {
      "cell_type": "code",
      "execution_count": null,
      "metadata": {
        "id": "dPRlK8Oz8Qv-"
      },
      "outputs": [],
      "source": [
        "# eval_metric_mean_std_plot(rfe_pip_results_4_lr, rfe_pip_names_4_lr)"
      ]
    },
    {
      "cell_type": "code",
      "execution_count": null,
      "metadata": {
        "id": "jnEEKFL78VDc"
      },
      "outputs": [],
      "source": [
        "# eval_metric_mean_std_plot(rfe_pip_results_7_lr, rfe_pip_names_7_lr)"
      ]
    },
    {
      "cell_type": "code",
      "execution_count": null,
      "metadata": {
        "id": "VevHr9Tm8WsI"
      },
      "outputs": [],
      "source": [
        "# eval_metric_mean_std_plot(rfe_pip_results_10_lr, rfe_pip_names_10_lr)"
      ]
    },
    {
      "cell_type": "markdown",
      "metadata": {
        "id": "Dnlq-kMDoUBz"
      },
      "source": [
        "####4.1.2.2 SVM Estimator"
      ]
    },
    {
      "cell_type": "code",
      "execution_count": null,
      "metadata": {
        "id": "WaZGfQLoXgTx"
      },
      "outputs": [],
      "source": [
        "rfe_4_svm = RFE(SVC(kernel='linear'), n_features_to_select=4)\n",
        "fit_4_svm = rfe_4_svm.fit(X_train,y_train)\n",
        "\n",
        "rfe_7_svm = RFE(SVC(kernel='linear'), n_features_to_select=7)\n",
        "fit_7_svm = rfe_7_svm.fit(X_train,y_train)\n",
        "\n",
        "rfe_10_svm = RFE(SVC(kernel='linear'), n_features_to_select=10)\n",
        "fit_10_svm = rfe_10_svm.fit(X_train,y_train)\n",
        "\n",
        "rfe_features_names_svm = fit_4_svm.get_feature_names_out(input_features=df_heart_disease.columns[0:13])\n",
        "\n",
        "for att in fit_7_svm.get_feature_names_out(input_features=df_heart_disease.columns[0:13]):\n",
        "  if att not in rfe_features_names_svm:\n",
        "    rfe_features_names_svm = np.append(rfe_features_names_svm, att)\n",
        "\n",
        "for att in fit_10_svm.get_feature_names_out(input_features=df_heart_disease.columns[0:13]):\n",
        "  if att not in rfe_features_names_svm:\n",
        "    rfe_features_names_svm = np.append(rfe_features_names_svm, att)\n",
        "\n",
        "print(rfe_features_names_svm)"
      ]
    },
    {
      "cell_type": "markdown",
      "metadata": {
        "id": "8HkHtRGCn63n"
      },
      "source": [
        "The cell's result above shows the fetures selected by recursive feature elimination using support machine vectors as estimator. In the cell below we train all the models considering the four best features, the seven best features and the ten best features."
      ]
    },
    {
      "cell_type": "code",
      "execution_count": null,
      "metadata": {
        "id": "kjNg63uB9USn"
      },
      "outputs": [],
      "source": [
        "np.random.seed(seed)\n",
        "rfe_pip_names_4_svm, rfe_pip_results_4_svm, rfe_pip_names_7_svm, rfe_pip_results_7_svm, rfe_pip_names_10_svm, rfe_pip_results_10_svm = cross_validation_with_selected_features(pipelines, df_X_train, y_train, rfe_features_names_svm, ten_folds, scoring)"
      ]
    },
    {
      "cell_type": "markdown",
      "metadata": {
        "id": "_4QUjEh1yrIv"
      },
      "source": [
        "####TO BE DELETED"
      ]
    },
    {
      "cell_type": "code",
      "execution_count": null,
      "metadata": {
        "id": "JMfSI8399Vxm"
      },
      "outputs": [],
      "source": [
        "# eval_metric_mean_std_plot(rfe_pip_results_4_svm, rfe_pip_names_4_svm)"
      ]
    },
    {
      "cell_type": "code",
      "execution_count": null,
      "metadata": {
        "id": "HB29SuNS9XOv"
      },
      "outputs": [],
      "source": [
        "# eval_metric_mean_std_plot(rfe_pip_results_7_svm, rfe_pip_names_7_svm)"
      ]
    },
    {
      "cell_type": "code",
      "execution_count": null,
      "metadata": {
        "id": "6hum3PvG9Ye7"
      },
      "outputs": [],
      "source": [
        "# eval_metric_mean_std_plot(rfe_pip_results_10_svm, rfe_pip_names_10_svm)"
      ]
    },
    {
      "cell_type": "markdown",
      "metadata": {
        "id": "69Zr7GW6oWnC"
      },
      "source": [
        "####4.1.2.3 Random Forest Estimator"
      ]
    },
    {
      "cell_type": "code",
      "execution_count": null,
      "metadata": {
        "id": "mqWdGeed4g0Q"
      },
      "outputs": [],
      "source": [
        "rfe_4_rf = RFE(RandomForestClassifier(), n_features_to_select=4)\n",
        "fit_4_rf = rfe_4_rf.fit(X_train,y_train)\n",
        "\n",
        "rfe_7_rf = RFE(RandomForestClassifier(), n_features_to_select=7)\n",
        "fit_7_rf = rfe_7_rf.fit(X_train,y_train)\n",
        "\n",
        "rfe_10_rf = RFE(RandomForestClassifier(), n_features_to_select=10)\n",
        "fit_10_rf = rfe_10_rf.fit(X_train,y_train)\n",
        "\n",
        "rfe_features_names_rf = fit_4_rf.get_feature_names_out(input_features=df_heart_disease.columns[0:13])\n",
        "\n",
        "for att in fit_7_rf.get_feature_names_out(input_features=df_heart_disease.columns[0:13]):\n",
        "  if att not in rfe_features_names_rf:\n",
        "    rfe_features_names_rf = np.append(rfe_features_names_rf, att)\n",
        "\n",
        "for att in fit_10_rf.get_feature_names_out(input_features=df_heart_disease.columns[0:13]):\n",
        "  if att not in rfe_features_names_rf:\n",
        "    rfe_features_names_rf = np.append(rfe_features_names_rf, att)\n",
        "\n",
        "print(rfe_features_names_rf)"
      ]
    },
    {
      "cell_type": "markdown",
      "metadata": {
        "id": "evYV8i1LoIGJ"
      },
      "source": [
        "The cell's result above shows the fetures selected by recursive feature elimination using random forest as estimator. In the cell below we train all the models considering the four best features, the seven best features and the ten best features."
      ]
    },
    {
      "cell_type": "code",
      "execution_count": null,
      "metadata": {
        "colab": {
          "background_save": true
        },
        "id": "vDsmMlQ59jDH"
      },
      "outputs": [],
      "source": [
        "np.random.seed(seed)\n",
        "rfe_pip_names_4_rf, rfe_pip_results_4_rf, rfe_pip_names_7_rf, rfe_pip_results_7_rf, rfe_pip_names_10_rf, rfe_pip_results_10_rf = cross_validation_with_selected_features(pipelines, df_X_train, y_train, rfe_features_names_rf, ten_folds, scoring)"
      ]
    },
    {
      "cell_type": "markdown",
      "metadata": {
        "id": "G6DQ_lauyx7p"
      },
      "source": [
        "####TO BE DELETED"
      ]
    },
    {
      "cell_type": "code",
      "execution_count": null,
      "metadata": {
        "colab": {
          "background_save": true
        },
        "id": "jtnSyoI59kqj"
      },
      "outputs": [],
      "source": [
        "# eval_metric_mean_std_plot(rfe_pip_results_4_rf, rfe_pip_names_4_rf)"
      ]
    },
    {
      "cell_type": "code",
      "execution_count": null,
      "metadata": {
        "colab": {
          "background_save": true
        },
        "id": "LiIYOvMt9l-F"
      },
      "outputs": [],
      "source": [
        "# eval_metric_mean_std_plot(rfe_pip_results_7_rf, rfe_pip_names_7_rf)"
      ]
    },
    {
      "cell_type": "code",
      "execution_count": null,
      "metadata": {
        "colab": {
          "background_save": true
        },
        "id": "V-s455yP9nZA"
      },
      "outputs": [],
      "source": [
        "# eval_metric_mean_std_plot(rfe_pip_results_10_rf, rfe_pip_names_10_rf)"
      ]
    },
    {
      "cell_type": "markdown",
      "metadata": {
        "id": "LpHtKYiqo6Sy"
      },
      "source": [
        "###4.1.3 Attribute Importace"
      ]
    },
    {
      "cell_type": "markdown",
      "metadata": {
        "id": "Ws1fiKc12Of5"
      },
      "source": [
        "Similar to recursive feature elimination, the code comments in the extra trees estimator cell are applicable for the random forest cell, gradient boost cell and decision tree cell. In order to achieve a cleaner code, we will keep the comments just in the extra tree estimator, but keep in mind that the logic for other estimators is the same."
      ]
    },
    {
      "cell_type": "markdown",
      "metadata": {
        "id": "UIcCxi84qwal"
      },
      "source": [
        "####4.1.3.1 Extra Trees Classifier"
      ]
    },
    {
      "cell_type": "code",
      "execution_count": null,
      "metadata": {
        "colab": {
          "background_save": true
        },
        "id": "joZ4gi18rAO2"
      },
      "outputs": [],
      "source": [
        "# Defining and training the estimator\n",
        "et_feature_importances = ExtraTreesClassifier(n_estimators=num_trees, max_features=max_features)\n",
        "et_feature_importances = et_feature_importances.fit(X_train, y_train)\n",
        "\n",
        "# Getting the features names sorted by importance\n",
        "ai_names_sorted_et = get_features_name_sorted_from_feature_importances(df_X_train, et_feature_importances)\n",
        "print(ai_names_sorted_et)"
      ]
    },
    {
      "cell_type": "markdown",
      "metadata": {
        "id": "F1iBJRom4tQY"
      },
      "source": [
        "The cell's result above shows the fetures selected by attribute importance using extra trees as estimator. In the cell below we train all the models considering the four best features, the seven best features and the ten best features."
      ]
    },
    {
      "cell_type": "code",
      "execution_count": null,
      "metadata": {
        "colab": {
          "background_save": true
        },
        "id": "QlKLTe_ZrHhF"
      },
      "outputs": [],
      "source": [
        "# Defining random seed\n",
        "np.random.seed(seed)\n",
        "\n",
        "# Training the models with the 4, 7 and 10 selected features\n",
        "ai_pip_names_4_et, ai_pip_results_4_et, ai_pip_names_7_et, ai_pip_results_7_et, ai_pip_names_10_et, ai_pip_results_10_et = cross_validation_with_selected_features(pipelines, df_X_train, y_train, ai_names_sorted_et, ten_folds, scoring)"
      ]
    },
    {
      "cell_type": "markdown",
      "metadata": {
        "id": "YdyfjtqDq0XW"
      },
      "source": [
        "####4.1.3.2 Random Forest Classifier"
      ]
    },
    {
      "cell_type": "code",
      "execution_count": null,
      "metadata": {
        "colab": {
          "background_save": true
        },
        "id": "u_9bnQ4irAg8"
      },
      "outputs": [],
      "source": [
        "rf_feature_importances = RandomForestClassifier(n_estimators=num_trees, max_features=max_features)\n",
        "rf_feature_importances = rf_feature_importances.fit(X_train, y_train)\n",
        "\n",
        "ai_names_sorted_rf = get_features_name_sorted_from_feature_importances(df_X_train, rf_feature_importances)\n",
        "print(ai_names_sorted_rf)"
      ]
    },
    {
      "cell_type": "markdown",
      "metadata": {
        "id": "05RlV6Se5psz"
      },
      "source": [
        "The cell's result above shows the fetures selected by attribute importance using random forest as estimator. In the cell below we train all the models considering the four best features, the seven best features and the ten best features."
      ]
    },
    {
      "cell_type": "code",
      "execution_count": null,
      "metadata": {
        "colab": {
          "background_save": true
        },
        "id": "rcHLJm7TrdrY"
      },
      "outputs": [],
      "source": [
        "np.random.seed(seed)\n",
        "ai_pip_names_4_rf, ai_pip_results_4_rf, ai_pip_names_7_rf, ai_pip_results_7_rf, ai_pip_names_10_rf, ai_pip_results_10_rf = cross_validation_with_selected_features(pipelines, df_X_train, y_train, ai_names_sorted_rf, ten_folds, scoring)"
      ]
    },
    {
      "cell_type": "markdown",
      "metadata": {
        "id": "GuSERcVjq347"
      },
      "source": [
        "####4.1.3.3 Gradient Boost Classifier"
      ]
    },
    {
      "cell_type": "code",
      "execution_count": null,
      "metadata": {
        "colab": {
          "background_save": true
        },
        "id": "7cLGATm7rA_U"
      },
      "outputs": [],
      "source": [
        "gb_feature_importances = GradientBoostingClassifier(n_estimators=num_trees)\n",
        "gb_feature_importances = gb_feature_importances.fit(X_train, y_train)\n",
        "\n",
        "ai_names_sorted_gb = get_features_name_sorted_from_feature_importances(df_X_train, gb_feature_importances)\n",
        "print(ai_names_sorted_gb)"
      ]
    },
    {
      "cell_type": "markdown",
      "metadata": {
        "id": "Gv1w3dqu6PrA"
      },
      "source": [
        "The cell's result above shows the fetures selected by attribute importance using gradient boost as estimator. In the cell below we train all the models considering the four best features, the seven best features and the ten best features."
      ]
    },
    {
      "cell_type": "code",
      "execution_count": null,
      "metadata": {
        "id": "KbP_UQv1r7IA"
      },
      "outputs": [],
      "source": [
        "np.random.seed(seed)\n",
        "ai_pip_names_4_gb, ai_pip_results_4_gb, ai_pip_names_7_gb, ai_pip_results_7_gb, ai_pip_names_10_gb, ai_pip_results_10_gb = cross_validation_with_selected_features(pipelines, df_X_train, y_train, ai_names_sorted_gb, ten_folds, scoring)"
      ]
    },
    {
      "cell_type": "markdown",
      "metadata": {
        "id": "qS1_3-cAq70a"
      },
      "source": [
        "####4.1.3.4 Decision Tree Classifier"
      ]
    },
    {
      "cell_type": "code",
      "execution_count": null,
      "metadata": {
        "id": "b30DuhqHsNGn"
      },
      "outputs": [],
      "source": [
        "dt_feature_importances = DecisionTreeClassifier()\n",
        "dt_feature_importances = dt_feature_importances.fit(X_train, y_train)\n",
        "\n",
        "ai_names_sorted_dt = get_features_name_sorted_from_feature_importances(df_X_train, dt_feature_importances)\n",
        "print(ai_names_sorted_dt)"
      ]
    },
    {
      "cell_type": "markdown",
      "metadata": {
        "id": "ZcOKYKth6Vek"
      },
      "source": [
        "The cell's result above shows the fetures selected by attribute importance using descision tree as estimator. In the cell below we train all the models considering the four best features, the seven best features and the ten best features."
      ]
    },
    {
      "cell_type": "code",
      "execution_count": null,
      "metadata": {
        "id": "EQrhtXxIsAMN"
      },
      "outputs": [],
      "source": [
        "np.random.seed(seed)\n",
        "ai_pip_names_4_dt, ai_pip_results_4_dt, ai_pip_names_7_dt, ai_pip_results_7_dt, ai_pip_names_10_dt, ai_pip_results_10_dt = cross_validation_with_selected_features(pipelines, df_X_train, y_train, ai_names_sorted_dt, ten_folds, scoring)"
      ]
    },
    {
      "cell_type": "markdown",
      "metadata": {
        "id": "ZA7CUkFGsBMA"
      },
      "source": [
        "####TO BE DELETED"
      ]
    },
    {
      "cell_type": "code",
      "execution_count": null,
      "metadata": {
        "id": "g5XsR1B-rCN-"
      },
      "outputs": [],
      "source": [
        "# et_feature_importances = ExtraTreesClassifier(n_estimators=num_trees, max_features=max_features)\n",
        "# rf_feature_importances = RandomForestClassifier(n_estimators=num_trees, max_features=max_features)\n",
        "# gb_feature_importances = GradientBoostingClassifier(n_estimators=num_trees)\n",
        "# dt_feature_importances = DecisionTreeClassifier()\n",
        "\n",
        "# et_feature_importances = et_feature_importances.fit(X_train, y_train)\n",
        "# rf_feature_importances = rf_feature_importances.fit(X_train, y_train)\n",
        "# gb_feature_importances = gb_feature_importances.fit(X_train, y_train)\n",
        "# dt_feature_importances = dt_feature_importances.fit(X_train, y_train)\n",
        "\n",
        "# ai_names_sorted_et = get_features_name_sorted_from_feature_importances(df_X_train, et_feature_importances)\n",
        "# ai_names_sorted_rf = get_features_name_sorted_from_feature_importances(df_X_train, rf_feature_importances)\n",
        "# ai_names_sorted_gb = get_features_name_sorted_from_feature_importances(df_X_train, gb_feature_importances)\n",
        "# ai_names_sorted_dt = get_features_name_sorted_from_feature_importances(df_X_train, dt_feature_importances)"
      ]
    },
    {
      "cell_type": "code",
      "execution_count": null,
      "metadata": {
        "id": "YRgT0g-6yjwq"
      },
      "outputs": [],
      "source": [
        "# np.random.seed(seed)\n",
        "# ai_pip_names_4_et, ai_pip_results_4_et, ai_pip_names_7_et, ai_pip_results_7_et, ai_pip_names_10_et, ai_pip_results_10_et = cross_validation_with_selected_features(pipelines, df_X_train, y_train, ai_names_sorted_et, ten_folds, scoring)"
      ]
    },
    {
      "cell_type": "code",
      "execution_count": null,
      "metadata": {
        "id": "AYEY-UVXyDUq"
      },
      "outputs": [],
      "source": [
        "# eval_metric_mean_std_plot(ai_pip_results_4_et, ai_pip_names_4_et)"
      ]
    },
    {
      "cell_type": "code",
      "execution_count": null,
      "metadata": {
        "id": "ExFiZOQ_8umU"
      },
      "outputs": [],
      "source": [
        "# eval_metric_mean_std_plot(ai_pip_results_7_et, ai_pip_names_7_et)"
      ]
    },
    {
      "cell_type": "code",
      "execution_count": null,
      "metadata": {
        "id": "tA-Xr4iS8u62"
      },
      "outputs": [],
      "source": [
        "# eval_metric_mean_std_plot(ai_pip_results_10_et, ai_pip_names_10_et)"
      ]
    },
    {
      "cell_type": "code",
      "execution_count": null,
      "metadata": {
        "id": "4z8uQPfS80b4"
      },
      "outputs": [],
      "source": [
        "# np.random.seed(seed)\n",
        "# ai_pip_names_4_rf, ai_pip_results_4_rf, ai_pip_names_7_rf, ai_pip_results_7_rf, ai_pip_names_10_rf, ai_pip_results_10_rf = cross_validation_with_selected_features(pipelines, df_X_train, y_train, ai_names_sorted_rf, ten_folds, scoring)"
      ]
    },
    {
      "cell_type": "code",
      "execution_count": null,
      "metadata": {
        "id": "vOGpIQUk88j8"
      },
      "outputs": [],
      "source": [
        "# eval_metric_mean_std_plot(ai_pip_results_4_rf, ai_pip_names_4_rf)"
      ]
    },
    {
      "cell_type": "code",
      "execution_count": null,
      "metadata": {
        "id": "JtAo0RaA884t"
      },
      "outputs": [],
      "source": [
        "# eval_metric_mean_std_plot(ai_pip_results_7_rf, ai_pip_names_7_rf)"
      ]
    },
    {
      "cell_type": "code",
      "execution_count": null,
      "metadata": {
        "id": "aNd2OWVN89D7"
      },
      "outputs": [],
      "source": [
        "# eval_metric_mean_std_plot(ai_pip_results_10_rf, ai_pip_names_10_rf)"
      ]
    },
    {
      "cell_type": "code",
      "execution_count": null,
      "metadata": {
        "id": "0koqBT5v9Dna"
      },
      "outputs": [],
      "source": [
        "# np.random.seed(seed)\n",
        "# ai_pip_names_4_gb, ai_pip_results_4_gb, ai_pip_names_7_gb, ai_pip_results_7_gb, ai_pip_names_10_gb, ai_pip_results_10_gb = cross_validation_with_selected_features(pipelines, df_X_train, y_train, ai_names_sorted_gb, ten_folds, scoring)"
      ]
    },
    {
      "cell_type": "code",
      "execution_count": null,
      "metadata": {
        "id": "pQ-Nn0Vx9VVf"
      },
      "outputs": [],
      "source": [
        "# eval_metric_mean_std_plot(ai_pip_results_4_gb, ai_pip_names_4_gb)"
      ]
    },
    {
      "cell_type": "code",
      "execution_count": null,
      "metadata": {
        "id": "EqU5iYMG9Yrv"
      },
      "outputs": [],
      "source": [
        "# eval_metric_mean_std_plot(ai_pip_results_7_gb, ai_pip_names_7_gb)"
      ]
    },
    {
      "cell_type": "code",
      "execution_count": null,
      "metadata": {
        "id": "WlmWzBEt9bJ3"
      },
      "outputs": [],
      "source": [
        "# eval_metric_mean_std_plot(ai_pip_results_10_gb, ai_pip_names_10_gb)"
      ]
    },
    {
      "cell_type": "code",
      "execution_count": null,
      "metadata": {
        "id": "-OJ2Lq1g9diM"
      },
      "outputs": [],
      "source": [
        "# np.random.seed(seed)\n",
        "# ai_pip_names_4_dt, ai_pip_results_4_dt, ai_pip_names_7_dt, ai_pip_results_7_dt, ai_pip_names_10_dt, ai_pip_results_10_dt = cross_validation_with_selected_features(pipelines, df_X_train, y_train, ai_names_sorted_dt, ten_folds, scoring)"
      ]
    },
    {
      "cell_type": "code",
      "execution_count": null,
      "metadata": {
        "id": "SFlCkVL29j09"
      },
      "outputs": [],
      "source": [
        "# eval_metric_mean_std_plot(ai_pip_results_4_dt, ai_pip_names_4_dt)"
      ]
    },
    {
      "cell_type": "code",
      "execution_count": null,
      "metadata": {
        "id": "gE7A3uIl9l2Z"
      },
      "outputs": [],
      "source": [
        "# eval_metric_mean_std_plot(ai_pip_results_7_dt, ai_pip_names_7_dt)"
      ]
    },
    {
      "cell_type": "code",
      "execution_count": null,
      "metadata": {
        "id": "ZG5yEDu09nDe"
      },
      "outputs": [],
      "source": [
        "# eval_metric_mean_std_plot(ai_pip_results_10_dt, ai_pip_names_10_dt)"
      ]
    },
    {
      "cell_type": "markdown",
      "metadata": {
        "id": "Pz7MpQtTAddo"
      },
      "source": [
        "##4.2 Hyper Parameter Optimization"
      ]
    },
    {
      "cell_type": "markdown",
      "metadata": {
        "id": "iWyh0ofbS8ua"
      },
      "source": [
        "So far we trained:\n",
        "* 33 models without feature selection\n",
        "* 99 models using univariate feature selection with 3 different features set\n",
        "* 297 models using recursive feature elimination with 3 different features set and 3 different estimators\n",
        "* 396 models using attribute importance with 3 different features set and 4 different estimators\n",
        "\n",
        "This leave us with 825 trained models. We want to perform hyper parameter optimization but it isn't feasable, or even correct, to perform this proccess over all trained models. Initially we would set a recall treshold to >=0.7 and perform this process in all models that satisfy the treshold, but to keep this notebook running in an acceptable amount of time, we choose to perform the hyper parameter optimization in just the five well scored models of each set of models trained so far."
      ]
    },
    {
      "cell_type": "markdown",
      "metadata": {
        "id": "ycHywmMsZ2au"
      },
      "source": [
        "To select the five well scored models of each set of models trained, we will create a list of tuples for each set as follows:\n",
        "* Models results list without feature selection named `pipeline_data_sorted`\n",
        "* Models results list using univariate feature selection named `kbest_data`\n",
        "* Models results list using recursive feature elimination with logistic regression as estimator named `rfe_data_lr`\n",
        "* Models results list using recursive feature elimination with support machine vectors as estimator named `rfe_data_svm`\n",
        "* Models results list using recursive feature elimination with random forest as estimator named `rfe_data_rf`\n",
        "* Models results list using attribute importance with extra trees as estimator named `ai_data_et`\n",
        "* Models results list using attribute importance with random forest as estimator named `ai_data_rf`\n",
        "* Models results list using attribute importance with gradient boost as estimator named `ai_data_gb`\n",
        "* Models results list using attribute importance with decision tree as estimator named `ai_data_dt`"
      ]
    },
    {
      "cell_type": "markdown",
      "metadata": {
        "id": "1_lscNoMcqT6"
      },
      "source": [
        "The tuples in each list have the following components:\n",
        "* The model name as string\n",
        "* The model recall mean as float\n",
        "* The model recall standard deviation as float\n",
        "* The model feature selection approach as string\n",
        "* The algorithm instance\n",
        "* The list of features selected as a list of strings"
      ]
    },
    {
      "cell_type": "markdown",
      "metadata": {
        "id": "0i5VnTgXeDJT"
      },
      "source": [
        "In the cells below we perform the logic just explained:"
      ]
    },
    {
      "cell_type": "code",
      "execution_count": null,
      "metadata": {
        "id": "e5ge63Xvagwb"
      },
      "outputs": [],
      "source": [
        "# Converting pipelines to dict so we can access the algorithm object by 'name'\n",
        "pipelines_as_dict = dict(pipelines)"
      ]
    },
    {
      "cell_type": "markdown",
      "metadata": {
        "id": "6sZCjz9FfPp3"
      },
      "source": [
        "The code comments in the cell below are applicable for the next similar cells where we create the lists. As the logic is the same, for a cleaner code, we will suppress the comments in the next cells we create the lists."
      ]
    },
    {
      "cell_type": "code",
      "execution_count": null,
      "metadata": {
        "id": "VpfY_fBLIaHK"
      },
      "outputs": [],
      "source": [
        "# Creating the list of tuple from models names and results list\n",
        "pipeline_data = [(name, np.mean(arr), np.std(arr), 'none', pipelines_as_dict[name], ['']) for name, arr in zip(pip_names, pip_results)]\n",
        "\n",
        "# Sorting list by recall mean in descending order\n",
        "pipeline_data_sorted = sorted(pipeline_data, key=lambda x: x[1], reverse=True)"
      ]
    },
    {
      "cell_type": "code",
      "execution_count": null,
      "metadata": {
        "id": "UB_Jp9fgAhMi"
      },
      "outputs": [],
      "source": [
        "kbest_data =  [(name, np.mean(results), np.std(results), 'select_kbest_4',  pipelines_as_dict[name], kbst_feature_names_sorted) for name, results in zip(kbst_pip_names_4,  kbst_pip_results_4)]\n",
        "kbest_data += [(name, np.mean(results), np.std(results), 'select_kbest_7',  pipelines_as_dict[name], kbst_feature_names_sorted) for name, results in zip(kbst_pip_names_7,  kbst_pip_results_7)]\n",
        "kbest_data += [(name, np.mean(results), np.std(results), 'select_kbest_10', pipelines_as_dict[name], kbst_feature_names_sorted) for name, results in zip(kbst_pip_names_10, kbst_pip_results_10)]\n",
        "\n",
        "kbest_data_sorted = sorted(kbest_data, key=lambda x: x[1], reverse=True)"
      ]
    },
    {
      "cell_type": "code",
      "execution_count": null,
      "metadata": {
        "id": "rsGd3GjYF6M-"
      },
      "outputs": [],
      "source": [
        "rfe_data_lr =  [(name, np.mean(results), np.std(results), 'rfe_lr_4',  pipelines_as_dict[name], rfe_features_names_lr) for name, results in zip(rfe_pip_names_4_lr,  rfe_pip_results_4_lr)]\n",
        "rfe_data_lr += [(name, np.mean(results), np.std(results), 'rfe_lr_7',  pipelines_as_dict[name], rfe_features_names_lr) for name, results in zip(rfe_pip_names_7_lr,  rfe_pip_results_7_lr)]\n",
        "rfe_data_lr += [(name, np.mean(results), np.std(results), 'rfe_lr_10', pipelines_as_dict[name], rfe_features_names_lr) for name, results in zip(rfe_pip_names_10_lr, rfe_pip_results_10_lr)]\n",
        "\n",
        "rfe_data_lr_sorted = sorted(rfe_data_lr, key=lambda x: x[1], reverse=True)"
      ]
    },
    {
      "cell_type": "code",
      "execution_count": null,
      "metadata": {
        "id": "YH9RhfB2KGfX"
      },
      "outputs": [],
      "source": [
        "rfe_data_svm =  [(name, np.mean(results), np.std(results), 'rfe_svm_4',  pipelines_as_dict[name], rfe_features_names_svm) for name, results in zip(rfe_pip_names_4_svm,  rfe_pip_results_4_svm)]\n",
        "rfe_data_svm += [(name, np.mean(results), np.std(results), 'rfe_svm_7',  pipelines_as_dict[name], rfe_features_names_svm) for name, results in zip(rfe_pip_names_7_svm,  rfe_pip_results_7_svm)]\n",
        "rfe_data_svm += [(name, np.mean(results), np.std(results), 'rfe_svm_10', pipelines_as_dict[name], rfe_features_names_svm) for name, results in zip(rfe_pip_names_10_svm, rfe_pip_results_10_svm)]\n",
        "\n",
        "rfe_data_svm_sorted = sorted(rfe_data_svm, key=lambda x: x[1], reverse=True)"
      ]
    },
    {
      "cell_type": "code",
      "execution_count": null,
      "metadata": {
        "id": "WgFk20_UKMp9"
      },
      "outputs": [],
      "source": [
        "rfe_data_rf =  [(name, np.mean(results), np.std(results), 'rfe_rf_4',  pipelines_as_dict[name], rfe_features_names_rf) for name, results in zip(rfe_pip_names_4_rf,  rfe_pip_results_4_rf)]\n",
        "rfe_data_rf += [(name, np.mean(results), np.std(results), 'rfe_rf_7',  pipelines_as_dict[name], rfe_features_names_rf) for name, results in zip(rfe_pip_names_7_rf,  rfe_pip_results_7_rf)]\n",
        "rfe_data_rf += [(name, np.mean(results), np.std(results), 'rfe_rf_10', pipelines_as_dict[name], rfe_features_names_rf) for name, results in zip(rfe_pip_names_10_rf, rfe_pip_results_10_rf)]\n",
        "\n",
        "rfe_data_rf_sorted = sorted(rfe_data_rf, key=lambda x: x[1], reverse=True)"
      ]
    },
    {
      "cell_type": "code",
      "execution_count": null,
      "metadata": {
        "id": "-nqhXxuXKQqW"
      },
      "outputs": [],
      "source": [
        "ai_data_et =  [(name, np.mean(results), np.std(results), 'ai_et_4',  pipelines_as_dict[name], ai_names_sorted_et) for name, results in zip(ai_pip_names_4_et,  ai_pip_results_4_et)]\n",
        "ai_data_et += [(name, np.mean(results), np.std(results), 'ai_et_7',  pipelines_as_dict[name], ai_names_sorted_et) for name, results in zip(ai_pip_names_7_et,  ai_pip_results_7_et)]\n",
        "ai_data_et += [(name, np.mean(results), np.std(results), 'ai_et_10', pipelines_as_dict[name], ai_names_sorted_et) for name, results in zip(ai_pip_names_10_et, ai_pip_results_10_et)]\n",
        "\n",
        "ai_data_et_sorted = sorted(ai_data_et, key=lambda x: x[1], reverse=True)"
      ]
    },
    {
      "cell_type": "code",
      "execution_count": null,
      "metadata": {
        "id": "9J9Dlq4_KdjZ"
      },
      "outputs": [],
      "source": [
        "ai_data_rf =  [(name, np.mean(results), np.std(results), 'ai_rf_4',  pipelines_as_dict[name], ai_names_sorted_rf) for name, results in zip(ai_pip_names_4_rf,  ai_pip_results_4_rf)]\n",
        "ai_data_rf += [(name, np.mean(results), np.std(results), 'ai_rf_7',  pipelines_as_dict[name], ai_names_sorted_rf) for name, results in zip(ai_pip_names_7_rf,  ai_pip_results_7_rf)]\n",
        "ai_data_rf += [(name, np.mean(results), np.std(results), 'ai_rf_10', pipelines_as_dict[name], ai_names_sorted_rf) for name, results in zip(ai_pip_names_10_rf, ai_pip_results_10_rf)]\n",
        "\n",
        "ai_data_rf_sorted = sorted(ai_data_rf, key=lambda x: x[1], reverse=True)"
      ]
    },
    {
      "cell_type": "code",
      "execution_count": null,
      "metadata": {
        "id": "aJ0ZB-12KhcH"
      },
      "outputs": [],
      "source": [
        "ai_data_gb =  [(name, np.mean(results), np.std(results), 'ai_gb_4',  pipelines_as_dict[name], ai_names_sorted_gb) for name, results in zip(ai_pip_names_4_gb,  ai_pip_results_4_gb)]\n",
        "ai_data_gb += [(name, np.mean(results), np.std(results), 'ai_gb_7',  pipelines_as_dict[name], ai_names_sorted_gb) for name, results in zip(ai_pip_names_7_gb,  ai_pip_results_7_gb)]\n",
        "ai_data_gb += [(name, np.mean(results), np.std(results), 'ai_gb_10', pipelines_as_dict[name], ai_names_sorted_gb) for name, results in zip(ai_pip_names_10_gb, ai_pip_results_10_gb)]\n",
        "\n",
        "ai_data_gb_sorted = sorted(ai_data_gb, key=lambda x: x[1], reverse=True)"
      ]
    },
    {
      "cell_type": "code",
      "execution_count": null,
      "metadata": {
        "id": "qAmaTS-cKlHJ"
      },
      "outputs": [],
      "source": [
        "ai_data_dt =  [(name, np.mean(results), np.std(results), 'ai_dt_4',  pipelines_as_dict[name], ai_names_sorted_dt) for name, results in zip(ai_pip_names_4_dt,  ai_pip_results_4_dt)]\n",
        "ai_data_dt += [(name, np.mean(results), np.std(results), 'ai_dt_7',  pipelines_as_dict[name], ai_names_sorted_dt) for name, results in zip(ai_pip_names_7_dt,  ai_pip_results_7_dt)]\n",
        "ai_data_dt += [(name, np.mean(results), np.std(results), 'ai_dt_10', pipelines_as_dict[name], ai_names_sorted_dt) for name, results in zip(ai_pip_names_10_dt, ai_pip_results_10_dt)]\n",
        "\n",
        "ai_data_dt_sorted = sorted(ai_data_dt, key=lambda x: x[1], reverse=True)"
      ]
    },
    {
      "cell_type": "markdown",
      "metadata": {
        "id": "o-YrRd9wf2AC"
      },
      "source": [
        "Now that we have all the lists created and sorted, we can select just the five best of each approach. We create a pandas dataframe with the results because it is easy to manipulate. As we can see in the cell result below, we have 45 models to perform the hyper parameter optimization."
      ]
    },
    {
      "cell_type": "code",
      "execution_count": null,
      "metadata": {
        "id": "TSU7bIV4LFFn"
      },
      "outputs": [],
      "source": [
        "# Selecting just the five first elements of each list\n",
        "best_models_selected = pipeline_data_sorted[0:5] + kbest_data_sorted[0:5] + rfe_data_lr_sorted[0:5] + rfe_data_svm_sorted[0:5] + rfe_data_rf_sorted[0:5] + ai_data_et_sorted[0:5] + ai_data_rf_sorted[0:5] + ai_data_gb_sorted[0:5] + ai_data_dt_sorted[0:5]\n",
        "\n",
        "# Creating a dataframe for a better manipulation\n",
        "df_all_models_results = pd.DataFrame(best_models_selected, columns=['name', 'mean', 'std', 'feature_selection', 'model', 'features_selected'])\n",
        "df_all_models_results"
      ]
    },
    {
      "cell_type": "markdown",
      "metadata": {
        "id": "pp3o1daEty1q"
      },
      "source": [
        "From the dataframe above we can see that the algorithms selected are:\n",
        "* Ada: adaboost\n",
        "* KNN: K neighbors\n",
        "* LR: logistic regression\n",
        "* NB: naive Bayes\n",
        "* SVM: support machine vector\n",
        "* Vot: voting"
      ]
    },
    {
      "cell_type": "markdown",
      "metadata": {
        "id": "2ELzTXKTzntN"
      },
      "source": [
        "So now we will define the dictionaries with the hyper parameters to be optimized and its corresponding values, except from naibe Bayes algorithm, which don't have hyper parameters to optimize, and voting ensamble because the main optimization should be the voting estimators."
      ]
    },
    {
      "cell_type": "code",
      "execution_count": null,
      "metadata": {
        "id": "35h6hurHLPjR"
      },
      "outputs": [],
      "source": [
        "# Logistic regression hyper parameters\n",
        "lr_param_grid = {\n",
        "    'LR__penalty': ['l1', 'l2', 'elasticnet', None],\n",
        "    'LR__C': [1, 2, 3, 4],\n",
        "    'LR__solver': ['lbfgs', 'liblinear', 'newton-cg', 'newton-cholesky', 'sag', 'saga'],\n",
        "    'LR__max_iter': [100, 200, 300, 400]\n",
        "}\n",
        "\n",
        "# Support machine vectors hyper parameters\n",
        "svm_param_grid = {\n",
        "    'SVM__kernel': ['linear', 'rbf'],\n",
        "    'SVM__C': [1, 2, 3, 4],\n",
        "    'SVM__gamma': ['scale', 'auto'],\n",
        "    'SVM__degree': [2, 3, 4, 5]\n",
        "}\n",
        "\n",
        "# K neighbors hyper parameters\n",
        "knn_param_grid = {\n",
        "    'KNN__n_neighbors': [1,3,5,7,9,11,13,15],\n",
        "    'KNN__metric': [\"euclidean\", \"manhattan\", \"minkowski\"]\n",
        "}\n",
        "\n",
        "# Adaboost hyper parameters\n",
        "ada_param_grid = {\n",
        "    'Ada__n_estimators': [50,100,150,200],\n",
        "    'Ada__learning_rate': [0.01, 0.05, 0.1, 0.5, 1]\n",
        "}\n",
        "\n",
        "# Dict of dicts for easy access through 'name'\n",
        "param_grid_dict = {\n",
        "    \"LR\": lr_param_grid,\n",
        "    \"SVM\": svm_param_grid,\n",
        "    \"KNN\": knn_param_grid,\n",
        "    \"Ada\": ada_param_grid\n",
        "}"
      ]
    },
    {
      "cell_type": "markdown",
      "metadata": {
        "id": "BBET8JhgAQfP"
      },
      "source": [
        "As our strategy for this work is to test as much as we can to find the best solution, we decided to use `GridSearchCV` for our hyper parameters optimization because it will perform an exhaustive search over the specified parameters. So we will iterate over the dataframe `df_all_models_results` created early and execute the hyper parameter optimization for each case."
      ]
    },
    {
      "cell_type": "code",
      "execution_count": null,
      "metadata": {
        "id": "KDqsuqgmSjSp"
      },
      "outputs": [],
      "source": [
        "# Defining random seed\n",
        "np.random.seed(seed)\n",
        "\n",
        "# Lists to store results\n",
        "grid_best_scores = []\n",
        "grid_best_params = []\n",
        "\n",
        "# Execute GridSearchCV according to each row in df_all_models_results\n",
        "for i, (name, mean, _, feature_selection, model, features_selected) in df_all_models_results.iterrows():\n",
        "\n",
        "  # If Voting or Naive Bayes, keep the latest result\n",
        "  if 'Vot' in name or 'NB' in name:\n",
        "    grid_best_scores.append(mean)\n",
        "    grid_best_params.append([])\n",
        "    continue\n",
        "\n",
        "  # Checking if isn't a feature selection model and getting X_train accordingly\n",
        "  if feature_selection == \"none\":\n",
        "    X_train_grid = X_train                                                        # If none feature selection was performed, keep the original X_train\n",
        "  else:\n",
        "    num_features = int(feature_selection.split('_')[2])                           # Extract from feature_selection approach label the features number for this model\n",
        "    X_train_grid = df_X_train[features_selected[:num_features]].values            # Get the X_train accordingly to the feature selection approach\n",
        "\n",
        "\n",
        "  # Executing hyper parameter optimization in the current model\n",
        "  grid = GridSearchCV(estimator=model, param_grid=param_grid_dict[name.split('-')[0]], scoring=scoring, cv=ten_folds)\n",
        "  grid.fit(X_train_grid, y_train)\n",
        "\n",
        "  # For verbose execution, uncomment the code line below\n",
        "  # print(\"%s - %s - Bes: %f using %s\" % (name, feature_selection, grid.best_score_, grid.best_params_))\n",
        "\n",
        "  # Appending results to the lists\n",
        "  grid_best_scores.append(grid.best_score_)\n",
        "  grid_best_params.append(grid.best_params_)"
      ]
    },
    {
      "cell_type": "markdown",
      "metadata": {
        "id": "s7p4fYl3xzrv"
      },
      "source": [
        "#5. Results Analysis"
      ]
    },
    {
      "cell_type": "markdown",
      "metadata": {
        "id": "6o1uiuueNDfY"
      },
      "source": [
        "In this section we will analyze our training results, we choose a bar chart for the recall cross validation mean because we want the best one on this metric. The bar chart scale ranges from 0 to 1 in a 0.1 step and is placed the left side of the chart. We also will analyze a line chart for the recall standar variation as a complement to our analysis. The line chart scale ranges from 0 to 0.2 in a 0.01 step and is placed in the right side of the chart."
      ]
    },
    {
      "cell_type": "markdown",
      "metadata": {
        "id": "e36ciFZCQ-Yy"
      },
      "source": [
        "The first results we will analyze is the training made without any feature selection or hyper parameter optimization. It is possible to note that the linear regression classifier with the original dataset was the best one, with a recall mean over 0.8 and a standard deviation close to 0.085, the lower standard deviation observed in this set. So the logistic regression classifier using the original dataset is a strong candidate to our final model."
      ]
    },
    {
      "cell_type": "markdown",
      "metadata": {
        "id": "cNbhJX0PSGn4"
      },
      "source": [
        "Obs: for a verbose print of the results uncomment the lines 41 and 42 of the `eval_metric_mean_std_plot` function in section 3.1.5.1"
      ]
    },
    {
      "cell_type": "code",
      "execution_count": null,
      "metadata": {
        "id": "ojuYb4rryaZR"
      },
      "outputs": [],
      "source": [
        "eval_metric_mean_std_plot(pip_results, pip_names)"
      ]
    },
    {
      "cell_type": "markdown",
      "metadata": {
        "id": "t-QSEbVayogP"
      },
      "source": [
        "## 5.1 Feature Selection"
      ]
    },
    {
      "cell_type": "markdown",
      "metadata": {
        "id": "inE_ausqVAGg"
      },
      "source": [
        "In this section we present the results for the models set trained with the features got from different features selection proccess."
      ]
    },
    {
      "cell_type": "markdown",
      "metadata": {
        "id": "2fXGBO2Jy2y_"
      },
      "source": [
        "###5.1.1 Univariate Feature Selection using SelectKBest"
      ]
    },
    {
      "cell_type": "markdown",
      "metadata": {
        "id": "tiC0qJZSS4St"
      },
      "source": [
        "The first feature selection result to analyze is the univariate feature selection using the ANOVA F-value test. We will start analyzing the results using just 4 features, which are `thal`, `cp`, `ca` and `exang`.\n",
        "\n",
        "This first result is strange. Several models resulted in the same cross validation recall mean and the same standard variation. We will not consider these models as valid for our final model candidates. It is required an investigation to understand why this set has present this result pattern."
      ]
    },
    {
      "cell_type": "code",
      "execution_count": null,
      "metadata": {
        "id": "3qYCSEuZyixg"
      },
      "outputs": [],
      "source": [
        "print(kbst_feature_names_sorted[0:4])\n",
        "eval_metric_mean_std_plot(kbst_pip_results_4,  kbst_pip_names_4)"
      ]
    },
    {
      "cell_type": "markdown",
      "metadata": {
        "id": "OIQlsWBDUdNo"
      },
      "source": [
        "The next result become reliable again, since the same cross validation recall mean and standard variation are no present anymore. Here we are analyzing the models results using the 7 best features by adding `oldpeak`, `thalach` and `slope` to our selected features list. In this case, we noticed that all versions of the Naive Bayes model (using original, standardized and normalized dataset) has presented the same cross validation racall mean and standard variation. Therefore, we can conclude that this algorithm is not very sensitive to data transformation such as standardization and normalization. These algorithm, aswell as linear regression using normalized dataset, are good candidates to our final model."
      ]
    },
    {
      "cell_type": "code",
      "execution_count": null,
      "metadata": {
        "id": "stV-x7Xoyk1R"
      },
      "outputs": [],
      "source": [
        "print(kbst_feature_names_sorted[0:7])\n",
        "eval_metric_mean_std_plot(kbst_pip_results_7,  kbst_pip_names_7)"
      ]
    },
    {
      "cell_type": "markdown",
      "metadata": {
        "id": "0vJKPqu7ZPsL"
      },
      "source": [
        "By adding `sex`, `age`, `restecg` to our list of features selected, we noticed that the K Neighbors algorithm using a normalized dataset become a good option too for our final model candidate."
      ]
    },
    {
      "cell_type": "code",
      "execution_count": null,
      "metadata": {
        "id": "YaQpSCs_ynhy"
      },
      "outputs": [],
      "source": [
        "print(kbst_feature_names_sorted[0:10])\n",
        "eval_metric_mean_std_plot(kbst_pip_results_10, kbst_pip_names_10)"
      ]
    },
    {
      "cell_type": "markdown",
      "metadata": {
        "id": "S2II9AP0y-GB"
      },
      "source": [
        "###5.1.2 Recursive Feature Elimination"
      ]
    },
    {
      "cell_type": "markdown",
      "metadata": {
        "id": "tjeSOXL7aGwe"
      },
      "source": [
        "In this section we will analyze the results using the features selected by recursive feature elimination using three different estimators"
      ]
    },
    {
      "cell_type": "markdown",
      "metadata": {
        "id": "Kq-vZDOBzXNj"
      },
      "source": [
        "####5.1.2.1 Logistic Regression Estimator"
      ]
    },
    {
      "cell_type": "markdown",
      "metadata": {
        "id": "GcnjG-MQaXrN"
      },
      "source": [
        "Using the 4 best features (`sex`, `exang`, `slope` and `ca`) with logistic regression as recusrive feature elimination estimator, the results has presented the same strange pattern as univariate feature selection with 4 features. Now we start to presume that 4 features may not be enough to modeling the problem we are working on. This results will not be considered aswell to our final model candidate."
      ]
    },
    {
      "cell_type": "code",
      "execution_count": null,
      "metadata": {
        "id": "uuYyEAeLziTa"
      },
      "outputs": [],
      "source": [
        "print(rfe_features_names_lr[0:4])\n",
        "eval_metric_mean_std_plot(rfe_pip_results_4_lr, rfe_pip_names_4_lr)"
      ]
    },
    {
      "cell_type": "markdown",
      "metadata": {
        "id": "TRRF6nBubt8Q"
      },
      "source": [
        "By adding `cp`, `fbs` and `thal` to our features selected list, we got a reliable result again. As the worst model in this case has presented a cross validation recall mean higher than 0.7, we can think that this may be the best features set to train the models. But, all models performin so well as in this case could lead us to keep some suspect on this results reliability. The standard deviation here is what made us assume that this results are reliable.\n",
        "\n",
        "Also, is important to note that even the models has performed well, we got highers standard deviation, what could not be good to our final model candidate."
      ]
    },
    {
      "cell_type": "code",
      "execution_count": null,
      "metadata": {
        "id": "zZpoxiI2znY5"
      },
      "outputs": [],
      "source": [
        "print(rfe_features_names_lr[0:7])\n",
        "eval_metric_mean_std_plot(rfe_pip_results_7_lr, rfe_pip_names_7_lr)"
      ]
    },
    {
      "cell_type": "markdown",
      "metadata": {
        "id": "cWgE1GKvdcC8"
      },
      "source": [
        "Our final features selected list for logistic regression estimator includes `restecg`, `thalach` and `oldpeak` to our selected features list. Now we noticed that the standard deviations presented here are lower than the last results presented. This lead us to think that more features make our models more precise, an analysis on precision evaluation score could answer this hipotesis. But here we can observe that Naive Bayes keep being a good final model candidate."
      ]
    },
    {
      "cell_type": "code",
      "execution_count": null,
      "metadata": {
        "id": "rqFtp0sBzpLv"
      },
      "outputs": [],
      "source": [
        "print(rfe_features_names_lr[0:10])\n",
        "eval_metric_mean_std_plot(rfe_pip_results_10_lr, rfe_pip_names_10_lr)"
      ]
    },
    {
      "cell_type": "markdown",
      "metadata": {
        "id": "i13ODdhszzkm"
      },
      "source": [
        "####5.1.2.2 SVM Estimator"
      ]
    },
    {
      "cell_type": "markdown",
      "metadata": {
        "id": "i39lIH3Hetdm"
      },
      "source": [
        "Now we change the recursive feature elimination estimator from logistic regression to support machine vectors. By analyzing the features selected list, we noticed that is the same as logistic regression estimator with 4 features selected. So the analysis is the same, the results are not reliable and will not be considered to our final model candidate."
      ]
    },
    {
      "cell_type": "code",
      "execution_count": null,
      "metadata": {
        "id": "obJHiPfvz4fW"
      },
      "outputs": [],
      "source": [
        "print(rfe_features_names_svm[0:4])\n",
        "eval_metric_mean_std_plot(rfe_pip_results_4_svm, rfe_pip_names_4_svm)"
      ]
    },
    {
      "cell_type": "markdown",
      "metadata": {
        "id": "dq7Th4jZfZNI"
      },
      "source": [
        "By analyzing the list for 7 features selected using support machine vectors as estimator, we noticed that, again, is the same as presented by the logistic regression estimator. So the analysis is the same."
      ]
    },
    {
      "cell_type": "code",
      "execution_count": null,
      "metadata": {
        "id": "3UY1varJz7wP"
      },
      "outputs": [],
      "source": [
        "print(rfe_features_names_svm[0:7])\n",
        "eval_metric_mean_std_plot(rfe_pip_results_7_svm, rfe_pip_names_7_svm)"
      ]
    },
    {
      "cell_type": "markdown",
      "metadata": {
        "id": "JdbVqY83jAon"
      },
      "source": [
        "The list of 10 features selected by the support machine vectors estimator adds `trestbps`, `restecg` and `oldpeak`. The difference between the list provided by support machine vectors estimator and the list provided by logistic regression estimator is that now we have `trestbps` instead of `thalach` in our features selected list. Here what comes to light is that support machine vector algorithm using a standardized dataset was extremely penalized by the feature change. Also, the Naive Bayes algorithm was penalized, since it was the best algorithm with `thalach` in the feature selected list and now it drops position leaving the first two to adaboost with normalized dataset and support machine vector with standardized dataset."
      ]
    },
    {
      "cell_type": "code",
      "execution_count": null,
      "metadata": {
        "id": "UAk9O_faz_Ey"
      },
      "outputs": [],
      "source": [
        "print(rfe_features_names_svm[0:10])\n",
        "eval_metric_mean_std_plot(rfe_pip_results_10_svm, rfe_pip_names_10_svm)"
      ]
    },
    {
      "cell_type": "markdown",
      "metadata": {
        "id": "3gKyNUl50Wnp"
      },
      "source": [
        "####5.1.2.3 Random Forest Estimator"
      ]
    },
    {
      "cell_type": "markdown",
      "metadata": {
        "id": "2elGrmvRniD2"
      },
      "source": [
        "The random forest estimator for recursive feature elimination is the first one that presented reliable results by using 4 features, which are `age`, `cp`, `thalach` and `thal`. But even so the cross validation recall mean is not that close to 0.8 as the results prasented by latests tests. So these models may not become a good option for our final model candidate."
      ]
    },
    {
      "cell_type": "code",
      "execution_count": null,
      "metadata": {
        "id": "srq3SX-F0d03"
      },
      "outputs": [],
      "source": [
        "print(rfe_features_names_rf[0:4])\n",
        "eval_metric_mean_std_plot(rfe_pip_results_4_rf, rfe_pip_names_4_rf)"
      ]
    },
    {
      "cell_type": "markdown",
      "metadata": {
        "id": "zUX7uYg3pgZI"
      },
      "source": [
        "By adding `trestbps`, `oldpeak` and `ca` to our seletected features list, we noticed that the Naive Bayes had the best performance again, but presented the higher standard deviation, what we understand as a red flag. Since we are working in a heart disease problem, a model with lower standard deviation is desirable."
      ]
    },
    {
      "cell_type": "code",
      "execution_count": null,
      "metadata": {
        "id": "Psd2H7JD0hAK"
      },
      "outputs": [],
      "source": [
        "print(rfe_features_names_rf[0:7])\n",
        "eval_metric_mean_std_plot(rfe_pip_results_7_rf, rfe_pip_names_7_rf)"
      ]
    },
    {
      "cell_type": "markdown",
      "metadata": {
        "id": "MwqiNbjOrAWu"
      },
      "source": [
        "By adding `ca`, `chol` and `exang` to our features selected list, we noticed a good improvment in the results. We improved the performance of Naive Bayes and decreased the standard deviation. These models is preferred over the last ones."
      ]
    },
    {
      "cell_type": "code",
      "execution_count": null,
      "metadata": {
        "id": "brVTNx4E0jwH"
      },
      "outputs": [],
      "source": [
        "print(rfe_features_names_rf[0:10])\n",
        "eval_metric_mean_std_plot(rfe_pip_results_10_rf, rfe_pip_names_10_rf)"
      ]
    },
    {
      "cell_type": "markdown",
      "metadata": {
        "id": "tpFtaAWh3XbC"
      },
      "source": [
        "###5.1.3 Attribute Importace"
      ]
    },
    {
      "cell_type": "markdown",
      "metadata": {
        "id": "0ZQ1XgeHsz5S"
      },
      "source": [
        "In this section we will analyze another feature selection approach, the attribute importance using four different estimators"
      ]
    },
    {
      "cell_type": "markdown",
      "metadata": {
        "id": "an-9tzaE3tE1"
      },
      "source": [
        "####5.1.3.1 Extra Trees Classifier"
      ]
    },
    {
      "cell_type": "markdown",
      "metadata": {
        "id": "gXAHg_XEtNxy"
      },
      "source": [
        "First, using extra trees classifier with the 4 best selected features, which are `thal`, `cp`, `ca` and `thalac`, we notice that pattern that is not reliable. So these models will not be considered to our final model candidate."
      ]
    },
    {
      "cell_type": "code",
      "execution_count": null,
      "metadata": {
        "id": "3aOlQiVH3i-C"
      },
      "outputs": [],
      "source": [
        "print(ai_names_sorted_et[0:4])\n",
        "eval_metric_mean_std_plot(ai_pip_results_4_et, ai_pip_names_4_et)"
      ]
    },
    {
      "cell_type": "markdown",
      "metadata": {
        "id": "K4_RKVpftjAw"
      },
      "source": [
        "By addin `exang`, `oldpeak` and `age` to our selected features list, we noticed that the results are reliable now, with a good performance and standad deviation for Naive Bayes and logistic regression. These models will be considered to our final models candidate."
      ]
    },
    {
      "cell_type": "code",
      "execution_count": null,
      "metadata": {
        "id": "Zo9_LNXC3l7v"
      },
      "outputs": [],
      "source": [
        "print(ai_names_sorted_et[0:7])\n",
        "eval_metric_mean_std_plot(ai_pip_results_7_et, ai_pip_names_7_et)"
      ]
    },
    {
      "cell_type": "markdown",
      "metadata": {
        "id": "C5ro2_WvuKTW"
      },
      "source": []
    },
    {
      "cell_type": "markdown",
      "metadata": {
        "id": "uCuJi1POuPU4"
      },
      "source": [
        "By adding `chol`, `trestbps` and `sex` to our selected features list, we noticed a improvment on Naive Bayes performance with a higher cross validation recall mean and lower standard deviation. We are now understanding that Neive Bayes benefits from a bigger list of selected features."
      ]
    },
    {
      "cell_type": "code",
      "execution_count": null,
      "metadata": {
        "id": "mKAgPWez3o4D"
      },
      "outputs": [],
      "source": [
        "print(ai_names_sorted_et[0:10])\n",
        "eval_metric_mean_std_plot(ai_pip_results_10_et, ai_pip_names_10_et)"
      ]
    },
    {
      "cell_type": "markdown",
      "metadata": {
        "id": "xJHDLWzT3r8G"
      },
      "source": [
        "####5.1.3.2 Random Forest Classifier"
      ]
    },
    {
      "cell_type": "markdown",
      "metadata": {
        "id": "Dtho2W_Ku3gI"
      },
      "source": [
        "Again, even that we changed from univariate feature elimination to attribute importance feature selection, the random forest estimator is the first one to present reliable results with the 4 best selected features, which are `thal`, `cp`, `oldpeak` and `ca`. But different from the last feature selection approach, this one has presented a better performance and can be considered a good option to our final model candidate."
      ]
    },
    {
      "cell_type": "code",
      "execution_count": null,
      "metadata": {
        "id": "lsFohX7Q3saQ"
      },
      "outputs": [],
      "source": [
        "print(ai_names_sorted_rf[0:4])\n",
        "eval_metric_mean_std_plot(ai_pip_results_4_rf, ai_pip_names_4_rf)"
      ]
    },
    {
      "cell_type": "markdown",
      "metadata": {
        "id": "ExzhO-Tzvs2U"
      },
      "source": [
        "By adding `age`, `thalach` and `trestbps` the our features selected list, we noticed an improvment on Naive Bayes performance with the same standard deviation. Actually, the better models in this set has presented similars standard deviation. We think that a better understand on why the standard deviations are close is needed."
      ]
    },
    {
      "cell_type": "code",
      "execution_count": null,
      "metadata": {
        "id": "maLKt-Tz4AN4"
      },
      "outputs": [],
      "source": [
        "print(ai_names_sorted_rf[0:7])\n",
        "eval_metric_mean_std_plot(ai_pip_results_7_rf, ai_pip_names_7_rf)"
      ]
    },
    {
      "cell_type": "markdown",
      "metadata": {
        "id": "kChuOER5wp2H"
      },
      "source": [
        "By addint `chol`, `sex` and `exang` to our feature selected list, we noticed that the Naive Bayes performance is now over 0.8, reinforcing our thoughs that Naive Bayes benefits from a feature selected list of 10 features."
      ]
    },
    {
      "cell_type": "code",
      "execution_count": null,
      "metadata": {
        "id": "kSTw-5Cs4PnR"
      },
      "outputs": [],
      "source": [
        "print(ai_names_sorted_rf[0:10])\n",
        "eval_metric_mean_std_plot(ai_pip_results_10_rf, ai_pip_names_10_rf)"
      ]
    },
    {
      "cell_type": "markdown",
      "metadata": {
        "id": "Rpsheu-d4VGN"
      },
      "source": [
        "####5.1.3.3 Gradient Boost Classifier"
      ]
    },
    {
      "cell_type": "markdown",
      "metadata": {
        "id": "79RX7dGl0YZf"
      },
      "source": [
        "When using gradient boost as classifier for the attribute importance, we got a reulst pattern similar to later results with 4 faetures. In this case the models were trained using `thal`, `cp`, `ca` and `oldpeak` feature selected list. As said before, results with this pattern will not be considered to our final model candidate."
      ]
    },
    {
      "cell_type": "code",
      "execution_count": null,
      "metadata": {
        "id": "4uq56brp4Zbl"
      },
      "outputs": [],
      "source": [
        "print(ai_names_sorted_gb[0:4])\n",
        "eval_metric_mean_std_plot(ai_pip_results_4_gb, ai_pip_names_4_gb)"
      ]
    },
    {
      "cell_type": "markdown",
      "metadata": {
        "id": "HdJx6WNX1SbW"
      },
      "source": [
        "By adding `age`, `thalach` and `trestbps` to our features selected list, we can observe now a reliable result pattern. Here Naive Bayes presents the best performance again, followed by logistic regression. But again all these models presented similar standard deviation, so a better understand of this behavior is needed to ensure that the results are reliable."
      ]
    },
    {
      "cell_type": "code",
      "execution_count": null,
      "metadata": {
        "id": "_qMhaPPd4cb5"
      },
      "outputs": [],
      "source": [
        "print(ai_names_sorted_gb[0:7])\n",
        "eval_metric_mean_std_plot(ai_pip_results_7_gb, ai_pip_names_7_gb)"
      ]
    },
    {
      "cell_type": "code",
      "execution_count": null,
      "metadata": {
        "id": "XR-1NLDw4gIu"
      },
      "outputs": [],
      "source": [
        "print(ai_names_sorted_gb[0:10])\n",
        "eval_metric_mean_std_plot(ai_pip_results_10_gb, ai_pip_names_10_gb)"
      ]
    },
    {
      "cell_type": "markdown",
      "metadata": {
        "id": "HxdZTdOQ4kf2"
      },
      "source": [
        "####5.1.3.4 Decision Tree Classifier"
      ]
    },
    {
      "cell_type": "code",
      "execution_count": null,
      "metadata": {
        "id": "inQBcFv44pWC"
      },
      "outputs": [],
      "source": [
        "eval_metric_mean_std_plot(ai_pip_results_4_dt, ai_pip_names_4_dt)"
      ]
    },
    {
      "cell_type": "code",
      "execution_count": null,
      "metadata": {
        "id": "MH3Q0QM64sZf"
      },
      "outputs": [],
      "source": [
        "eval_metric_mean_std_plot(ai_pip_results_7_dt, ai_pip_names_7_dt)"
      ]
    },
    {
      "cell_type": "code",
      "execution_count": null,
      "metadata": {
        "id": "eWOqAIEu4vb4"
      },
      "outputs": [],
      "source": [
        "eval_metric_mean_std_plot(ai_pip_results_10_dt, ai_pip_names_10_dt)"
      ]
    },
    {
      "cell_type": "markdown",
      "metadata": {
        "id": "a-7WJP0yYbcB"
      },
      "source": [
        "#6. Conclusion"
      ]
    },
    {
      "cell_type": "code",
      "execution_count": null,
      "metadata": {
        "id": "_zc_NS_hiRcx"
      },
      "outputs": [],
      "source": [
        "df_all_models_results['grid_best_scores'] = grid_best_scores\n",
        "df_all_models_results['grid_best_params'] = grid_best_params\n",
        "\n",
        "df_all_models_results[['name', 'feature_selection', 'mean', 'grid_best_scores', 'grid_best_params']].sort_values(by='grid_best_scores', ascending=False).head(5)"
      ]
    },
    {
      "cell_type": "code",
      "execution_count": null,
      "metadata": {
        "id": "Oi47NF1AsP8n"
      },
      "outputs": [],
      "source": [
        "df_all_models_results[['name', 'feature_selection', 'mean', 'grid_best_scores']].sort_values(by='mean', ascending=False).head(5)"
      ]
    },
    {
      "cell_type": "code",
      "execution_count": null,
      "metadata": {
        "id": "W9tAibwpM11H"
      },
      "outputs": [],
      "source": [
        "np.random.seed(seed)\n",
        "\n",
        "# X_4_train = df_X_train[kbst_feature_names_sorted[:3]].values\n",
        "# X_4_test  = df_X_test[kbst_feature_names_sorted[:3]].values\n",
        "\n",
        "# model = GaussianNB()\n",
        "# model.fit(X_4_train, y_train)\n",
        "\n",
        "X_10_train = df_X_train[kbst_feature_names_sorted[:10]].values\n",
        "X_10_test  = df_X_test[kbst_feature_names_sorted[:10]].values\n",
        "\n",
        "# {'KNN__metric': 'euclidean', 'KNN__n_neighbors': 5}\n",
        "\n",
        "X_10_train_scaler = StandardScaler().fit(X_10_train)\n",
        "X_10_train_scaled = X_10_train_scaler.transform(X_10_train)\n",
        "\n",
        "X_10_test_scaler = StandardScaler().fit(X_10_test)\n",
        "X_10_test_scaled = X_10_test_scaler.transform(X_10_test)\n",
        "\n",
        "model = KNeighborsClassifier(n_neighbors=5, metric='euclidean')\n",
        "model.fit(X_10_train_scaled, y_train)\n",
        "\n",
        "predictions = model.predict(X_10_test_scaled)\n",
        "print(recall_score(y_test, predictions))"
      ]
    },
    {
      "cell_type": "code",
      "execution_count": null,
      "metadata": {
        "id": "GmGh-6ewGXRA"
      },
      "outputs": [],
      "source": [
        "end_timestamp = datetime.datetime.now()\n",
        "\n",
        "a = init_timestamp.minute\n",
        "b = end_timestamp.minute\n",
        "\n",
        "print(b - a)"
      ]
    },
    {
      "cell_type": "markdown",
      "metadata": {
        "id": "RFMGUsKEP8tH"
      },
      "source": [
        "# 7. References\n"
      ]
    },
    {
      "cell_type": "markdown",
      "metadata": {
        "id": "4oPCqFWeQJ_R"
      },
      "source": [
        "Janosi,Andras, Steinbrunn,William, Pfisterer,Matthias, and Detrano,Robert. (1988). Heart Disease. UCI Machine Learning Repository. https://doi.org/10.24432/C52P4X."
      ]
    },
    {
      "cell_type": "markdown",
      "metadata": {
        "id": "e7fEbCINCOLx"
      },
      "source": [
        "[What is pip, Getting Started with Python pip](https://www.knowledgehut.com/blog/programming/what-is-pip-in-python), Priyankur Sarkar at upGrad KnowledgeHut - Accessed in April 24, 2024."
      ]
    }
  ],
  "metadata": {
    "colab": {
      "provenance": [],
      "toc_visible": true,
      "authorship_tag": "ABX9TyPoaZ+r50u2NBa65JuMAFbg",
      "include_colab_link": true
    },
    "kernelspec": {
      "display_name": "Python 3",
      "name": "python3"
    },
    "language_info": {
      "name": "python"
    }
  },
  "nbformat": 4,
  "nbformat_minor": 0
}